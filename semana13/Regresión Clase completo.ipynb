{
 "cells": [
  {
   "cell_type": "markdown",
   "metadata": {},
   "source": [
    "# Regresión\n",
    "\n",
    "## Aprendizaje supervisado (II)"
   ]
  },
  {
   "cell_type": "code",
   "execution_count": null,
   "metadata": {},
   "outputs": [],
   "source": [
    "# Importación de librerías\n",
    "import pandas as pd\n",
    "import numpy as np"
   ]
  },
  {
   "cell_type": "code",
   "execution_count": null,
   "metadata": {},
   "outputs": [],
   "source": [
    "%matplotlib inline\n",
    "from matplotlib import rcParams\n",
    "rcParams['figure.dpi'] = 120\n",
    "\n",
    "# Estilo de gráficas: \n",
    "#https://matplotlib.org/3.1.0/gallery/style_sheets/style_sheets_reference.html\n",
    "plt.style.use('bmh')"
   ]
  },
  {
   "cell_type": "code",
   "execution_count": null,
   "metadata": {},
   "outputs": [],
   "source": [
    "# Importar el dataset \"Boston Housing\"\n",
    "columnas = ['CRIM', 'ZN', 'INDUS', 'CHAS', 'NOX',\n",
    "           'RM', 'AGE', 'DIS', 'RAD', 'TAX',\n",
    "           'PTRATIO', 'B', 'LSTAT', 'MEDV']\n",
    "df = pd.read_csv('housing.csv', sep = r\"\\s+\", names = columnas)\n",
    "# Separador espacio: r\"\\s+\""
   ]
  },
  {
   "cell_type": "code",
   "execution_count": null,
   "metadata": {},
   "outputs": [],
   "source": [
    "# Cinco primeros registros\n",
    "df.head()"
   ]
  },
  {
   "cell_type": "code",
   "execution_count": null,
   "metadata": {},
   "outputs": [],
   "source": [
    "# Estadísticas descriptivas\n",
    "df.describe()"
   ]
  },
  {
   "cell_type": "code",
   "execution_count": null,
   "metadata": {},
   "outputs": [],
   "source": [
    "# Diagramas de dispersión\n",
    "import matplotlib.pyplot as plt\n",
    "import seaborn as sns\n",
    "sns.pairplot(df, height = 2.5)\n",
    "plt.tight_layout()\n",
    "plt.show()"
   ]
  },
  {
   "cell_type": "code",
   "execution_count": null,
   "metadata": {},
   "outputs": [],
   "source": [
    "# Mapa de calor (correlaciones)\n",
    "plt.figure(figsize=(20,10))\n",
    "sns.heatmap(df.corr().abs(),\n",
    "           annot = True,\n",
    "           annot_kws = {'size': 10})\n",
    "plt.show()"
   ]
  },
  {
   "cell_type": "code",
   "execution_count": null,
   "metadata": {},
   "outputs": [],
   "source": [
    "# Diagramas boxplots\n",
    "fig, axs = plt.subplots(ncols = 7, nrows = 2, figsize=(20,10))\n",
    "index = 0\n",
    "axs = axs.flatten()\n",
    "for k,v in df.items():\n",
    "    sns.boxplot(y = k, data = df, ax = axs[index])\n",
    "    index += 1\n",
    "plt.tight_layout(pad = 0.4, w_pad = 0.5, h_pad = 5)"
   ]
  },
  {
   "cell_type": "code",
   "execution_count": null,
   "metadata": {},
   "outputs": [],
   "source": [
    "# Porcentaje de outliers por columna\n",
    "for k,v in df.items():\n",
    "    q1 = v.quantile(0.25) #cuartil 1\n",
    "    q3 = v.quantile(0.75) #cuartil 3\n",
    "    irq = q3 - q1 #distancia intercuartil\n",
    "    v_col = v[(v <= q1 - 1.5*irq)|(v >= q3 + 1.5*irq)]\n",
    "    perc = np.shape(v_col)[0] * 100.0 / np.shape(df)[0]\n",
    "    print('Columna %s outliers = %.2f%%' % (k,perc))"
   ]
  },
  {
   "cell_type": "code",
   "execution_count": null,
   "metadata": {},
   "outputs": [],
   "source": [
    "# Quitar las observaciones cuyo MEDV sea un outlier\n",
    "MEDV_q3 = df['MEDV'].quantile(0.75)\n",
    "MEDV_q1 = df['MEDV'].quantile(0.25)\n",
    "MEDV_irq = MEDV_q3 - MEDV_q1\n",
    "big_sup = MEDV_q3 + 1.5*MEDV_irq\n",
    "big_inf = MEDV_q1 - 1.5*MEDV_irq\n",
    "df = df[~(df['MEDV'] >= big_sup)]\n",
    "df = df[~(df['MEDV'] <= big_inf)]"
   ]
  },
  {
   "cell_type": "code",
   "execution_count": null,
   "metadata": {},
   "outputs": [],
   "source": [
    "df.shape"
   ]
  },
  {
   "cell_type": "code",
   "execution_count": null,
   "metadata": {},
   "outputs": [],
   "source": [
    "# Mapa de calor (correlaciones)\n",
    "# Mapa de calor (correlaciones)\n",
    "plt.figure(figsize=(20,10))\n",
    "sns.heatmap(df.corr().abs(),\n",
    "           annot = True,\n",
    "           annot_kws = {'size': 10})\n",
    "plt.show()"
   ]
  },
  {
   "cell_type": "code",
   "execution_count": null,
   "metadata": {},
   "outputs": [],
   "source": [
    "# Diagramas de dispersión\n",
    "cols = ['INDUS', 'NOX', 'RM', 'AGE', 'TAX', 'LSTAT', 'MEDV']\n",
    "sns.pairplot(df[cols], height = 2.5)\n",
    "plt.tight_layout()\n",
    "plt.show()"
   ]
  },
  {
   "cell_type": "markdown",
   "metadata": {},
   "source": [
    "### Regresión lineal simple\n",
    "\n",
    "Variable independiente: RM\n",
    "\n",
    "Variable dependiente: MEDV"
   ]
  },
  {
   "cell_type": "code",
   "execution_count": null,
   "metadata": {},
   "outputs": [],
   "source": [
    "# Mostrar la gráfica de regresión\n",
    "plt.figure(figsize = (18,8))\n",
    "X = df['RM']\n",
    "Y = df['MEDV']\n",
    "ax = sns.regplot(x = X, y = Y, marker = 'o')"
   ]
  },
  {
   "cell_type": "code",
   "execution_count": null,
   "metadata": {},
   "outputs": [],
   "source": [
    "# Modelo de regresión\n",
    "# Importar librería\n",
    "from sklearn.linear_model import LinearRegression\n",
    "\n",
    "# Instancia del modelo\n",
    "reg = LinearRegression()"
   ]
  },
  {
   "cell_type": "code",
   "execution_count": null,
   "metadata": {},
   "outputs": [],
   "source": [
    "# Crear los datos X, Y y dividirlos en entrenamiento y prueba\n",
    "# Importar la librería\n",
    "from sklearn.model_selection import train_test_split\n",
    "\n",
    "# Semilla de aleatorios\n",
    "np.random.seed(1234)\n",
    "\n",
    "# Crear los datos X,Y\n",
    "X = df['RM'].to_numpy().reshape(466,1) #Sólo se hace para trabajar con una columna en los datos X\n",
    "Y = df['MEDV']\n",
    "\n",
    "# División en entrenamiento y prueba\n",
    "X_train, X_test, y_train, y_test = train_test_split(X, Y, test_size = 0.3)"
   ]
  },
  {
   "cell_type": "code",
   "execution_count": null,
   "metadata": {},
   "outputs": [],
   "source": [
    "# Entrenar el modelo\n",
    "reg.fit(X_train, y_train)\n",
    "\n",
    "# Predecir los resultados para el conjunto de prueba\n",
    "y_pred = reg.predict(X_test)"
   ]
  },
  {
   "cell_type": "code",
   "execution_count": null,
   "metadata": {},
   "outputs": [],
   "source": [
    "# Importar las métricas\n",
    "from sklearn.metrics import r2_score, mean_squared_error\n",
    "\n",
    "# Métricas\n",
    "# Coeficiente de determinación\n",
    "r2 = r2_score(y_test,y_pred)\n",
    "print('Coeficiente de determinación: \\n', r2)\n",
    "\n",
    "#Error cuadrático medio\n",
    "mse = mean_squared_error(y_test,y_pred)\n",
    "print('Error cuadrático medio: \\n', mse)\n",
    "\n",
    "#RMSE\n",
    "rmse = np.sqrt(mse) # Devuelve el mse a unidades lineales\n",
    "print('Raiz de Error cuadrático medio: \\n', rmse)"
   ]
  },
  {
   "cell_type": "code",
   "execution_count": null,
   "metadata": {},
   "outputs": [],
   "source": [
    "# Coeficientes del modelo\n",
    "print('Pendiente: \\n', reg.coef_[0])\n",
    "print('intercepto: \\n', reg.intercept_)"
   ]
  },
  {
   "cell_type": "code",
   "execution_count": null,
   "metadata": {},
   "outputs": [],
   "source": [
    "# Resultado prueba\n",
    "plt.figure(figsize = (18,8))\n",
    "plt.scatter(X_test,y_test, label = 'Test data')\n",
    "plt.plot(X_test, y_pred, color = 'black', label = 'Regresión lineal')\n",
    "plt.legend()\n",
    "plt.xlabel('RM')\n",
    "plt.ylabel('MEDV')\n",
    "plt.show()"
   ]
  },
  {
   "cell_type": "markdown",
   "metadata": {},
   "source": [
    "### Regresión lineal múltiple"
   ]
  },
  {
   "cell_type": "code",
   "execution_count": null,
   "metadata": {},
   "outputs": [],
   "source": [
    "# Crear los datos X,Y\n",
    "X2 = df[cols[:-1]]\n",
    "Y2 = df['MEDV']\n",
    "\n",
    "# División en entrenamiento y prueba\n",
    "X2_train, X2_test, y2_train, y2_test = train_test_split(X2, Y2, test_size = 0.3)"
   ]
  },
  {
   "cell_type": "code",
   "execution_count": null,
   "metadata": {},
   "outputs": [],
   "source": [
    "# Instanciar el modelo\n",
    "reg2 = LinearRegression()\n",
    "\n",
    "# Entrenar el modelo\n",
    "reg2.fit(X2_train, y2_train)\n",
    "\n",
    "# Predecir los resultados para el conjunto de prueba\n",
    "y2_predict = reg2.predict(X2_test) "
   ]
  },
  {
   "cell_type": "code",
   "execution_count": null,
   "metadata": {},
   "outputs": [],
   "source": [
    "# Métricas\n",
    "# Coeficiente de determinación\n",
    "r2_2 = r2_score(y2_test,y2_predict)\n",
    "print('Coeficiente de determinación: \\n', r2_2)\n",
    "\n",
    "#Error cuadrático medio\n",
    "mse_2 = mean_squared_error(y2_test,y2_predict)\n",
    "print('Error cuadrático medio: \\n', mse_2)\n",
    "\n",
    "#RMSE\n",
    "rmse_2 = np.sqrt(mse_2) # Devuelve el mse a unidades lineales\n",
    "print('Raiz de Error cuadrático medio: \\n', rmse_2)\n"
   ]
  },
  {
   "cell_type": "code",
   "execution_count": null,
   "metadata": {},
   "outputs": [],
   "source": [
    "# Coeficientes del modelo\n",
    "print('Coeficientes: \\n', reg2.coef_)\n",
    "print('Intercepto: \\n', reg2.intercept_)"
   ]
  },
  {
   "cell_type": "markdown",
   "metadata": {},
   "source": [
    "### Regresión por árbol de decisión"
   ]
  },
  {
   "cell_type": "code",
   "execution_count": null,
   "metadata": {},
   "outputs": [],
   "source": [
    "# Importar la librería\n",
    "from sklearn.tree import DecisionTreeRegressor"
   ]
  },
  {
   "cell_type": "code",
   "execution_count": null,
   "metadata": {},
   "outputs": [],
   "source": [
    "# Regresión simple (MR vs. MEDV)\n",
    "# Instancia del modelo\n",
    "adr = DecisionTreeRegressor(max_depth = 2)"
   ]
  },
  {
   "cell_type": "code",
   "execution_count": null,
   "metadata": {},
   "outputs": [],
   "source": [
    "# Entrenar el modelo\n",
    "adr.fit(X_train,y_train)"
   ]
  },
  {
   "cell_type": "code",
   "execution_count": null,
   "metadata": {},
   "outputs": [],
   "source": [
    "# Predecir\n",
    "y3_pred = adr.predict(X_test)"
   ]
  },
  {
   "cell_type": "code",
   "execution_count": null,
   "metadata": {},
   "outputs": [],
   "source": [
    "# Métricas\n",
    "# Coeficiente de determinación\n",
    "r2_3 = r2_score(y_test,y3_pred)\n",
    "print('Coeficiente de determinación: \\n', r2_3)\n",
    "\n",
    "#Error cuadrático medio\n",
    "mse_3 = mean_squared_error(y_test,y3_pred)\n",
    "print('Error cuadrático medio: \\n', mse_3)\n",
    "\n",
    "#RMSE\n",
    "rmse_3 = np.sqrt(mse_3) # Devuelve el mse a unidades lineales\n",
    "print('Raiz de Error cuadrático medio: \\n', rmse_3)"
   ]
  },
  {
   "cell_type": "code",
   "execution_count": null,
   "metadata": {},
   "outputs": [],
   "source": [
    "# Resultado prueba\n",
    "# Resultado prueba\n",
    "plt.figure(figsize = (18,8))\n",
    "plt.scatter(X_test,y_test, label = 'Test data')\n",
    "plt.scatter(X_test, y3_pred, marker = '+', label = 'Depth = 2')\n",
    "plt.legend()\n",
    "plt.xlabel('RM')\n",
    "plt.ylabel('MEDV')\n",
    "plt.show()"
   ]
  },
  {
   "cell_type": "code",
   "execution_count": null,
   "metadata": {},
   "outputs": [],
   "source": [
    "# Regresión múltiple\n",
    "# Instancia del modelo\n",
    "adr2 = DecisionTreeRegressor()"
   ]
  },
  {
   "cell_type": "code",
   "execution_count": null,
   "metadata": {},
   "outputs": [],
   "source": [
    "# Entrenar el modelo\n",
    "adr2.fit(X2_train, y2_train)"
   ]
  },
  {
   "cell_type": "code",
   "execution_count": null,
   "metadata": {},
   "outputs": [],
   "source": [
    "# Predecir\n",
    "y4_pred = adr2.predict(X2_test)"
   ]
  },
  {
   "cell_type": "code",
   "execution_count": null,
   "metadata": {},
   "outputs": [],
   "source": [
    "# Métricas\n",
    "# Coeficiente de determinación\n",
    "r2_4 = r2_score(y2_test,y4_pred)\n",
    "print('Coeficiente de determinación: \\n', r2_4)\n",
    "\n",
    "#Error cuadrático medio\n",
    "mse_4 = mean_squared_error(y2_test,y4_pred)\n",
    "print('Error cuadrático medio: \\n', mse_4)\n",
    "\n",
    "#RMSE\n",
    "rmse_4 = np.sqrt(mse_4) # Devuelve el mse a unidades lineales\n",
    "print('Raiz de Error cuadrático medio: \\n', rmse_4)\n"
   ]
  },
  {
   "cell_type": "code",
   "execution_count": null,
   "metadata": {},
   "outputs": [],
   "source": [
    "# Importancia de cada característica\n",
    "adr2.feature_importances_"
   ]
  },
  {
   "cell_type": "code",
   "execution_count": null,
   "metadata": {},
   "outputs": [],
   "source": [
    "# Gráfica del árbol\n",
    "# Importar la librería\n",
    "import graphviz\n",
    "from sklearn.tree import export_graphviz"
   ]
  },
  {
   "cell_type": "code",
   "execution_count": null,
   "metadata": {},
   "outputs": [],
   "source": [
    "export_graphviz(adr2, \n",
    "                out_file = 'arbol.dot', \n",
    "                feature_names = cols[:-1])"
   ]
  },
  {
   "cell_type": "code",
   "execution_count": null,
   "metadata": {},
   "outputs": [],
   "source": [
    "with open('arbol.dot') as f:\n",
    "          dot_graph = f.read()\n",
    "graphviz.Source(dot_graph)"
   ]
  },
  {
   "cell_type": "code",
   "execution_count": null,
   "metadata": {},
   "outputs": [],
   "source": [
    "# Arbol como texto\n",
    "from sklearn.tree import export_text\n",
    "\n",
    "r = export_text(adr2, feature_names = cols[:-1])\n",
    "print(r)"
   ]
  },
  {
   "cell_type": "markdown",
   "metadata": {},
   "source": [
    "### Regresión por Máquinas de Soporte Vectorial"
   ]
  },
  {
   "cell_type": "code",
   "execution_count": null,
   "metadata": {},
   "outputs": [],
   "source": [
    "# Importar librerías\n",
    "from sklearn.svm import SVR\n",
    "from sklearn.svm import LinearSVR"
   ]
  },
  {
   "cell_type": "code",
   "execution_count": null,
   "metadata": {},
   "outputs": [],
   "source": [
    "# Regresión simple\n",
    "# Instanciar los modelos\n",
    "svr1 = LinearSVR() #Kernel lineal\n",
    "svr2 = SVR(kernel = 'rbf') #Kernel gaussiano"
   ]
  },
  {
   "cell_type": "code",
   "execution_count": null,
   "metadata": {},
   "outputs": [],
   "source": [
    "# Entrenar\n",
    "svr1.fit(X_train, y_train)\n",
    "svr2.fit(X_train, y_train)"
   ]
  },
  {
   "cell_type": "code",
   "execution_count": null,
   "metadata": {},
   "outputs": [],
   "source": [
    "# Predecir\n",
    "y5_pred = svr1.predict(X_test)\n",
    "y6_pred = svr2.predict(X_test)"
   ]
  },
  {
   "cell_type": "code",
   "execution_count": null,
   "metadata": {},
   "outputs": [],
   "source": [
    "# Resultado prueba\n",
    "plt.figure(figsize=(18,8))\n",
    "plt.scatter(X_test, y_test, label = 'Data')\n",
    "plt.scatter(X_test, y5_pred, marker = '+', label = 'Kernel lineal')\n",
    "plt.scatter(X_test, y6_pred, marker = '*', label = 'Kernel gaussiano')\n",
    "plt.xlabel('RM')\n",
    "plt.ylabel('MEDV')\n",
    "plt.legend()"
   ]
  },
  {
   "cell_type": "code",
   "execution_count": null,
   "metadata": {},
   "outputs": [],
   "source": [
    "# Métricas lineal\n",
    "# Coeficiente de determinación\n",
    "r2_5 = r2_score(y_test,y5_pred)\n",
    "print('Coeficiente de determinación: \\n', r2_5)\n",
    "\n",
    "#Error cuadrático medio\n",
    "mse_5 = mean_squared_error(y_test,y5_pred)\n",
    "print('Error cuadrático medio: \\n', mse_5)\n",
    "\n",
    "#RMSE\n",
    "rmse_5 = np.sqrt(mse_5) # Devuelve el mse a unidades lineales\n",
    "print('Raiz de Error cuadrático medio: \\n', rmse_5)\n"
   ]
  },
  {
   "cell_type": "code",
   "execution_count": null,
   "metadata": {},
   "outputs": [],
   "source": [
    "# Métricas gaussiano\n",
    "# Coeficiente de determinación\n",
    "r2_6 = r2_score(y_test,y6_pred)\n",
    "print('Coeficiente de determinación: \\n', r2_6)\n",
    "\n",
    "#Error cuadrático medio\n",
    "mse_6 = mean_squared_error(y_test,y6_pred)\n",
    "print('Error cuadrático medio: \\n', mse_6)\n",
    "\n",
    "#RMSE\n",
    "rmse_6 = np.sqrt(mse_6) # Devuelve el mse a unidades lineales\n",
    "print('Raiz de Error cuadrático medio: \\n', rmse_6)\n"
   ]
  },
  {
   "cell_type": "code",
   "execution_count": null,
   "metadata": {},
   "outputs": [],
   "source": [
    "# Regresión múltiple\n",
    "# Instanciar los modelos\n",
    "svr3 = LinearSVR(max_iter = 10000000) #Kernel lineal\n",
    "svr4 = SVR(kernel = 'rbf') #Kernel gaussiano"
   ]
  },
  {
   "cell_type": "code",
   "execution_count": null,
   "metadata": {},
   "outputs": [],
   "source": [
    "# Entrenar los modelos\n",
    "svr3.fit(X2_train, y2_train)\n",
    "svr4.fit(X2_train, y2_train)"
   ]
  },
  {
   "cell_type": "code",
   "execution_count": null,
   "metadata": {},
   "outputs": [],
   "source": [
    "# Predecir\n",
    "y7_pred = svr3.predict(X2_test)\n",
    "y8_pred = svr4.predict(X2_test)"
   ]
  },
  {
   "cell_type": "code",
   "execution_count": null,
   "metadata": {},
   "outputs": [],
   "source": [
    "# Métricas gaussiano\n",
    "# Coeficiente de determinación\n",
    "r2_8 = r2_score(y2_test,y8_pred)\n",
    "print('Coeficiente de determinación: \\n', r2_8)\n",
    "\n",
    "#Error cuadrático medio\n",
    "mse_8 = mean_squared_error(y2_test,y8_pred)\n",
    "print('Error cuadrático medio: \\n', mse_8)\n",
    "\n",
    "#RMSE\n",
    "rmse_8 = np.sqrt(mse_8) # Devuelve el mse a unidades lineales\n",
    "print('Raiz de Error cuadrático medio: \\n', rmse_8)"
   ]
  },
  {
   "cell_type": "code",
   "execution_count": null,
   "metadata": {},
   "outputs": [],
   "source": [
    "# Métricas lineal\n",
    "# Coeficiente de determinación\n",
    "r2_7 = r2_score(y2_test,y7_pred)\n",
    "print('Coeficiente de determinación: \\n', r2_7)\n",
    "\n",
    "#Error cuadrático medio\n",
    "mse_7 = mean_squared_error(y2_test,y7_pred)\n",
    "print('Error cuadrático medio: \\n', mse_7)\n",
    "\n",
    "#RMSE\n",
    "rmse_7 = np.sqrt(mse_7) # Devuelve el mse a unidades lineales\n",
    "print('Raiz de Error cuadrático medio: \\n', rmse_7)"
   ]
  },
  {
   "cell_type": "markdown",
   "metadata": {},
   "source": [
    "### Regresión por SGD (Gradiente Reducido Estocástico)"
   ]
  },
  {
   "cell_type": "code",
   "execution_count": null,
   "metadata": {},
   "outputs": [],
   "source": [
    "# Importar librería\n",
    "from sklearn.linear_model import SGDRegressor"
   ]
  },
  {
   "cell_type": "code",
   "execution_count": null,
   "metadata": {},
   "outputs": [],
   "source": [
    "# Regresión simple\n",
    "# Instanciar el modelo\n",
    "sgd = SGDRegressor()"
   ]
  },
  {
   "cell_type": "code",
   "execution_count": null,
   "metadata": {},
   "outputs": [],
   "source": [
    "# Entrenar\n",
    "sgd.fit(X_train, y_train)"
   ]
  },
  {
   "cell_type": "code",
   "execution_count": null,
   "metadata": {},
   "outputs": [],
   "source": [
    "# Predecir\n",
    "y9_pred = sgd.predict(X_test)"
   ]
  },
  {
   "cell_type": "code",
   "execution_count": null,
   "metadata": {},
   "outputs": [],
   "source": [
    "# Resultado prueba\n",
    "plt.figure(figsize=(18,8))\n",
    "plt.scatter(X_test, y_test, label = 'Data')\n",
    "plt.scatter(X_test, y9_pred, marker = '*', label = 'SGD')\n",
    "plt.xlabel('RM')\n",
    "plt.ylabel('MEDV')\n",
    "plt.legend()"
   ]
  },
  {
   "cell_type": "code",
   "execution_count": null,
   "metadata": {},
   "outputs": [],
   "source": [
    "# Métricas \n",
    "# Coeficiente de determinación\n",
    "r2_9 = r2_score(y_test,y9_pred)\n",
    "print('Coeficiente de determinación: \\n', r2_9)\n",
    "\n",
    "#Error cuadrático medio\n",
    "mse_9 = mean_squared_error(y_test,y9_pred)\n",
    "print('Error cuadrático medio: \\n', mse_9)\n",
    "\n",
    "#RMSE\n",
    "rmse_9 = np.sqrt(mse_9) # Devuelve el mse a unidades lineales\n",
    "print('Raiz de Error cuadrático medio: \\n', rmse_9)"
   ]
  },
  {
   "cell_type": "code",
   "execution_count": null,
   "metadata": {},
   "outputs": [],
   "source": [
    "# Regresión múltiple\n",
    "# Instanciar el modelo\n",
    "sgd2 = SGDRegressor()"
   ]
  },
  {
   "cell_type": "code",
   "execution_count": null,
   "metadata": {},
   "outputs": [],
   "source": [
    "# Entrenar\n",
    "sgd2.fit(X2_train,y2_train)"
   ]
  },
  {
   "cell_type": "code",
   "execution_count": null,
   "metadata": {},
   "outputs": [],
   "source": [
    "# Predecir\n",
    "y10_pred = sgd2.predict(X2_test)"
   ]
  },
  {
   "cell_type": "code",
   "execution_count": null,
   "metadata": {},
   "outputs": [],
   "source": [
    "# Métricas\n",
    "# Coeficiente de determinación\n",
    "r2_10 = r2_score(y2_test,y10_pred)\n",
    "print('Coeficiente de determinación: \\n', r2_10)\n",
    "\n",
    "#Error cuadrático medio\n",
    "mse_10 = mean_squared_error(y2_test,y10_pred)\n",
    "print('Error cuadrático medio: \\n', mse_10)\n",
    "\n",
    "#RMSE\n",
    "rmse_10 = np.sqrt(mse_10) # Devuelve el mse a unidades lineales\n",
    "print('Raiz de Error cuadrático medio: \\n', rmse_10)"
   ]
  },
  {
   "cell_type": "markdown",
   "metadata": {},
   "source": [
    "¿Porqué para el modelo no lineal pueden dar valores negativos de $r^2$?\n",
    "\n",
    "Para el caso general se calcula como:\n",
    "\n",
    "$$\\rho^2=1-\\frac{\\sigma^2_r}{\\sigma^2}$$\n",
    "\n",
    "Siendo $\\sigma^2_r$ la varianza residual y $\\sigma^2$ la varianza de la variable dependiente."
   ]
  },
  {
   "cell_type": "markdown",
   "metadata": {},
   "source": [
    "### Regresión por $K$ vecinos más cercanos"
   ]
  },
  {
   "cell_type": "code",
   "execution_count": null,
   "metadata": {},
   "outputs": [],
   "source": [
    "# Importar la librería\n",
    "from sklearn.neighbors import KNeighborsRegressor"
   ]
  },
  {
   "cell_type": "code",
   "execution_count": null,
   "metadata": {},
   "outputs": [],
   "source": [
    "# Seleccionar el número de vecinos (K) que minimice el MSE entre 2 y 20\n",
    "K = range(2,21)\n",
    "mse = []\n",
    "for i in K:\n",
    "    knnreg = KNeighborsRegressor(n_neighbors = i) #Instanciar modelos\n",
    "    knnreg.fit(X_train, y_train) #Entrenar\n",
    "    pred = knnreg.predict(X_test) #Predecir\n",
    "    ecm = mean_squared_error(y_test,pred)\n",
    "    mse.append(ecm)"
   ]
  },
  {
   "cell_type": "code",
   "execution_count": null,
   "metadata": {},
   "outputs": [],
   "source": [
    "# Graficar resultado\n",
    "plt.figure(figsize=(18,8))\n",
    "plt.plot(K,mse, marker = 'o')\n",
    "plt.xlabel('K')\n",
    "plt.ylabel('MSE')\n",
    "plt.plot()"
   ]
  },
  {
   "cell_type": "code",
   "execution_count": null,
   "metadata": {},
   "outputs": [],
   "source": [
    "# El menor MSE se da en K = 18\n",
    "\n",
    "# Instanciar el modelo\n",
    "knn_reg = KNeighborsRegressor(n_neighbors = 18)\n",
    "\n",
    "# Entrenar\n",
    "knn_reg.fit(X_train, y_train)\n",
    "\n",
    "# Predecir\n",
    "y11_pred = knn_reg.predict(X_test)"
   ]
  },
  {
   "cell_type": "code",
   "execution_count": null,
   "metadata": {},
   "outputs": [],
   "source": [
    "# Resultado prueba\n",
    "plt.figure(figsize=(18,8))\n",
    "plt.scatter(X_test, y_test, label = 'Data')\n",
    "plt.scatter(X_test, y11_pred, marker = '+', label = 'KNN: K = 18')\n",
    "plt.xlabel('RM')\n",
    "plt.ylabel('MEDV')\n",
    "plt.legend()"
   ]
  },
  {
   "cell_type": "code",
   "execution_count": null,
   "metadata": {},
   "outputs": [],
   "source": [
    "# Métricas \n",
    "# Coeficiente de determinación\n",
    "r2_11 = r2_score(y_test,y11_pred)\n",
    "print('Coeficiente de determinación: \\n', r2_11)\n",
    "\n",
    "#Error cuadrático medio\n",
    "mse_11 = mean_squared_error(y_test,y11_pred)\n",
    "print('Error cuadrático medio: \\n', mse_11)\n",
    "\n",
    "#RMSE\n",
    "rmse_11 = np.sqrt(mse_11) # Devuelve el mse a unidades lineales\n",
    "print('Raiz de Error cuadrático medio: \\n', rmse_11)"
   ]
  },
  {
   "cell_type": "code",
   "execution_count": null,
   "metadata": {},
   "outputs": [],
   "source": [
    "# Regresión múltiple\n",
    "# Seleccionar el número de vecinos (K) que minimice el MSE entre 2 y 20\n",
    "K2 = range(2,21)\n",
    "mse2 = []\n",
    "for i in K2:\n",
    "    knnreg = KNeighborsRegressor(n_neighbors = i) #Instanciar modelos\n",
    "    knnreg.fit(X2_train, y2_train) #Entrenar\n",
    "    pred = knnreg.predict(X2_test) #Predecir\n",
    "    ecm = mean_squared_error(y2_test,pred)\n",
    "    mse2.append(ecm)"
   ]
  },
  {
   "cell_type": "code",
   "execution_count": null,
   "metadata": {},
   "outputs": [],
   "source": [
    "# Graficar resultado\n",
    "plt.figure(figsize=(18,8))\n",
    "plt.plot(K2,mse2, marker = 'o')\n",
    "plt.xlabel('K')\n",
    "plt.ylabel('MSE')\n",
    "plt.plot()"
   ]
  },
  {
   "cell_type": "code",
   "execution_count": null,
   "metadata": {},
   "outputs": [],
   "source": [
    "# El menor MSE se da en K = 2\n",
    "\n",
    "# Instanciar el modelo\n",
    "knn_reg2 = KNeighborsRegressor(n_neighbors = 2)\n",
    "\n",
    "# Entrenar\n",
    "knn_reg2.fit(X2_train, y2_train)\n",
    "\n",
    "# Predecir\n",
    "y12_pred = knn_reg2.predict(X2_test)"
   ]
  },
  {
   "cell_type": "code",
   "execution_count": null,
   "metadata": {},
   "outputs": [],
   "source": [
    "# Métricas \n",
    "# Coeficiente de determinación\n",
    "r2_12 = r2_score(y2_test,y12_pred)\n",
    "print('Coeficiente de determinación: \\n', r2_12)\n",
    "\n",
    "#Error cuadrático medio\n",
    "mse_12 = mean_squared_error(y2_test,y12_pred)\n",
    "print('Error cuadrático medio: \\n', mse_12)\n",
    "\n",
    "#RMSE\n",
    "rmse_12 = np.sqrt(mse_12) # Devuelve el mse a unidades lineales\n",
    "print('Raiz de Error cuadrático medio: \\n', rmse_12)"
   ]
  },
  {
   "cell_type": "code",
   "execution_count": null,
   "metadata": {},
   "outputs": [],
   "source": []
  }
 ],
 "metadata": {
  "kernelspec": {
   "display_name": "Python 3",
   "language": "python",
   "name": "python3"
  },
  "language_info": {
   "codemirror_mode": {
    "name": "ipython",
    "version": 3
   },
   "file_extension": ".py",
   "mimetype": "text/x-python",
   "name": "python",
   "nbconvert_exporter": "python",
   "pygments_lexer": "ipython3",
   "version": "3.7.6"
  }
 },
 "nbformat": 4,
 "nbformat_minor": 4
}
