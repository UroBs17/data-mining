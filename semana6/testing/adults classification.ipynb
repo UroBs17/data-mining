{
 "cells": [
  {
   "cell_type": "code",
   "execution_count": 1,
   "metadata": {},
   "outputs": [],
   "source": [
    "from sklearn import datasets\n",
    "from sklearn.model_selection import train_test_split\n",
    "from sklearn.metrics import accuracy_score\n",
    "from sklearn.neighbors import KNeighborsClassifier\n",
    "from sklearn.metrics import confusion_matrix\n",
    "import numpy as np\n",
    "import matplotlib.pyplot as plt\n",
    "import pandas as pd\n",
    "\n",
    "\n",
    "dfTest = pd.read_csv(\"test.test\",header=None)\n",
    "dfTrain = pd.read_csv(\"data.data\",header=None)\n",
    "col = ['age', 'workclass', 'fnlwgt', 'education', 'education-num', 'marital-status', 'occupation', 'relationship', 'race', 'sex', 'capital-gain', 'capital-loss', 'hours-per-week', 'native-country',\"class\"]\n",
    "dfTrain.columns=col\n",
    "dfTest.columns=col\n",
    "dfTrain.replace(\" ?\",np.NaN,inplace=True)\n",
    "dfTest.replace(\" ?\",np.NaN,inplace=True)\n",
    "dfTrain.dropna(inplace=True)\n",
    "dfTest.dropna(inplace=True)"
   ]
  },
  {
   "cell_type": "code",
   "execution_count": 2,
   "metadata": {},
   "outputs": [],
   "source": [
    "for i in col:\n",
    "    if dfTrain[i].dtype!=\"int64\" and i!=\"class\":\n",
    "        dfTrain[i]=dfTrain[i].astype(\"category\")\n",
    "        dfTest[i]=dfTest[i].astype(\"category\")\n",
    "        dfTrain[i]=dfTrain[i].cat.codes\n",
    "        dfTest[i]=dfTest[i].cat.codes\n",
    "np.random.seed(1717)"
   ]
  },
  {
   "cell_type": "code",
   "execution_count": 3,
   "metadata": {},
   "outputs": [],
   "source": [
    "Xtrain, Xtest, Ytrain, Ytest=dfTrain[col[:-1]],dfTest[col[:-1]],dfTrain[col[-1]],dfTest[col[-1]]\n"
   ]
  },
  {
   "cell_type": "code",
   "execution_count": 4,
   "metadata": {},
   "outputs": [
    {
     "data": {
      "text/plain": [
       "'\\nacc=[]\\nk=[]\\nfor i in range(2,91):\\n    vec = KNeighborsClassifier(n_neighbors=i)\\n    vec.fit(Xtrain,Ytrain)\\n    Ypred = vec.predict(Xtest)\\n    acc.append(100*accuracy_score(Ytest,Ypred))\\n    k.append(i)\\n'"
      ]
     },
     "execution_count": 4,
     "metadata": {},
     "output_type": "execute_result"
    }
   ],
   "source": [
    "\"\"\"\n",
    "acc=[]\n",
    "k=[]\n",
    "for i in range(2,91):\n",
    "    vec = KNeighborsClassifier(n_neighbors=i)\n",
    "    vec.fit(Xtrain,Ytrain)\n",
    "    Ypred = vec.predict(Xtest)\n",
    "    acc.append(100*accuracy_score(Ytest,Ypred))\n",
    "    k.append(i)\n",
    "\"\"\"\n",
    "#plt.plot(k,acc)"
   ]
  },
  {
   "cell_type": "code",
   "execution_count": 10,
   "metadata": {},
   "outputs": [
    {
     "data": {
      "text/plain": [
       "0.0"
      ]
     },
     "execution_count": 10,
     "metadata": {},
     "output_type": "execute_result"
    }
   ],
   "source": [
    "vec = KNeighborsClassifier(n_neighbors=10000)\n",
    "vec.fit(Xtrain,Ytrain)\n",
    "Ypred = vec.predict(Xtest)\n",
    "100*accuracy_score(Ytest,Ypred)"
   ]
  },
  {
   "cell_type": "code",
   "execution_count": 6,
   "metadata": {},
   "outputs": [
    {
     "ename": "NameError",
     "evalue": "name 'acc' is not defined",
     "output_type": "error",
     "traceback": [
      "\u001b[1;31m---------------------------------------------------------------------------\u001b[0m",
      "\u001b[1;31mNameError\u001b[0m                                 Traceback (most recent call last)",
      "\u001b[1;32m<ipython-input-6-0a304da0f193>\u001b[0m in \u001b[0;36m<module>\u001b[1;34m\u001b[0m\n\u001b[1;32m----> 1\u001b[1;33m \u001b[0macc\u001b[0m\u001b[1;33m\u001b[0m\u001b[1;33m\u001b[0m\u001b[0m\n\u001b[0m",
      "\u001b[1;31mNameError\u001b[0m: name 'acc' is not defined"
     ]
    }
   ],
   "source": [
    "acc"
   ]
  },
  {
   "cell_type": "code",
   "execution_count": 9,
   "metadata": {},
   "outputs": [
    {
     "data": {
      "text/plain": [
       "(30162, 14)"
      ]
     },
     "execution_count": 9,
     "metadata": {},
     "output_type": "execute_result"
    }
   ],
   "source": [
    "Xtrain.shape"
   ]
  },
  {
   "cell_type": "code",
   "execution_count": null,
   "metadata": {},
   "outputs": [],
   "source": []
  }
 ],
 "metadata": {
  "kernelspec": {
   "display_name": "Python 3",
   "language": "python",
   "name": "python3"
  },
  "language_info": {
   "codemirror_mode": {
    "name": "ipython",
    "version": 3
   },
   "file_extension": ".py",
   "mimetype": "text/x-python",
   "name": "python",
   "nbconvert_exporter": "python",
   "pygments_lexer": "ipython3",
   "version": "3.7.4"
  }
 },
 "nbformat": 4,
 "nbformat_minor": 2
}
