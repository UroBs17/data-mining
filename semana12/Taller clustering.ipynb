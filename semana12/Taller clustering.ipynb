{
 "cells": [
  {
   "cell_type": "code",
   "execution_count": 1,
   "metadata": {},
   "outputs": [],
   "source": [
    "#importar librerias\n",
    "import pandas as pd\n",
    "import numpy as np\n",
    "import matplotlib.pyplot as plt\n",
    "from sklearn.cluster import KMeans, DBSCAN, AgglomerativeClustering\n",
    "from sklearn.metrics import silhouette_score"
   ]
  },
  {
   "cell_type": "code",
   "execution_count": 2,
   "metadata": {},
   "outputs": [],
   "source": [
    "#Leer excel\n",
    "df= pd.read_excel(\"Datos_VRP.xlsx\",index_col=\"i\")\n",
    "X= pd.read_excel(\"Datos_VRP.xlsx\",index_col=\"i\")"
   ]
  },
  {
   "cell_type": "code",
   "execution_count": 3,
   "metadata": {},
   "outputs": [
    {
     "data": {
      "text/plain": [
       "[<matplotlib.lines.Line2D at 0x16bbc712a88>]"
      ]
     },
     "execution_count": 3,
     "metadata": {},
     "output_type": "execute_result"
    },
    {
     "data": {
      "image/png": "[encoded data removed]",
      "text/plain": [
       "<Figure size 432x288 with 1 Axes>"
      ]
     },
     "metadata": {
      "needs_background": "light"
     },
     "output_type": "display_data"
    }
   ],
   "source": [
    "\n",
    "dist=[]\n",
    "for i in range(1,11):\n",
    "    kms=KMeans(n_clusters=i,init=\"k-means++\",n_init=10,max_iter=100)\n",
    "    kms.fit(X)\n",
    "    dist.append(kms.inertia_)\n",
    "plt.plot(range(1,11),dist,marker=\"o\")\n"
   ]
  },
  {
   "cell_type": "code",
   "execution_count": 4,
   "metadata": {},
   "outputs": [],
   "source": [
    "kmF=KMeans(n_clusters=2,init=\"k-means++\",n_init=10,max_iter=100)\n",
    "yF =kmF.fit_predict(X)\n",
    "df[\"cluster\"]=yF"
   ]
  },
  {
   "cell_type": "code",
   "execution_count": 5,
   "metadata": {},
   "outputs": [],
   "source": [
    "df.to_excel(\"labeled customer with KMeans.xlsx\")"
   ]
  },
  {
   "cell_type": "code",
   "execution_count": 6,
   "metadata": {},
   "outputs": [],
   "source": [
    "# Explorando otros algoritmos - DBSCAN\n",
    "dbscan = DBSCAN(eps=50,min_samples=2,metric=\"euclidean\")\n",
    "y_dbscan= dbscan.fit_predict(X)"
   ]
  },
  {
   "cell_type": "code",
   "execution_count": 7,
   "metadata": {},
   "outputs": [
    {
     "data": {
      "text/plain": [
       "array([ 0,  1,  2,  0,  3,  1,  1,  1,  1,  4,  1,  1,  5,  3,  1,  1,  0,\n",
       "        1,  1,  4,  1,  1,  1, -1,  6,  7,  1,  1,  1,  1,  1, -1,  8,  7,\n",
       "        0,  3,  4,  1,  3, -1,  1,  3,  4,  1,  3,  2,  8,  6, -1,  7,  1,\n",
       "        1,  1,  4,  4,  4,  1,  6,  3,  0,  1,  1,  3,  1,  3,  4,  1,  4,\n",
       "        1,  9,  1,  3,  1,  5,  1,  1,  6,  1,  1,  9,  1,  1,  8,  1,  1,\n",
       "        1,  1,  1,  6,  1,  6,  3,  9,  1,  8,  4,  4,  1,  1,  9],\n",
       "      dtype=int64)"
      ]
     },
     "execution_count": 7,
     "metadata": {},
     "output_type": "execute_result"
    }
   ],
   "source": [
    "y_dbscan"
   ]
  },
  {
   "cell_type": "code",
   "execution_count": 8,
   "metadata": {},
   "outputs": [
    {
     "data": {
      "text/plain": [
       "[<matplotlib.lines.Line2D at 0x16bbd050708>]"
      ]
     },
     "execution_count": 8,
     "metadata": {},
     "output_type": "execute_result"
    },
    {
     "data": {
      "image/png": "[encoded data removed]",
      "text/plain": [
       "<Figure size 432x288 with 1 Axes>"
      ]
     },
     "metadata": {
      "needs_background": "light"
     },
     "output_type": "display_data"
    }
   ],
   "source": [
    "# Explorando otros algoritmos - Agglomerative clustering\n",
    "sil=[]\n",
    "for i in range(2,11):\n",
    "    agg=AgglomerativeClustering(n_clusters=i,affinity=\"euclidean\",linkage=\"complete\")\n",
    "    agy= agg.fit_predict(X)\n",
    "    sil.append(silhouette_score(X,agy))\n",
    "plt.plot(range(2,11),sil,marker=\"o\")\n"
   ]
  },
  {
   "cell_type": "code",
   "execution_count": 9,
   "metadata": {},
   "outputs": [],
   "source": [
    "agg=AgglomerativeClustering(n_clusters=2,affinity=\"euclidean\",linkage=\"complete\")\n",
    "agy= agg.fit_predict(X)\n",
    "df[\"cluster\"]=agy\n",
    "df.to_excel(\"labeled customer with Agglomerative Clustering.xlsx\")"
   ]
  }
 ],
 "metadata": {
  "kernelspec": {
   "display_name": "Python 3",
   "language": "python",
   "name": "python3"
  },
  "language_info": {
   "codemirror_mode": {
    "name": "ipython",
    "version": 3
   },
   "file_extension": ".py",
   "mimetype": "text/x-python",
   "name": "python",
   "nbconvert_exporter": "python",
   "pygments_lexer": "ipython3",
   "version": "3.7.7"
  }
 },
 "nbformat": 4,
 "nbformat_minor": 4
}
