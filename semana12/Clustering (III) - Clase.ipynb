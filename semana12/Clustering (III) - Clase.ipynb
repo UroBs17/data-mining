{
 "cells": [
  {
   "cell_type": "markdown",
   "metadata": {},
   "source": [
    "# Clustering jerárquico\n",
    "## Análisis \"bottom-up\" usando algoritmo del punto más lejano"
   ]
  },
  {
   "cell_type": "code",
   "execution_count": 1,
   "metadata": {},
   "outputs": [],
   "source": [
    "# Importar librerías básicas\n",
    "import pandas as pd\n",
    "import numpy as np"
   ]
  },
  {
   "cell_type": "code",
   "execution_count": 2,
   "metadata": {},
   "outputs": [],
   "source": [
    "%matplotlib inline\n",
    "from matplotlib import rcParams\n",
    "rcParams['figure.dpi'] = 80"
   ]
  },
  {
   "cell_type": "code",
   "execution_count": 8,
   "metadata": {},
   "outputs": [],
   "source": [
    "# Generar un dataset aleatorio\n",
    "\n",
    "# Semilla de aleatorios\n",
    "\n",
    "# Variables\n",
    "var=[\"X\",\"Y\",\"Z\"]\n",
    "\n",
    "# Etiquetas\n",
    "tags=[\"ID_\"+str(i) for i in range(0,5)]\n",
    "\n",
    "# Generar muestras aleatorias continuas uniformes entre 0 y 10\n",
    "\n",
    "X=np.random.sample([5,3])*10\n",
    "# Contrucción del dataset\n",
    "df=pd.DataFrame(X,columns=var,index=tags)\n"
   ]
  },
  {
   "cell_type": "code",
   "execution_count": 9,
   "metadata": {},
   "outputs": [
    {
     "data": {
      "text/html": [
       "<div>\n",
       "<style scoped>\n",
       "    .dataframe tbody tr th:only-of-type {\n",
       "        vertical-align: middle;\n",
       "    }\n",
       "\n",
       "    .dataframe tbody tr th {\n",
       "        vertical-align: top;\n",
       "    }\n",
       "\n",
       "    .dataframe thead th {\n",
       "        text-align: right;\n",
       "    }\n",
       "</style>\n",
       "<table border=\"1\" class=\"dataframe\">\n",
       "  <thead>\n",
       "    <tr style=\"text-align: right;\">\n",
       "      <th></th>\n",
       "      <th>X</th>\n",
       "      <th>Y</th>\n",
       "      <th>Z</th>\n",
       "    </tr>\n",
       "  </thead>\n",
       "  <tbody>\n",
       "    <tr>\n",
       "      <th>ID_0</th>\n",
       "      <td>5.620603</td>\n",
       "      <td>9.149612</td>\n",
       "      <td>2.621524</td>\n",
       "    </tr>\n",
       "    <tr>\n",
       "      <th>ID_1</th>\n",
       "      <td>0.428653</td>\n",
       "      <td>1.476120</td>\n",
       "      <td>3.012395</td>\n",
       "    </tr>\n",
       "    <tr>\n",
       "      <th>ID_2</th>\n",
       "      <td>0.331739</td>\n",
       "      <td>8.565801</td>\n",
       "      <td>8.044690</td>\n",
       "    </tr>\n",
       "    <tr>\n",
       "      <th>ID_3</th>\n",
       "      <td>3.108254</td>\n",
       "      <td>8.229564</td>\n",
       "      <td>5.868401</td>\n",
       "    </tr>\n",
       "    <tr>\n",
       "      <th>ID_4</th>\n",
       "      <td>1.359631</td>\n",
       "      <td>0.628700</td>\n",
       "      <td>1.071484</td>\n",
       "    </tr>\n",
       "  </tbody>\n",
       "</table>\n",
       "</div>"
      ],
      "text/plain": [
       "             X         Y         Z\n",
       "ID_0  5.620603  9.149612  2.621524\n",
       "ID_1  0.428653  1.476120  3.012395\n",
       "ID_2  0.331739  8.565801  8.044690\n",
       "ID_3  3.108254  8.229564  5.868401\n",
       "ID_4  1.359631  0.628700  1.071484"
      ]
     },
     "execution_count": 9,
     "metadata": {},
     "output_type": "execute_result"
    }
   ],
   "source": [
    "# Dataframe\n",
    "df"
   ]
  },
  {
   "cell_type": "markdown",
   "metadata": {},
   "source": [
    "### Matriz de distancia"
   ]
  },
  {
   "cell_type": "code",
   "execution_count": 11,
   "metadata": {},
   "outputs": [],
   "source": [
    "# Importar librería de distancias\n",
    "from scipy.spatial.distance import pdist,squareform\n",
    "\n",
    "# pdist -> Distancias por parejas entre observaciones en espacio n-dimensional.\n",
    "# squareform -> Convierte un vector de distancia de forma vectorial en una matriz de distancia de forma cuadrada, y viceversa."
   ]
  },
  {
   "cell_type": "code",
   "execution_count": 18,
   "metadata": {},
   "outputs": [],
   "source": [
    "# Vector de distancias euclidianas\n",
    "distVect=pdist(df,metric=\"euclidean\")\n",
    "\n",
    "# Los siguientes pasos sólo sirven para entender los resultados del vector de distancias\n",
    "# Convertir en matriz cuadrada\n",
    "distMat=squareform(distVect)\n",
    "\n",
    "# Convertir en dataset de Pandas la matriz de distancias\n",
    "dfVec=pd.DataFrame(distMat,columns=tags,index=tags)\n"
   ]
  },
  {
   "cell_type": "code",
   "execution_count": 19,
   "metadata": {},
   "outputs": [
    {
     "data": {
      "text/html": [
       "<div>\n",
       "<style scoped>\n",
       "    .dataframe tbody tr th:only-of-type {\n",
       "        vertical-align: middle;\n",
       "    }\n",
       "\n",
       "    .dataframe tbody tr th {\n",
       "        vertical-align: top;\n",
       "    }\n",
       "\n",
       "    .dataframe thead th {\n",
       "        text-align: right;\n",
       "    }\n",
       "</style>\n",
       "<table border=\"1\" class=\"dataframe\">\n",
       "  <thead>\n",
       "    <tr style=\"text-align: right;\">\n",
       "      <th></th>\n",
       "      <th>ID_0</th>\n",
       "      <th>ID_1</th>\n",
       "      <th>ID_2</th>\n",
       "      <th>ID_3</th>\n",
       "      <th>ID_4</th>\n",
       "    </tr>\n",
       "  </thead>\n",
       "  <tbody>\n",
       "    <tr>\n",
       "      <th>ID_0</th>\n",
       "      <td>0.000000</td>\n",
       "      <td>9.273166</td>\n",
       "      <td>7.597608</td>\n",
       "      <td>4.207208</td>\n",
       "      <td>9.652173</td>\n",
       "    </tr>\n",
       "    <tr>\n",
       "      <th>ID_1</th>\n",
       "      <td>9.273166</td>\n",
       "      <td>0.000000</td>\n",
       "      <td>8.694651</td>\n",
       "      <td>7.806794</td>\n",
       "      <td>2.313434</td>\n",
       "    </tr>\n",
       "    <tr>\n",
       "      <th>ID_2</th>\n",
       "      <td>7.597608</td>\n",
       "      <td>8.694651</td>\n",
       "      <td>0.000000</td>\n",
       "      <td>3.543772</td>\n",
       "      <td>10.615071</td>\n",
       "    </tr>\n",
       "    <tr>\n",
       "      <th>ID_3</th>\n",
       "      <td>4.207208</td>\n",
       "      <td>7.806794</td>\n",
       "      <td>3.543772</td>\n",
       "      <td>0.000000</td>\n",
       "      <td>9.156485</td>\n",
       "    </tr>\n",
       "    <tr>\n",
       "      <th>ID_4</th>\n",
       "      <td>9.652173</td>\n",
       "      <td>2.313434</td>\n",
       "      <td>10.615071</td>\n",
       "      <td>9.156485</td>\n",
       "      <td>0.000000</td>\n",
       "    </tr>\n",
       "  </tbody>\n",
       "</table>\n",
       "</div>"
      ],
      "text/plain": [
       "          ID_0      ID_1       ID_2      ID_3       ID_4\n",
       "ID_0  0.000000  9.273166   7.597608  4.207208   9.652173\n",
       "ID_1  9.273166  0.000000   8.694651  7.806794   2.313434\n",
       "ID_2  7.597608  8.694651   0.000000  3.543772  10.615071\n",
       "ID_3  4.207208  7.806794   3.543772  0.000000   9.156485\n",
       "ID_4  9.652173  2.313434  10.615071  9.156485   0.000000"
      ]
     },
     "execution_count": 19,
     "metadata": {},
     "output_type": "execute_result"
    }
   ],
   "source": [
    "# Mostrar\n",
    "dfVec"
   ]
  },
  {
   "cell_type": "markdown",
   "metadata": {},
   "source": [
    "### Matriz de enlaces\n",
    "\n",
    "Se usa la matriz de distancias condesada (triangular superior), se podría usar la matriz redundante (completa), pero no se recomienda."
   ]
  },
  {
   "cell_type": "code",
   "execution_count": 20,
   "metadata": {},
   "outputs": [],
   "source": [
    "# Importar la librería\n",
    "from scipy.cluster.hierarchy import linkage"
   ]
  },
  {
   "cell_type": "code",
   "execution_count": 21,
   "metadata": {},
   "outputs": [],
   "source": [
    "# Clustering\n",
    "\n",
    "clusters=linkage(distVect,method=\"complete\")\n",
    "# complete -> algoritmo del punto más lejano o algoritmo Voor Hees\n",
    "# single -> algoritmo del punto más lejano\n",
    "# centroid -> distancia entre los centroides"
   ]
  },
  {
   "cell_type": "code",
   "execution_count": 24,
   "metadata": {},
   "outputs": [
    {
     "data": {
      "text/html": [
       "<div>\n",
       "<style scoped>\n",
       "    .dataframe tbody tr th:only-of-type {\n",
       "        vertical-align: middle;\n",
       "    }\n",
       "\n",
       "    .dataframe tbody tr th {\n",
       "        vertical-align: top;\n",
       "    }\n",
       "\n",
       "    .dataframe thead th {\n",
       "        text-align: right;\n",
       "    }\n",
       "</style>\n",
       "<table border=\"1\" class=\"dataframe\">\n",
       "  <thead>\n",
       "    <tr style=\"text-align: right;\">\n",
       "      <th></th>\n",
       "      <th>tag1</th>\n",
       "      <th>tag2</th>\n",
       "      <th>similitud</th>\n",
       "      <th>No. en cluster</th>\n",
       "    </tr>\n",
       "  </thead>\n",
       "  <tbody>\n",
       "    <tr>\n",
       "      <th>step1</th>\n",
       "      <td>1.0</td>\n",
       "      <td>4.0</td>\n",
       "      <td>2.313434</td>\n",
       "      <td>2.0</td>\n",
       "    </tr>\n",
       "    <tr>\n",
       "      <th>step2</th>\n",
       "      <td>2.0</td>\n",
       "      <td>3.0</td>\n",
       "      <td>3.543772</td>\n",
       "      <td>2.0</td>\n",
       "    </tr>\n",
       "    <tr>\n",
       "      <th>step3</th>\n",
       "      <td>0.0</td>\n",
       "      <td>6.0</td>\n",
       "      <td>7.597608</td>\n",
       "      <td>3.0</td>\n",
       "    </tr>\n",
       "    <tr>\n",
       "      <th>step4</th>\n",
       "      <td>5.0</td>\n",
       "      <td>7.0</td>\n",
       "      <td>10.615071</td>\n",
       "      <td>5.0</td>\n",
       "    </tr>\n",
       "  </tbody>\n",
       "</table>\n",
       "</div>"
      ],
      "text/plain": [
       "       tag1  tag2  similitud  No. en cluster\n",
       "step1   1.0   4.0   2.313434             2.0\n",
       "step2   2.0   3.0   3.543772             2.0\n",
       "step3   0.0   6.0   7.597608             3.0\n",
       "step4   5.0   7.0  10.615071             5.0"
      ]
     },
     "execution_count": 24,
     "metadata": {},
     "output_type": "execute_result"
    }
   ],
   "source": [
    "# Número de pasos\n",
    "num_pasos=clusters.shape[0]\n",
    "\n",
    "# Ver los resultados del agrupamiento en un dataframe de Pandas\n",
    "pd.DataFrame(clusters,columns=[\"tag1\",\"tag2\",\"similitud\",\"No. en cluster\"],index=[\"step\"+str(i) for i in range(1,num_pasos+1)])"
   ]
  },
  {
   "cell_type": "code",
   "execution_count": 28,
   "metadata": {
    "scrolled": true
   },
   "outputs": [
    {
     "data": {
      "image/png": "[encoded data removed]",
      "text/plain": [
       "<Figure size 480x320 with 1 Axes>"
      ]
     },
     "metadata": {
      "needs_background": "light"
     },
     "output_type": "display_data"
    }
   ],
   "source": [
    "# Visualización en un dendograma\n",
    "# Importar las librerías\n",
    "from scipy.cluster.hierarchy import dendrogram\n",
    "import matplotlib.pyplot as plt\n",
    "# Dendograma\n",
    "dendograma=dendrogram(clusters,labels=tags)"
   ]
  },
  {
   "cell_type": "code",
   "execution_count": 31,
   "metadata": {},
   "outputs": [
    {
     "data": {
      "text/plain": [
       "[<matplotlib.lines.Line2D at 0x235fcbd3748>]"
      ]
     },
     "execution_count": 31,
     "metadata": {},
     "output_type": "execute_result"
    },
    {
     "data": {
      "image/png": "[encoded data removed]",
      "text/plain": [
       "<Figure size 480x320 with 1 Axes>"
      ]
     },
     "metadata": {
      "needs_background": "light"
     },
     "output_type": "display_data"
    }
   ],
   "source": [
    "# Seleccionar el número de clusters\n",
    "plt.plot([i+1 for i in range(num_pasos)],clusters[:,2])\n"
   ]
  },
  {
   "cell_type": "markdown",
   "metadata": {},
   "source": [
    "## Clusterting aglomerativo usando Scikit Learn"
   ]
  },
  {
   "cell_type": "code",
   "execution_count": 33,
   "metadata": {},
   "outputs": [],
   "source": [
    "# Importar la librería\n",
    "from sklearn.cluster import AgglomerativeClustering"
   ]
  },
  {
   "cell_type": "code",
   "execution_count": 38,
   "metadata": {},
   "outputs": [
    {
     "data": {
      "text/plain": [
       "AgglomerativeClustering(affinity='euclidean', compute_full_tree='auto',\n",
       "                        connectivity=None, distance_threshold=None,\n",
       "                        linkage='complete', memory=None, n_clusters=3)"
      ]
     },
     "execution_count": 38,
     "metadata": {},
     "output_type": "execute_result"
    }
   ],
   "source": [
    "# Instanciar el modelo\n",
    "aggcltr=AgglomerativeClustering(n_clusters=3,affinity=\"euclidean\",linkage=\"complete\")\n",
    "aggcltr.fit(X)"
   ]
  },
  {
   "cell_type": "code",
   "execution_count": 39,
   "metadata": {},
   "outputs": [
    {
     "name": "stdout",
     "output_type": "stream",
     "text": [
      "[2 1 0 0 1]\n"
     ]
    }
   ],
   "source": [
    "# Predecir el cluster al que pertenece cada observación\n",
    "Y = aggcltr.fit_predict(X)\n",
    "print(Y)"
   ]
  },
  {
   "cell_type": "markdown",
   "metadata": {},
   "source": [
    "### Métricas clustering"
   ]
  },
  {
   "cell_type": "code",
   "execution_count": 40,
   "metadata": {},
   "outputs": [],
   "source": [
    "# Importar librería\n",
    "from sklearn.metrics import silhouette_samples,silhouette_score"
   ]
  },
  {
   "cell_type": "code",
   "execution_count": 42,
   "metadata": {},
   "outputs": [
    {
     "data": {
      "text/plain": [
       "0.434237163032282"
      ]
     },
     "execution_count": 42,
     "metadata": {},
     "output_type": "execute_result"
    }
   ],
   "source": [
    "# Silueta promedio sobre todas las muestras\n",
    "prom_sil= silhouette_score(X,Y)\n",
    "prom_sil"
   ]
  },
  {
   "cell_type": "code",
   "execution_count": 43,
   "metadata": {},
   "outputs": [
    {
     "name": "stdout",
     "output_type": "stream",
     "text": [
      "ID_0 0.0\n",
      "ID_1 0.7196083031636737\n",
      "ID_2 0.5335673788179071\n",
      "ID_3 0.15769026612549558\n",
      "ID_4 0.7603198670543339\n"
     ]
    }
   ],
   "source": [
    "# Silueta sobre cada muestra\n",
    "\n",
    "sil_samples= silhouette_samples(X,Y)\n",
    "\n",
    "for x,y in zip(tags,sil_samples):\n",
    "    print(x,y)\n",
    "# El método .zip empareja dos o más listas"
   ]
  },
  {
   "cell_type": "code",
   "execution_count": 44,
   "metadata": {},
   "outputs": [],
   "source": [
    "# Seleccionar el número de clusteres\n",
    "sil=[]\n",
    "for i in range(2,5):\n",
    "    agg=AgglomerativeClustering(n_clusters=i,affinity=\"euclidean\",linkage=\"complete\")\n",
    "    agy= agg.fit_predict(X)\n",
    "    sil.append(silhouette_score(X,agy))"
   ]
  },
  {
   "cell_type": "code",
   "execution_count": 45,
   "metadata": {},
   "outputs": [
    {
     "data": {
      "text/plain": [
       "[0.5674379281247478, 0.434237163032282, 0.2902017487901867]"
      ]
     },
     "execution_count": 45,
     "metadata": {},
     "output_type": "execute_result"
    }
   ],
   "source": [
    "# Graficación\n",
    "sil"
   ]
  },
  {
   "cell_type": "code",
   "execution_count": 48,
   "metadata": {},
   "outputs": [],
   "source": [
    "# Asignar clúster\n",
    "agg_final=AgglomerativeClustering(n_clusters=2,affinity=\"euclidean\",linkage=\"complete\")\n",
    "clusters_final= agg_final.fit_predict(X)\n",
    "# Asignar al dataframe\n",
    "df[\"Cluster\"]=clusters_final"
   ]
  },
  {
   "cell_type": "code",
   "execution_count": 49,
   "metadata": {},
   "outputs": [
    {
     "data": {
      "text/html": [
       "<div>\n",
       "<style scoped>\n",
       "    .dataframe tbody tr th:only-of-type {\n",
       "        vertical-align: middle;\n",
       "    }\n",
       "\n",
       "    .dataframe tbody tr th {\n",
       "        vertical-align: top;\n",
       "    }\n",
       "\n",
       "    .dataframe thead th {\n",
       "        text-align: right;\n",
       "    }\n",
       "</style>\n",
       "<table border=\"1\" class=\"dataframe\">\n",
       "  <thead>\n",
       "    <tr style=\"text-align: right;\">\n",
       "      <th></th>\n",
       "      <th>X</th>\n",
       "      <th>Y</th>\n",
       "      <th>Z</th>\n",
       "      <th>Cluster</th>\n",
       "    </tr>\n",
       "  </thead>\n",
       "  <tbody>\n",
       "    <tr>\n",
       "      <th>ID_0</th>\n",
       "      <td>5.620603</td>\n",
       "      <td>9.149612</td>\n",
       "      <td>2.621524</td>\n",
       "      <td>0</td>\n",
       "    </tr>\n",
       "    <tr>\n",
       "      <th>ID_1</th>\n",
       "      <td>0.428653</td>\n",
       "      <td>1.476120</td>\n",
       "      <td>3.012395</td>\n",
       "      <td>1</td>\n",
       "    </tr>\n",
       "    <tr>\n",
       "      <th>ID_2</th>\n",
       "      <td>0.331739</td>\n",
       "      <td>8.565801</td>\n",
       "      <td>8.044690</td>\n",
       "      <td>0</td>\n",
       "    </tr>\n",
       "    <tr>\n",
       "      <th>ID_3</th>\n",
       "      <td>3.108254</td>\n",
       "      <td>8.229564</td>\n",
       "      <td>5.868401</td>\n",
       "      <td>0</td>\n",
       "    </tr>\n",
       "    <tr>\n",
       "      <th>ID_4</th>\n",
       "      <td>1.359631</td>\n",
       "      <td>0.628700</td>\n",
       "      <td>1.071484</td>\n",
       "      <td>1</td>\n",
       "    </tr>\n",
       "  </tbody>\n",
       "</table>\n",
       "</div>"
      ],
      "text/plain": [
       "             X         Y         Z  Cluster\n",
       "ID_0  5.620603  9.149612  2.621524        0\n",
       "ID_1  0.428653  1.476120  3.012395        1\n",
       "ID_2  0.331739  8.565801  8.044690        0\n",
       "ID_3  3.108254  8.229564  5.868401        0\n",
       "ID_4  1.359631  0.628700  1.071484        1"
      ]
     },
     "execution_count": 49,
     "metadata": {},
     "output_type": "execute_result"
    }
   ],
   "source": [
    "# Mostrar resultado\n",
    "df"
   ]
  },
  {
   "cell_type": "code",
   "execution_count": null,
   "metadata": {},
   "outputs": [],
   "source": []
  }
 ],
 "metadata": {
  "kernelspec": {
   "display_name": "Python 3",
   "language": "python",
   "name": "python3"
  },
  "language_info": {
   "codemirror_mode": {
    "name": "ipython",
    "version": 3
   },
   "file_extension": ".py",
   "mimetype": "text/x-python",
   "name": "python",
   "nbconvert_exporter": "python",
   "pygments_lexer": "ipython3",
   "version": "3.7.7"
  }
 },
 "nbformat": 4,
 "nbformat_minor": 4
}
