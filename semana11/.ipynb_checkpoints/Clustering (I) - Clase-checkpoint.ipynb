{
 "cells": [
  {
   "cell_type": "markdown",
   "metadata": {},
   "source": [
    "# Clustering o agrupamiento (I)"
   ]
  },
  {
   "cell_type": "code",
   "execution_count": null,
   "metadata": {},
   "outputs": [],
   "source": [
    "# Importar las librerías\n",
    "import pandas as pd\n",
    "import numpy as np\n",
    "import matplotlib.pyplot as plt"
   ]
  },
  {
   "cell_type": "code",
   "execution_count": null,
   "metadata": {},
   "outputs": [],
   "source": [
    "%matplotlib inline\n",
    "from matplotlib import rcParams\n",
    "rcParams['figure.dpi'] = 120"
   ]
  },
  {
   "cell_type": "markdown",
   "metadata": {},
   "source": [
    "## Dataset artificial\n",
    "\n",
    "*Crearemos un dataset artificial para entender el concepto*"
   ]
  },
  {
   "cell_type": "code",
   "execution_count": null,
   "metadata": {},
   "outputs": [],
   "source": [
    "# Crear dataset artificial\n"
   ]
  },
  {
   "cell_type": "code",
   "execution_count": null,
   "metadata": {},
   "outputs": [],
   "source": [
    "# Graficación\n",
    "\n"
   ]
  },
  {
   "cell_type": "markdown",
   "metadata": {},
   "source": [
    "## Agrupamiento por K-Means"
   ]
  },
  {
   "cell_type": "code",
   "execution_count": null,
   "metadata": {},
   "outputs": [],
   "source": [
    "# Importar librería\n",
    "\n",
    "\n",
    "# Instanciar el modelo\n",
    "\n",
    "\n",
    "# Predicción de los clústeres\n"
   ]
  },
  {
   "cell_type": "code",
   "execution_count": null,
   "metadata": {},
   "outputs": [],
   "source": [
    "# Centroides de los clústeres \n"
   ]
  },
  {
   "cell_type": "code",
   "execution_count": null,
   "metadata": {},
   "outputs": [],
   "source": [
    "# Graficación \n"
   ]
  },
  {
   "cell_type": "code",
   "execution_count": null,
   "metadata": {},
   "outputs": [],
   "source": [
    "# Distorsión\n"
   ]
  },
  {
   "cell_type": "code",
   "execution_count": null,
   "metadata": {},
   "outputs": [],
   "source": [
    "# Determinación del método del codo (elbow) para determinar el número de clústeres\n"
   ]
  },
  {
   "cell_type": "markdown",
   "metadata": {},
   "source": [
    "## Agrupamiento por DBSCAN\n",
    "### *Density-based Spatial Clustering of Applications with Noise* "
   ]
  },
  {
   "cell_type": "code",
   "execution_count": null,
   "metadata": {},
   "outputs": [],
   "source": [
    "# Importar librería\n",
    "\n",
    "\n",
    "# Instanciar el modelo\n",
    "\n",
    "\n",
    "# Predecir los clústeres\n"
   ]
  },
  {
   "cell_type": "code",
   "execution_count": null,
   "metadata": {},
   "outputs": [],
   "source": [
    "# Imprimir el número estimado de clústeres\n"
   ]
  },
  {
   "cell_type": "code",
   "execution_count": null,
   "metadata": {},
   "outputs": [],
   "source": [
    "# Imprimir el número de puntos ruido\n"
   ]
  },
  {
   "cell_type": "code",
   "execution_count": null,
   "metadata": {},
   "outputs": [],
   "source": [
    "# Graficar\n",
    "plt.scatter(X[y_db == 0, 0], X[y_db == 0, 1], s=50, c='lightgreen', marker='o', edgecolor='black',label='cluster 1')\n",
    "plt.scatter(X[y_db == 1, 0], X[y_db == 1, 1], s=50, c='orange', marker='o', edgecolor='black', label='cluster 2')\n",
    "plt.scatter(X[y_db == 2, 0], X[y_db == 2, 1], s=50, c='lightblue', marker='o', edgecolor='black',label='cluster 3')\n",
    "plt.scatter(X[y_db == 3, 0], X[y_db == 3, 1], s=50, c='blue', marker='o', edgecolor='black',label='cluster 4')\n",
    "plt.scatter(X[y_db == 4, 0], X[y_db == 4, 1], s=50, c='#FA8072', marker='o', edgecolor='black', label='cluster 5')\n",
    "plt.scatter(X[y_db == 5, 0], X[y_db == 5, 1], s=50, c='green', marker='o', edgecolor='black',label='cluster 6')\n",
    "plt.scatter(X[y_db == 6, 0], X[y_db == 6, 1], s=50, c='purple', marker='o', edgecolor='black',label='cluster 7')\n",
    "plt.scatter(X[y_db == -1, 0], X[y_db == -1, 1], s=50, c='#9467bd', marker='+', edgecolor='black',label='noise')\n",
    "plt.legend(scatterpoints=1, loc = 0)\n",
    "plt.grid()\n",
    "plt.show()"
   ]
  },
  {
   "cell_type": "code",
   "execution_count": null,
   "metadata": {},
   "outputs": [],
   "source": []
  }
 ],
 "metadata": {
  "kernelspec": {
   "display_name": "Python 3",
   "language": "python",
   "name": "python3"
  },
  "language_info": {
   "codemirror_mode": {
    "name": "ipython",
    "version": 3
   },
   "file_extension": ".py",
   "mimetype": "text/x-python",
   "name": "python",
   "nbconvert_exporter": "python",
   "pygments_lexer": "ipython3",
   "version": "3.7.7"
  }
 },
 "nbformat": 4,
 "nbformat_minor": 4
}
