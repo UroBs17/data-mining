{
 "cells": [
  {
   "cell_type": "markdown",
   "metadata": {},
   "source": [
    "# Mobile classification"
   ]
  },
  {
   "cell_type": "markdown",
   "metadata": {},
   "source": [
    "Grupo de trabajo:\n",
    "- Michael Sebastian Preciado Garzon\n",
    "- Daniel Alberto Rosales Castro"
   ]
  },
  {
   "cell_type": "markdown",
   "metadata": {},
   "source": [
    "Contexto:\n",
    "\n",
    "    Bob ha comenzado su propia compañía de móviles. Quiere dar una dura batalla a las grandes compañías como Apple, Samsung, etc.\n",
    "\n",
    "    No sabe cómo estimar el precio de los móviles que su compañía crea. En este competitivo mercado de telefonía móvil no puedes simplemente asumir las cosas. Para resolver este problema, recoge datos de ventas de teléfonos móviles de varias empresas.\n",
    "\n",
    "    Bob quiere averiguar alguna relación entre las características de un teléfono móvil (por ejemplo: RAM, Memoria Interna, etc.) y su precio de venta. Pero no es tan bueno en el aprendizaje automático. Así que necesita tu ayuda para resolver este problema."
   ]
  },
  {
   "cell_type": "code",
   "execution_count": 1,
   "metadata": {},
   "outputs": [],
   "source": [
    "from sklearn.model_selection import train_test_split\n",
    "from sklearn.naive_bayes import BernoulliNB\n",
    "from sklearn.linear_model import LogisticRegression\n",
    "from sklearn.svm import LinearSVC, SVC\n",
    "from sklearn.tree import DecisionTreeClassifier\n",
    "from sklearn.ensemble import RandomForestClassifier\n",
    "from sklearn.ensemble import BaggingClassifier\n",
    "from sklearn.metrics import accuracy_score, confusion_matrix, confusion_matrix, recall_score, precision_score, balanced_accuracy_score, cohen_kappa_score\n",
    "from sklearn.neighbors import KNeighborsClassifier\n",
    "from sklearn.naive_bayes import GaussianNB\n",
    "import numpy as np\n",
    "import matplotlib.pyplot as plt\n",
    "import pandas as pd\n",
    "import seaborn as sns\n"
   ]
  },
  {
   "cell_type": "markdown",
   "metadata": {},
   "source": [
    "## Leyendo los datos"
   ]
  },
  {
   "cell_type": "code",
   "execution_count": 2,
   "metadata": {},
   "outputs": [],
   "source": [
    "df = pd.read_csv(\"Data.csv\")"
   ]
  },
  {
   "cell_type": "markdown",
   "metadata": {},
   "source": [
    "# Analisis de los datos"
   ]
  },
  {
   "cell_type": "code",
   "execution_count": 3,
   "metadata": {},
   "outputs": [
    {
     "data": {
      "text/html": [
       "<div>\n",
       "<style scoped>\n",
       "    .dataframe tbody tr th:only-of-type {\n",
       "        vertical-align: middle;\n",
       "    }\n",
       "\n",
       "    .dataframe tbody tr th {\n",
       "        vertical-align: top;\n",
       "    }\n",
       "\n",
       "    .dataframe thead th {\n",
       "        text-align: right;\n",
       "    }\n",
       "</style>\n",
       "<table border=\"1\" class=\"dataframe\">\n",
       "  <thead>\n",
       "    <tr style=\"text-align: right;\">\n",
       "      <th></th>\n",
       "      <th>battery_power</th>\n",
       "      <th>blue</th>\n",
       "      <th>clock_speed</th>\n",
       "      <th>dual_sim</th>\n",
       "      <th>fc</th>\n",
       "      <th>four_g</th>\n",
       "      <th>int_memory</th>\n",
       "      <th>m_dep</th>\n",
       "      <th>mobile_wt</th>\n",
       "      <th>n_cores</th>\n",
       "      <th>...</th>\n",
       "      <th>px_height</th>\n",
       "      <th>px_width</th>\n",
       "      <th>ram</th>\n",
       "      <th>sc_h</th>\n",
       "      <th>sc_w</th>\n",
       "      <th>talk_time</th>\n",
       "      <th>three_g</th>\n",
       "      <th>touch_screen</th>\n",
       "      <th>wifi</th>\n",
       "      <th>price_range</th>\n",
       "    </tr>\n",
       "  </thead>\n",
       "  <tbody>\n",
       "    <tr>\n",
       "      <td>0</td>\n",
       "      <td>842</td>\n",
       "      <td>0</td>\n",
       "      <td>2.2</td>\n",
       "      <td>0</td>\n",
       "      <td>1</td>\n",
       "      <td>0</td>\n",
       "      <td>7</td>\n",
       "      <td>0.6</td>\n",
       "      <td>188</td>\n",
       "      <td>2</td>\n",
       "      <td>...</td>\n",
       "      <td>20</td>\n",
       "      <td>756</td>\n",
       "      <td>2549</td>\n",
       "      <td>9</td>\n",
       "      <td>7</td>\n",
       "      <td>19</td>\n",
       "      <td>0</td>\n",
       "      <td>0</td>\n",
       "      <td>1</td>\n",
       "      <td>1</td>\n",
       "    </tr>\n",
       "    <tr>\n",
       "      <td>1</td>\n",
       "      <td>1021</td>\n",
       "      <td>1</td>\n",
       "      <td>0.5</td>\n",
       "      <td>1</td>\n",
       "      <td>0</td>\n",
       "      <td>1</td>\n",
       "      <td>53</td>\n",
       "      <td>0.7</td>\n",
       "      <td>136</td>\n",
       "      <td>3</td>\n",
       "      <td>...</td>\n",
       "      <td>905</td>\n",
       "      <td>1988</td>\n",
       "      <td>2631</td>\n",
       "      <td>17</td>\n",
       "      <td>3</td>\n",
       "      <td>7</td>\n",
       "      <td>1</td>\n",
       "      <td>1</td>\n",
       "      <td>0</td>\n",
       "      <td>2</td>\n",
       "    </tr>\n",
       "    <tr>\n",
       "      <td>2</td>\n",
       "      <td>563</td>\n",
       "      <td>1</td>\n",
       "      <td>0.5</td>\n",
       "      <td>1</td>\n",
       "      <td>2</td>\n",
       "      <td>1</td>\n",
       "      <td>41</td>\n",
       "      <td>0.9</td>\n",
       "      <td>145</td>\n",
       "      <td>5</td>\n",
       "      <td>...</td>\n",
       "      <td>1263</td>\n",
       "      <td>1716</td>\n",
       "      <td>2603</td>\n",
       "      <td>11</td>\n",
       "      <td>2</td>\n",
       "      <td>9</td>\n",
       "      <td>1</td>\n",
       "      <td>1</td>\n",
       "      <td>0</td>\n",
       "      <td>2</td>\n",
       "    </tr>\n",
       "    <tr>\n",
       "      <td>3</td>\n",
       "      <td>615</td>\n",
       "      <td>1</td>\n",
       "      <td>2.5</td>\n",
       "      <td>0</td>\n",
       "      <td>0</td>\n",
       "      <td>0</td>\n",
       "      <td>10</td>\n",
       "      <td>0.8</td>\n",
       "      <td>131</td>\n",
       "      <td>6</td>\n",
       "      <td>...</td>\n",
       "      <td>1216</td>\n",
       "      <td>1786</td>\n",
       "      <td>2769</td>\n",
       "      <td>16</td>\n",
       "      <td>8</td>\n",
       "      <td>11</td>\n",
       "      <td>1</td>\n",
       "      <td>0</td>\n",
       "      <td>0</td>\n",
       "      <td>2</td>\n",
       "    </tr>\n",
       "    <tr>\n",
       "      <td>4</td>\n",
       "      <td>1821</td>\n",
       "      <td>1</td>\n",
       "      <td>1.2</td>\n",
       "      <td>0</td>\n",
       "      <td>13</td>\n",
       "      <td>1</td>\n",
       "      <td>44</td>\n",
       "      <td>0.6</td>\n",
       "      <td>141</td>\n",
       "      <td>2</td>\n",
       "      <td>...</td>\n",
       "      <td>1208</td>\n",
       "      <td>1212</td>\n",
       "      <td>1411</td>\n",
       "      <td>8</td>\n",
       "      <td>2</td>\n",
       "      <td>15</td>\n",
       "      <td>1</td>\n",
       "      <td>1</td>\n",
       "      <td>0</td>\n",
       "      <td>1</td>\n",
       "    </tr>\n",
       "  </tbody>\n",
       "</table>\n",
       "<p>5 rows × 21 columns</p>\n",
       "</div>"
      ],
      "text/plain": [
       "   battery_power  blue  clock_speed  dual_sim  fc  four_g  int_memory  m_dep  \\\n",
       "0            842     0          2.2         0   1       0           7    0.6   \n",
       "1           1021     1          0.5         1   0       1          53    0.7   \n",
       "2            563     1          0.5         1   2       1          41    0.9   \n",
       "3            615     1          2.5         0   0       0          10    0.8   \n",
       "4           1821     1          1.2         0  13       1          44    0.6   \n",
       "\n",
       "   mobile_wt  n_cores  ...  px_height  px_width   ram  sc_h  sc_w  talk_time  \\\n",
       "0        188        2  ...         20       756  2549     9     7         19   \n",
       "1        136        3  ...        905      1988  2631    17     3          7   \n",
       "2        145        5  ...       1263      1716  2603    11     2          9   \n",
       "3        131        6  ...       1216      1786  2769    16     8         11   \n",
       "4        141        2  ...       1208      1212  1411     8     2         15   \n",
       "\n",
       "   three_g  touch_screen  wifi  price_range  \n",
       "0        0             0     1            1  \n",
       "1        1             1     0            2  \n",
       "2        1             1     0            2  \n",
       "3        1             0     0            2  \n",
       "4        1             1     0            1  \n",
       "\n",
       "[5 rows x 21 columns]"
      ]
     },
     "execution_count": 3,
     "metadata": {},
     "output_type": "execute_result"
    }
   ],
   "source": [
    "df.head()"
   ]
  },
  {
   "cell_type": "markdown",
   "metadata": {},
   "source": [
    "# Explorando los atributos binarios"
   ]
  },
  {
   "cell_type": "markdown",
   "metadata": {},
   "source": [
    "En esta seccion se analizaran los atributos binarios tienen o no relevancia para el modelo"
   ]
  },
  {
   "cell_type": "code",
   "execution_count": 4,
   "metadata": {},
   "outputs": [],
   "source": [
    "binaryAtt=[\"blue\",\"dual_sim\",\"four_g\",\"three_g\",\"touch_screen\",\"wifi\"]\n",
    "for i in binaryAtt:\n",
    "    df[i].replace(0,\"no\",inplace=True)\n",
    "    df[i].replace(1,\"yes\",inplace=True)\n",
    "arr=[\"blue\",\"dual_sim\",\"four_g\",\"three_g\",\"touch_screen\",\"wifi\"]\n",
    "for i in df.columns:\n",
    "    if df[i].dtype==\"float64\":\n",
    "        arr.append(i)\n",
    "for i in df.columns:\n",
    "    if df[i].dtype==\"int64\":\n",
    "        arr.append(i)\n",
    "df=df[arr]"
   ]
  },
  {
   "cell_type": "code",
   "execution_count": 5,
   "metadata": {},
   "outputs": [
    {
     "data": {
      "text/plain": [
       "Index(['blue', 'dual_sim', 'four_g', 'three_g', 'touch_screen', 'wifi',\n",
       "       'clock_speed', 'm_dep', 'battery_power', 'fc', 'int_memory',\n",
       "       'mobile_wt', 'n_cores', 'pc', 'px_height', 'px_width', 'ram', 'sc_h',\n",
       "       'sc_w', 'talk_time', 'price_range'],\n",
       "      dtype='object')"
      ]
     },
     "execution_count": 5,
     "metadata": {},
     "output_type": "execute_result"
    }
   ],
   "source": [
    "df.columns"
   ]
  },
  {
   "cell_type": "code",
   "execution_count": 6,
   "metadata": {},
   "outputs": [
    {
     "data": {
      "text/html": [
       "<div>\n",
       "<style scoped>\n",
       "    .dataframe tbody tr th:only-of-type {\n",
       "        vertical-align: middle;\n",
       "    }\n",
       "\n",
       "    .dataframe tbody tr th {\n",
       "        vertical-align: top;\n",
       "    }\n",
       "\n",
       "    .dataframe thead th {\n",
       "        text-align: right;\n",
       "    }\n",
       "</style>\n",
       "<table border=\"1\" class=\"dataframe\">\n",
       "  <thead>\n",
       "    <tr style=\"text-align: right;\">\n",
       "      <th></th>\n",
       "      <th>blue</th>\n",
       "      <th>dual_sim</th>\n",
       "      <th>four_g</th>\n",
       "      <th>three_g</th>\n",
       "      <th>touch_screen</th>\n",
       "      <th>wifi</th>\n",
       "      <th>clock_speed</th>\n",
       "      <th>m_dep</th>\n",
       "      <th>battery_power</th>\n",
       "      <th>fc</th>\n",
       "      <th>...</th>\n",
       "      <th>mobile_wt</th>\n",
       "      <th>n_cores</th>\n",
       "      <th>pc</th>\n",
       "      <th>px_height</th>\n",
       "      <th>px_width</th>\n",
       "      <th>ram</th>\n",
       "      <th>sc_h</th>\n",
       "      <th>sc_w</th>\n",
       "      <th>talk_time</th>\n",
       "      <th>price_range</th>\n",
       "    </tr>\n",
       "  </thead>\n",
       "  <tbody>\n",
       "    <tr>\n",
       "      <td>0</td>\n",
       "      <td>no</td>\n",
       "      <td>no</td>\n",
       "      <td>no</td>\n",
       "      <td>no</td>\n",
       "      <td>no</td>\n",
       "      <td>yes</td>\n",
       "      <td>2.2</td>\n",
       "      <td>0.6</td>\n",
       "      <td>842</td>\n",
       "      <td>1</td>\n",
       "      <td>...</td>\n",
       "      <td>188</td>\n",
       "      <td>2</td>\n",
       "      <td>2</td>\n",
       "      <td>20</td>\n",
       "      <td>756</td>\n",
       "      <td>2549</td>\n",
       "      <td>9</td>\n",
       "      <td>7</td>\n",
       "      <td>19</td>\n",
       "      <td>1</td>\n",
       "    </tr>\n",
       "    <tr>\n",
       "      <td>1</td>\n",
       "      <td>yes</td>\n",
       "      <td>yes</td>\n",
       "      <td>yes</td>\n",
       "      <td>yes</td>\n",
       "      <td>yes</td>\n",
       "      <td>no</td>\n",
       "      <td>0.5</td>\n",
       "      <td>0.7</td>\n",
       "      <td>1021</td>\n",
       "      <td>0</td>\n",
       "      <td>...</td>\n",
       "      <td>136</td>\n",
       "      <td>3</td>\n",
       "      <td>6</td>\n",
       "      <td>905</td>\n",
       "      <td>1988</td>\n",
       "      <td>2631</td>\n",
       "      <td>17</td>\n",
       "      <td>3</td>\n",
       "      <td>7</td>\n",
       "      <td>2</td>\n",
       "    </tr>\n",
       "    <tr>\n",
       "      <td>2</td>\n",
       "      <td>yes</td>\n",
       "      <td>yes</td>\n",
       "      <td>yes</td>\n",
       "      <td>yes</td>\n",
       "      <td>yes</td>\n",
       "      <td>no</td>\n",
       "      <td>0.5</td>\n",
       "      <td>0.9</td>\n",
       "      <td>563</td>\n",
       "      <td>2</td>\n",
       "      <td>...</td>\n",
       "      <td>145</td>\n",
       "      <td>5</td>\n",
       "      <td>6</td>\n",
       "      <td>1263</td>\n",
       "      <td>1716</td>\n",
       "      <td>2603</td>\n",
       "      <td>11</td>\n",
       "      <td>2</td>\n",
       "      <td>9</td>\n",
       "      <td>2</td>\n",
       "    </tr>\n",
       "    <tr>\n",
       "      <td>3</td>\n",
       "      <td>yes</td>\n",
       "      <td>no</td>\n",
       "      <td>no</td>\n",
       "      <td>yes</td>\n",
       "      <td>no</td>\n",
       "      <td>no</td>\n",
       "      <td>2.5</td>\n",
       "      <td>0.8</td>\n",
       "      <td>615</td>\n",
       "      <td>0</td>\n",
       "      <td>...</td>\n",
       "      <td>131</td>\n",
       "      <td>6</td>\n",
       "      <td>9</td>\n",
       "      <td>1216</td>\n",
       "      <td>1786</td>\n",
       "      <td>2769</td>\n",
       "      <td>16</td>\n",
       "      <td>8</td>\n",
       "      <td>11</td>\n",
       "      <td>2</td>\n",
       "    </tr>\n",
       "    <tr>\n",
       "      <td>4</td>\n",
       "      <td>yes</td>\n",
       "      <td>no</td>\n",
       "      <td>yes</td>\n",
       "      <td>yes</td>\n",
       "      <td>yes</td>\n",
       "      <td>no</td>\n",
       "      <td>1.2</td>\n",
       "      <td>0.6</td>\n",
       "      <td>1821</td>\n",
       "      <td>13</td>\n",
       "      <td>...</td>\n",
       "      <td>141</td>\n",
       "      <td>2</td>\n",
       "      <td>14</td>\n",
       "      <td>1208</td>\n",
       "      <td>1212</td>\n",
       "      <td>1411</td>\n",
       "      <td>8</td>\n",
       "      <td>2</td>\n",
       "      <td>15</td>\n",
       "      <td>1</td>\n",
       "    </tr>\n",
       "  </tbody>\n",
       "</table>\n",
       "<p>5 rows × 21 columns</p>\n",
       "</div>"
      ],
      "text/plain": [
       "  blue dual_sim four_g three_g touch_screen wifi  clock_speed  m_dep  \\\n",
       "0   no       no     no      no           no  yes          2.2    0.6   \n",
       "1  yes      yes    yes     yes          yes   no          0.5    0.7   \n",
       "2  yes      yes    yes     yes          yes   no          0.5    0.9   \n",
       "3  yes       no     no     yes           no   no          2.5    0.8   \n",
       "4  yes       no    yes     yes          yes   no          1.2    0.6   \n",
       "\n",
       "   battery_power  fc  ...  mobile_wt  n_cores  pc  px_height  px_width   ram  \\\n",
       "0            842   1  ...        188        2   2         20       756  2549   \n",
       "1           1021   0  ...        136        3   6        905      1988  2631   \n",
       "2            563   2  ...        145        5   6       1263      1716  2603   \n",
       "3            615   0  ...        131        6   9       1216      1786  2769   \n",
       "4           1821  13  ...        141        2  14       1208      1212  1411   \n",
       "\n",
       "   sc_h  sc_w  talk_time  price_range  \n",
       "0     9     7         19            1  \n",
       "1    17     3          7            2  \n",
       "2    11     2          9            2  \n",
       "3    16     8         11            2  \n",
       "4     8     2         15            1  \n",
       "\n",
       "[5 rows x 21 columns]"
      ]
     },
     "execution_count": 6,
     "metadata": {},
     "output_type": "execute_result"
    }
   ],
   "source": [
    "df.head()"
   ]
  },
  {
   "cell_type": "markdown",
   "metadata": {},
   "source": [
    "### Bluetooth"
   ]
  },
  {
   "cell_type": "code",
   "execution_count": 7,
   "metadata": {},
   "outputs": [
    {
     "data": {
      "text/plain": [
       "<matplotlib.axes._subplots.AxesSubplot at 0x293b5c88f48>"
      ]
     },
     "execution_count": 7,
     "metadata": {},
     "output_type": "execute_result"
    },
    {
     "data": {
      "image/png": "[encoded data removed]",
      "text/plain": [
       "<Figure size 432x288 with 1 Axes>"
      ]
     },
     "metadata": {
      "needs_background": "light"
     },
     "output_type": "display_data"
    }
   ],
   "source": [
    "sns.countplot(x = 'blue', hue = arr[-1], data = df)"
   ]
  },
  {
   "cell_type": "code",
   "execution_count": 8,
   "metadata": {},
   "outputs": [
    {
     "data": {
      "text/plain": [
       "<matplotlib.axes._subplots.AxesSubplot at 0x293b5de91c8>"
      ]
     },
     "execution_count": 8,
     "metadata": {},
     "output_type": "execute_result"
    },
    {
     "data": {
      "image/png": "[encoded data removed]",
      "text/plain": [
       "<Figure size 432x288 with 1 Axes>"
      ]
     },
     "metadata": {
      "needs_background": "light"
     },
     "output_type": "display_data"
    }
   ],
   "source": [
    "sns.boxplot(df['blue'], df['price_range'])"
   ]
  },
  {
   "cell_type": "markdown",
   "metadata": {},
   "source": [
    "### support"
   ]
  },
  {
   "cell_type": "code",
   "execution_count": 9,
   "metadata": {},
   "outputs": [
    {
     "data": {
      "text/plain": [
       "<matplotlib.axes._subplots.AxesSubplot at 0x293b5e93308>"
      ]
     },
     "execution_count": 9,
     "metadata": {},
     "output_type": "execute_result"
    },
    {
     "data": {
      "image/png": "[encoded data removed]",
      "text/plain": [
       "<Figure size 432x288 with 1 Axes>"
      ]
     },
     "metadata": {
      "needs_background": "light"
     },
     "output_type": "display_data"
    }
   ],
   "source": [
    "sns.boxplot(df['dual_sim'], df['price_range'])"
   ]
  },
  {
   "cell_type": "code",
   "execution_count": 10,
   "metadata": {},
   "outputs": [
    {
     "data": {
      "text/plain": [
       "<matplotlib.axes._subplots.AxesSubplot at 0x293b5f0d348>"
      ]
     },
     "execution_count": 10,
     "metadata": {},
     "output_type": "execute_result"
    },
    {
     "data": {
      "image/png": "[encoded data removed]",
      "text/plain": [
       "<Figure size 432x288 with 1 Axes>"
      ]
     },
     "metadata": {
      "needs_background": "light"
     },
     "output_type": "display_data"
    }
   ],
   "source": [
    "sns.countplot(x = 'dual_sim', hue = arr[-1], data = df)"
   ]
  },
  {
   "cell_type": "markdown",
   "metadata": {},
   "source": [
    "### 4G"
   ]
  },
  {
   "cell_type": "code",
   "execution_count": 11,
   "metadata": {},
   "outputs": [
    {
     "data": {
      "text/plain": [
       "<matplotlib.axes._subplots.AxesSubplot at 0x293b5e669c8>"
      ]
     },
     "execution_count": 11,
     "metadata": {},
     "output_type": "execute_result"
    },
    {
     "data": {
      "image/png": "[encoded data removed]",
      "text/plain": [
       "<Figure size 432x288 with 1 Axes>"
      ]
     },
     "metadata": {
      "needs_background": "light"
     },
     "output_type": "display_data"
    }
   ],
   "source": [
    "sns.boxplot(df['four_g'], df['price_range'])"
   ]
  },
  {
   "cell_type": "code",
   "execution_count": 12,
   "metadata": {},
   "outputs": [
    {
     "data": {
      "text/plain": [
       "<matplotlib.axes._subplots.AxesSubplot at 0x293b5ff8548>"
      ]
     },
     "execution_count": 12,
     "metadata": {},
     "output_type": "execute_result"
    },
    {
     "data": {
      "image/png": "[encoded data removed]",
      "text/plain": [
       "<Figure size 432x288 with 1 Axes>"
      ]
     },
     "metadata": {
      "needs_background": "light"
     },
     "output_type": "display_data"
    }
   ],
   "source": [
    "sns.countplot(x = 'four_g', hue = arr[-1], data = df)"
   ]
  },
  {
   "cell_type": "markdown",
   "metadata": {},
   "source": [
    "### 3G"
   ]
  },
  {
   "cell_type": "code",
   "execution_count": 13,
   "metadata": {},
   "outputs": [
    {
     "data": {
      "text/plain": [
       "<matplotlib.axes._subplots.AxesSubplot at 0x293b6078948>"
      ]
     },
     "execution_count": 13,
     "metadata": {},
     "output_type": "execute_result"
    },
    {
     "data": {
      "image/png": "[encoded data removed]",
      "text/plain": [
       "<Figure size 432x288 with 1 Axes>"
      ]
     },
     "metadata": {
      "needs_background": "light"
     },
     "output_type": "display_data"
    }
   ],
   "source": [
    "sns.boxplot(df['three_g'], df['price_range'])"
   ]
  },
  {
   "cell_type": "code",
   "execution_count": 14,
   "metadata": {},
   "outputs": [
    {
     "data": {
      "text/plain": [
       "<matplotlib.axes._subplots.AxesSubplot at 0x293b60f61c8>"
      ]
     },
     "execution_count": 14,
     "metadata": {},
     "output_type": "execute_result"
    },
    {
     "data": {
      "image/png": "[encoded data removed]",
      "text/plain": [
       "<Figure size 432x288 with 1 Axes>"
      ]
     },
     "metadata": {
      "needs_background": "light"
     },
     "output_type": "display_data"
    }
   ],
   "source": [
    "sns.countplot(x = 'three_g', hue = arr[-1], data = df)"
   ]
  },
  {
   "cell_type": "code",
   "execution_count": 15,
   "metadata": {},
   "outputs": [
    {
     "data": {
      "text/plain": [
       "yes    1523\n",
       "no      477\n",
       "Name: three_g, dtype: int64"
      ]
     },
     "execution_count": 15,
     "metadata": {},
     "output_type": "execute_result"
    }
   ],
   "source": [
    "df[\"three_g\"].value_counts()"
   ]
  },
  {
   "cell_type": "markdown",
   "metadata": {},
   "source": [
    "### touch screen"
   ]
  },
  {
   "cell_type": "code",
   "execution_count": 16,
   "metadata": {},
   "outputs": [
    {
     "data": {
      "text/plain": [
       "<matplotlib.axes._subplots.AxesSubplot at 0x293b5dd6388>"
      ]
     },
     "execution_count": 16,
     "metadata": {},
     "output_type": "execute_result"
    },
    {
     "data": {
      "image/png": "[encoded data removed]",
      "text/plain": [
       "<Figure size 432x288 with 1 Axes>"
      ]
     },
     "metadata": {
      "needs_background": "light"
     },
     "output_type": "display_data"
    }
   ],
   "source": [
    "sns.boxplot(df['touch_screen'], df['price_range'])"
   ]
  },
  {
   "cell_type": "code",
   "execution_count": 17,
   "metadata": {},
   "outputs": [
    {
     "data": {
      "text/plain": [
       "<matplotlib.axes._subplots.AxesSubplot at 0x293b61fa488>"
      ]
     },
     "execution_count": 17,
     "metadata": {},
     "output_type": "execute_result"
    },
    {
     "data": {
      "image/png": "[encoded data removed]",
      "text/plain": [
       "<Figure size 432x288 with 1 Axes>"
      ]
     },
     "metadata": {
      "needs_background": "light"
     },
     "output_type": "display_data"
    }
   ],
   "source": [
    "sns.countplot(x = 'touch_screen', hue = arr[-1], data = df)"
   ]
  },
  {
   "cell_type": "markdown",
   "metadata": {},
   "source": [
    "### wifi"
   ]
  },
  {
   "cell_type": "code",
   "execution_count": 18,
   "metadata": {},
   "outputs": [
    {
     "data": {
      "text/plain": [
       "<matplotlib.axes._subplots.AxesSubplot at 0x293b39a25c8>"
      ]
     },
     "execution_count": 18,
     "metadata": {},
     "output_type": "execute_result"
    },
    {
     "data": {
      "image/png": "[encoded data removed]",
      "text/plain": [
       "<Figure size 432x288 with 1 Axes>"
      ]
     },
     "metadata": {
      "needs_background": "light"
     },
     "output_type": "display_data"
    }
   ],
   "source": [
    "sns.boxplot(df['wifi'], df['price_range'])"
   ]
  },
  {
   "cell_type": "code",
   "execution_count": 19,
   "metadata": {},
   "outputs": [
    {
     "data": {
      "text/plain": [
       "<matplotlib.axes._subplots.AxesSubplot at 0x293b62d88c8>"
      ]
     },
     "execution_count": 19,
     "metadata": {},
     "output_type": "execute_result"
    },
    {
     "data": {
      "image/png": "[encoded data removed]",
      "text/plain": [
       "<Figure size 432x288 with 1 Axes>"
      ]
     },
     "metadata": {
      "needs_background": "light"
     },
     "output_type": "display_data"
    }
   ],
   "source": [
    "sns.countplot(x = 'wifi', hue = arr[-1], data = df)"
   ]
  },
  {
   "cell_type": "code",
   "execution_count": 20,
   "metadata": {},
   "outputs": [
    {
     "data": {
      "text/plain": [
       "yes    1014\n",
       "no      986\n",
       "Name: wifi, dtype: int64"
      ]
     },
     "execution_count": 20,
     "metadata": {},
     "output_type": "execute_result"
    }
   ],
   "source": [
    "df[\"wifi\"].value_counts()"
   ]
  },
  {
   "cell_type": "markdown",
   "metadata": {},
   "source": [
    "### Decisiones finales sobre los atributos binarios\n",
    "\n",
    "Gracias al analisis realizado anteriormente hemos podido concluir que todos los atributos binarios son necesarios para la clasificacion del precio de los celulares ya que todos demuestran una clara diferencia y particion de los datos en las graficas.\n"
   ]
  },
  {
   "cell_type": "markdown",
   "metadata": {},
   "source": [
    "## Explorando atributos numericos"
   ]
  },
  {
   "cell_type": "markdown",
   "metadata": {},
   "source": [
    "En la siguiente sección se tomaran en cuenta los atributos que presenten una distribución, ademas como en la seccion anterior se decidiran que atributos son necesarios para el modelo"
   ]
  },
  {
   "cell_type": "code",
   "execution_count": 21,
   "metadata": {
    "scrolled": true
   },
   "outputs": [
    {
     "data": {
      "text/html": [
       "<div>\n",
       "<style scoped>\n",
       "    .dataframe tbody tr th:only-of-type {\n",
       "        vertical-align: middle;\n",
       "    }\n",
       "\n",
       "    .dataframe tbody tr th {\n",
       "        vertical-align: top;\n",
       "    }\n",
       "\n",
       "    .dataframe thead th {\n",
       "        text-align: right;\n",
       "    }\n",
       "</style>\n",
       "<table border=\"1\" class=\"dataframe\">\n",
       "  <thead>\n",
       "    <tr style=\"text-align: right;\">\n",
       "      <th></th>\n",
       "      <th>clock_speed</th>\n",
       "      <th>m_dep</th>\n",
       "      <th>battery_power</th>\n",
       "      <th>fc</th>\n",
       "      <th>int_memory</th>\n",
       "      <th>mobile_wt</th>\n",
       "      <th>n_cores</th>\n",
       "      <th>pc</th>\n",
       "      <th>px_height</th>\n",
       "      <th>px_width</th>\n",
       "      <th>ram</th>\n",
       "      <th>sc_h</th>\n",
       "      <th>sc_w</th>\n",
       "      <th>talk_time</th>\n",
       "      <th>price_range</th>\n",
       "    </tr>\n",
       "  </thead>\n",
       "  <tbody>\n",
       "    <tr>\n",
       "      <td>count</td>\n",
       "      <td>2000.000000</td>\n",
       "      <td>2000.000000</td>\n",
       "      <td>2000.000000</td>\n",
       "      <td>2000.000000</td>\n",
       "      <td>2000.000000</td>\n",
       "      <td>2000.000000</td>\n",
       "      <td>2000.000000</td>\n",
       "      <td>2000.000000</td>\n",
       "      <td>2000.000000</td>\n",
       "      <td>2000.000000</td>\n",
       "      <td>2000.000000</td>\n",
       "      <td>2000.000000</td>\n",
       "      <td>2000.000000</td>\n",
       "      <td>2000.000000</td>\n",
       "      <td>2000.000000</td>\n",
       "    </tr>\n",
       "    <tr>\n",
       "      <td>mean</td>\n",
       "      <td>1.522250</td>\n",
       "      <td>0.501750</td>\n",
       "      <td>1238.518500</td>\n",
       "      <td>4.309500</td>\n",
       "      <td>32.046500</td>\n",
       "      <td>140.249000</td>\n",
       "      <td>4.520500</td>\n",
       "      <td>9.916500</td>\n",
       "      <td>645.108000</td>\n",
       "      <td>1251.515500</td>\n",
       "      <td>2124.213000</td>\n",
       "      <td>12.306500</td>\n",
       "      <td>5.767000</td>\n",
       "      <td>11.011000</td>\n",
       "      <td>1.500000</td>\n",
       "    </tr>\n",
       "    <tr>\n",
       "      <td>std</td>\n",
       "      <td>0.816004</td>\n",
       "      <td>0.288416</td>\n",
       "      <td>439.418206</td>\n",
       "      <td>4.341444</td>\n",
       "      <td>18.145715</td>\n",
       "      <td>35.399655</td>\n",
       "      <td>2.287837</td>\n",
       "      <td>6.064315</td>\n",
       "      <td>443.780811</td>\n",
       "      <td>432.199447</td>\n",
       "      <td>1084.732044</td>\n",
       "      <td>4.213245</td>\n",
       "      <td>4.356398</td>\n",
       "      <td>5.463955</td>\n",
       "      <td>1.118314</td>\n",
       "    </tr>\n",
       "    <tr>\n",
       "      <td>min</td>\n",
       "      <td>0.500000</td>\n",
       "      <td>0.100000</td>\n",
       "      <td>501.000000</td>\n",
       "      <td>0.000000</td>\n",
       "      <td>2.000000</td>\n",
       "      <td>80.000000</td>\n",
       "      <td>1.000000</td>\n",
       "      <td>0.000000</td>\n",
       "      <td>0.000000</td>\n",
       "      <td>500.000000</td>\n",
       "      <td>256.000000</td>\n",
       "      <td>5.000000</td>\n",
       "      <td>0.000000</td>\n",
       "      <td>2.000000</td>\n",
       "      <td>0.000000</td>\n",
       "    </tr>\n",
       "    <tr>\n",
       "      <td>25%</td>\n",
       "      <td>0.700000</td>\n",
       "      <td>0.200000</td>\n",
       "      <td>851.750000</td>\n",
       "      <td>1.000000</td>\n",
       "      <td>16.000000</td>\n",
       "      <td>109.000000</td>\n",
       "      <td>3.000000</td>\n",
       "      <td>5.000000</td>\n",
       "      <td>282.750000</td>\n",
       "      <td>874.750000</td>\n",
       "      <td>1207.500000</td>\n",
       "      <td>9.000000</td>\n",
       "      <td>2.000000</td>\n",
       "      <td>6.000000</td>\n",
       "      <td>0.750000</td>\n",
       "    </tr>\n",
       "    <tr>\n",
       "      <td>50%</td>\n",
       "      <td>1.500000</td>\n",
       "      <td>0.500000</td>\n",
       "      <td>1226.000000</td>\n",
       "      <td>3.000000</td>\n",
       "      <td>32.000000</td>\n",
       "      <td>141.000000</td>\n",
       "      <td>4.000000</td>\n",
       "      <td>10.000000</td>\n",
       "      <td>564.000000</td>\n",
       "      <td>1247.000000</td>\n",
       "      <td>2146.500000</td>\n",
       "      <td>12.000000</td>\n",
       "      <td>5.000000</td>\n",
       "      <td>11.000000</td>\n",
       "      <td>1.500000</td>\n",
       "    </tr>\n",
       "    <tr>\n",
       "      <td>75%</td>\n",
       "      <td>2.200000</td>\n",
       "      <td>0.800000</td>\n",
       "      <td>1615.250000</td>\n",
       "      <td>7.000000</td>\n",
       "      <td>48.000000</td>\n",
       "      <td>170.000000</td>\n",
       "      <td>7.000000</td>\n",
       "      <td>15.000000</td>\n",
       "      <td>947.250000</td>\n",
       "      <td>1633.000000</td>\n",
       "      <td>3064.500000</td>\n",
       "      <td>16.000000</td>\n",
       "      <td>9.000000</td>\n",
       "      <td>16.000000</td>\n",
       "      <td>2.250000</td>\n",
       "    </tr>\n",
       "    <tr>\n",
       "      <td>max</td>\n",
       "      <td>3.000000</td>\n",
       "      <td>1.000000</td>\n",
       "      <td>1998.000000</td>\n",
       "      <td>19.000000</td>\n",
       "      <td>64.000000</td>\n",
       "      <td>200.000000</td>\n",
       "      <td>8.000000</td>\n",
       "      <td>20.000000</td>\n",
       "      <td>1960.000000</td>\n",
       "      <td>1998.000000</td>\n",
       "      <td>3998.000000</td>\n",
       "      <td>19.000000</td>\n",
       "      <td>18.000000</td>\n",
       "      <td>20.000000</td>\n",
       "      <td>3.000000</td>\n",
       "    </tr>\n",
       "  </tbody>\n",
       "</table>\n",
       "</div>"
      ],
      "text/plain": [
       "       clock_speed        m_dep  battery_power           fc   int_memory  \\\n",
       "count  2000.000000  2000.000000    2000.000000  2000.000000  2000.000000   \n",
       "mean      1.522250     0.501750    1238.518500     4.309500    32.046500   \n",
       "std       0.816004     0.288416     439.418206     4.341444    18.145715   \n",
       "min       0.500000     0.100000     501.000000     0.000000     2.000000   \n",
       "25%       0.700000     0.200000     851.750000     1.000000    16.000000   \n",
       "50%       1.500000     0.500000    1226.000000     3.000000    32.000000   \n",
       "75%       2.200000     0.800000    1615.250000     7.000000    48.000000   \n",
       "max       3.000000     1.000000    1998.000000    19.000000    64.000000   \n",
       "\n",
       "         mobile_wt      n_cores           pc    px_height     px_width  \\\n",
       "count  2000.000000  2000.000000  2000.000000  2000.000000  2000.000000   \n",
       "mean    140.249000     4.520500     9.916500   645.108000  1251.515500   \n",
       "std      35.399655     2.287837     6.064315   443.780811   432.199447   \n",
       "min      80.000000     1.000000     0.000000     0.000000   500.000000   \n",
       "25%     109.000000     3.000000     5.000000   282.750000   874.750000   \n",
       "50%     141.000000     4.000000    10.000000   564.000000  1247.000000   \n",
       "75%     170.000000     7.000000    15.000000   947.250000  1633.000000   \n",
       "max     200.000000     8.000000    20.000000  1960.000000  1998.000000   \n",
       "\n",
       "               ram         sc_h         sc_w    talk_time  price_range  \n",
       "count  2000.000000  2000.000000  2000.000000  2000.000000  2000.000000  \n",
       "mean   2124.213000    12.306500     5.767000    11.011000     1.500000  \n",
       "std    1084.732044     4.213245     4.356398     5.463955     1.118314  \n",
       "min     256.000000     5.000000     0.000000     2.000000     0.000000  \n",
       "25%    1207.500000     9.000000     2.000000     6.000000     0.750000  \n",
       "50%    2146.500000    12.000000     5.000000    11.000000     1.500000  \n",
       "75%    3064.500000    16.000000     9.000000    16.000000     2.250000  \n",
       "max    3998.000000    19.000000    18.000000    20.000000     3.000000  "
      ]
     },
     "execution_count": 21,
     "metadata": {},
     "output_type": "execute_result"
    }
   ],
   "source": [
    "df.describe()"
   ]
  },
  {
   "cell_type": "code",
   "execution_count": 22,
   "metadata": {},
   "outputs": [
    {
     "data": {
      "text/plain": [
       "price_range      1.000000\n",
       "ram              0.917046\n",
       "battery_power    0.200723\n",
       "px_width         0.165818\n",
       "px_height        0.148858\n",
       "int_memory       0.044435\n",
       "sc_w             0.038711\n",
       "pc               0.033599\n",
       "sc_h             0.022986\n",
       "fc               0.021998\n",
       "talk_time        0.021859\n",
       "n_cores          0.004399\n",
       "m_dep            0.000853\n",
       "clock_speed     -0.006606\n",
       "mobile_wt       -0.030302\n",
       "Name: price_range, dtype: float64"
      ]
     },
     "execution_count": 22,
     "metadata": {},
     "output_type": "execute_result"
    }
   ],
   "source": [
    "df.corr()[\"price_range\"].sort_values(ascending=False)"
   ]
  },
  {
   "cell_type": "markdown",
   "metadata": {},
   "source": [
    "### Atributos dudosos\n",
    "Los siguientes atributos, que por su ambigüedad merecen un analisis detallado, son dudosos porque, la lógica dicta que por ejemplo el peso de un celular no determina que tan caro es de hacer, pues es un atributo que solo es determinado aundo ya esta hecho el producto, la decisión de borrarlos se toman por la tabla anterior pues su correlacion con el precio es nula."
   ]
  },
  {
   "cell_type": "code",
   "execution_count": 23,
   "metadata": {},
   "outputs": [],
   "source": [
    "df[\"sc_area\"]=df[\"sc_h\"]*df[\"sc_w\"] \n",
    "df[\"px_area\"]=df[\"px_height\"]*df[\"px_width\"]"
   ]
  },
  {
   "cell_type": "code",
   "execution_count": 24,
   "metadata": {},
   "outputs": [],
   "source": [
    "df.drop([\"clock_speed\",\"m_dep\",\"mobile_wt\",\"sc_h\",\"sc_w\",\"px_height\",\"px_width\"],axis=1,inplace=True)"
   ]
  },
  {
   "cell_type": "code",
   "execution_count": 25,
   "metadata": {},
   "outputs": [
    {
     "data": {
      "text/html": [
       "<div>\n",
       "<style scoped>\n",
       "    .dataframe tbody tr th:only-of-type {\n",
       "        vertical-align: middle;\n",
       "    }\n",
       "\n",
       "    .dataframe tbody tr th {\n",
       "        vertical-align: top;\n",
       "    }\n",
       "\n",
       "    .dataframe thead th {\n",
       "        text-align: right;\n",
       "    }\n",
       "</style>\n",
       "<table border=\"1\" class=\"dataframe\">\n",
       "  <thead>\n",
       "    <tr style=\"text-align: right;\">\n",
       "      <th></th>\n",
       "      <th>blue</th>\n",
       "      <th>dual_sim</th>\n",
       "      <th>four_g</th>\n",
       "      <th>three_g</th>\n",
       "      <th>touch_screen</th>\n",
       "      <th>wifi</th>\n",
       "      <th>battery_power</th>\n",
       "      <th>fc</th>\n",
       "      <th>int_memory</th>\n",
       "      <th>n_cores</th>\n",
       "      <th>pc</th>\n",
       "      <th>ram</th>\n",
       "      <th>talk_time</th>\n",
       "      <th>price_range</th>\n",
       "      <th>sc_area</th>\n",
       "      <th>px_area</th>\n",
       "    </tr>\n",
       "  </thead>\n",
       "  <tbody>\n",
       "    <tr>\n",
       "      <td>0</td>\n",
       "      <td>no</td>\n",
       "      <td>no</td>\n",
       "      <td>no</td>\n",
       "      <td>no</td>\n",
       "      <td>no</td>\n",
       "      <td>yes</td>\n",
       "      <td>842</td>\n",
       "      <td>1</td>\n",
       "      <td>7</td>\n",
       "      <td>2</td>\n",
       "      <td>2</td>\n",
       "      <td>2549</td>\n",
       "      <td>19</td>\n",
       "      <td>1</td>\n",
       "      <td>63</td>\n",
       "      <td>15120</td>\n",
       "    </tr>\n",
       "    <tr>\n",
       "      <td>1</td>\n",
       "      <td>yes</td>\n",
       "      <td>yes</td>\n",
       "      <td>yes</td>\n",
       "      <td>yes</td>\n",
       "      <td>yes</td>\n",
       "      <td>no</td>\n",
       "      <td>1021</td>\n",
       "      <td>0</td>\n",
       "      <td>53</td>\n",
       "      <td>3</td>\n",
       "      <td>6</td>\n",
       "      <td>2631</td>\n",
       "      <td>7</td>\n",
       "      <td>2</td>\n",
       "      <td>51</td>\n",
       "      <td>1799140</td>\n",
       "    </tr>\n",
       "    <tr>\n",
       "      <td>2</td>\n",
       "      <td>yes</td>\n",
       "      <td>yes</td>\n",
       "      <td>yes</td>\n",
       "      <td>yes</td>\n",
       "      <td>yes</td>\n",
       "      <td>no</td>\n",
       "      <td>563</td>\n",
       "      <td>2</td>\n",
       "      <td>41</td>\n",
       "      <td>5</td>\n",
       "      <td>6</td>\n",
       "      <td>2603</td>\n",
       "      <td>9</td>\n",
       "      <td>2</td>\n",
       "      <td>22</td>\n",
       "      <td>2167308</td>\n",
       "    </tr>\n",
       "    <tr>\n",
       "      <td>3</td>\n",
       "      <td>yes</td>\n",
       "      <td>no</td>\n",
       "      <td>no</td>\n",
       "      <td>yes</td>\n",
       "      <td>no</td>\n",
       "      <td>no</td>\n",
       "      <td>615</td>\n",
       "      <td>0</td>\n",
       "      <td>10</td>\n",
       "      <td>6</td>\n",
       "      <td>9</td>\n",
       "      <td>2769</td>\n",
       "      <td>11</td>\n",
       "      <td>2</td>\n",
       "      <td>128</td>\n",
       "      <td>2171776</td>\n",
       "    </tr>\n",
       "    <tr>\n",
       "      <td>4</td>\n",
       "      <td>yes</td>\n",
       "      <td>no</td>\n",
       "      <td>yes</td>\n",
       "      <td>yes</td>\n",
       "      <td>yes</td>\n",
       "      <td>no</td>\n",
       "      <td>1821</td>\n",
       "      <td>13</td>\n",
       "      <td>44</td>\n",
       "      <td>2</td>\n",
       "      <td>14</td>\n",
       "      <td>1411</td>\n",
       "      <td>15</td>\n",
       "      <td>1</td>\n",
       "      <td>16</td>\n",
       "      <td>1464096</td>\n",
       "    </tr>\n",
       "  </tbody>\n",
       "</table>\n",
       "</div>"
      ],
      "text/plain": [
       "  blue dual_sim four_g three_g touch_screen wifi  battery_power  fc  \\\n",
       "0   no       no     no      no           no  yes            842   1   \n",
       "1  yes      yes    yes     yes          yes   no           1021   0   \n",
       "2  yes      yes    yes     yes          yes   no            563   2   \n",
       "3  yes       no     no     yes           no   no            615   0   \n",
       "4  yes       no    yes     yes          yes   no           1821  13   \n",
       "\n",
       "   int_memory  n_cores  pc   ram  talk_time  price_range  sc_area  px_area  \n",
       "0           7        2   2  2549         19            1       63    15120  \n",
       "1          53        3   6  2631          7            2       51  1799140  \n",
       "2          41        5   6  2603          9            2       22  2167308  \n",
       "3          10        6   9  2769         11            2      128  2171776  \n",
       "4          44        2  14  1411         15            1       16  1464096  "
      ]
     },
     "execution_count": 25,
     "metadata": {},
     "output_type": "execute_result"
    }
   ],
   "source": [
    "df.head()"
   ]
  },
  {
   "cell_type": "code",
   "execution_count": 26,
   "metadata": {},
   "outputs": [],
   "source": [
    "arr=list(df.columns)\n",
    "arr=arr[:-3]+arr[-2:]+[arr[-3]]\n",
    "df=df[arr]"
   ]
  },
  {
   "cell_type": "code",
   "execution_count": 27,
   "metadata": {},
   "outputs": [
    {
     "data": {
      "text/plain": [
       "array([[<matplotlib.axes._subplots.AxesSubplot object at 0x00000293B63E4148>]],\n",
       "      dtype=object)"
      ]
     },
     "execution_count": 27,
     "metadata": {},
     "output_type": "execute_result"
    },
    {
     "data": {
      "image/png": "[encoded data removed]",
      "text/plain": [
       "<Figure size 432x288 with 1 Axes>"
      ]
     },
     "metadata": {
      "needs_background": "light"
     },
     "output_type": "display_data"
    }
   ],
   "source": [
    "df.hist(column= \"sc_area\",bins=50, grid=False, color=\"#48b41c\")"
   ]
  },
  {
   "cell_type": "code",
   "execution_count": 28,
   "metadata": {},
   "outputs": [
    {
     "data": {
      "text/plain": [
       "array([[<matplotlib.axes._subplots.AxesSubplot object at 0x00000293B64E1808>]],\n",
       "      dtype=object)"
      ]
     },
     "execution_count": 28,
     "metadata": {},
     "output_type": "execute_result"
    },
    {
     "data": {
      "image/png": "[encoded data removed]",
      "text/plain": [
       "<Figure size 432x288 with 1 Axes>"
      ]
     },
     "metadata": {
      "needs_background": "light"
     },
     "output_type": "display_data"
    }
   ],
   "source": [
    "df.hist(column= \"px_area\",bins=50, grid=False, color=\"#48b41c\")"
   ]
  },
  {
   "cell_type": "code",
   "execution_count": 29,
   "metadata": {},
   "outputs": [
    {
     "data": {
      "text/plain": [
       "count    2000.000000\n",
       "mean       80.257000\n",
       "std        76.824156\n",
       "min         0.000000\n",
       "25%        19.000000\n",
       "50%        55.000000\n",
       "75%       121.500000\n",
       "max       342.000000\n",
       "Name: sc_area, dtype: float64"
      ]
     },
     "execution_count": 29,
     "metadata": {},
     "output_type": "execute_result"
    }
   ],
   "source": [
    "df[\"sc_area\"].describe()"
   ]
  },
  {
   "cell_type": "code",
   "execution_count": 30,
   "metadata": {},
   "outputs": [
    {
     "data": {
      "text/plain": [
       "count    2.000000e+03\n",
       "mean     9.052601e+05\n",
       "std      8.297625e+05\n",
       "min      0.000000e+00\n",
       "25%      2.632005e+05\n",
       "50%      6.013590e+05\n",
       "75%      1.359027e+06\n",
       "max      3.886306e+06\n",
       "Name: px_area, dtype: float64"
      ]
     },
     "execution_count": 30,
     "metadata": {},
     "output_type": "execute_result"
    }
   ],
   "source": [
    "df[\"px_area\"].describe()"
   ]
  },
  {
   "cell_type": "markdown",
   "metadata": {},
   "source": [
    "### battery_power"
   ]
  },
  {
   "cell_type": "code",
   "execution_count": 31,
   "metadata": {},
   "outputs": [
    {
     "data": {
      "text/html": [
       "<div>\n",
       "<style scoped>\n",
       "    .dataframe tbody tr th:only-of-type {\n",
       "        vertical-align: middle;\n",
       "    }\n",
       "\n",
       "    .dataframe tbody tr th {\n",
       "        vertical-align: top;\n",
       "    }\n",
       "\n",
       "    .dataframe thead th {\n",
       "        text-align: right;\n",
       "    }\n",
       "</style>\n",
       "<table border=\"1\" class=\"dataframe\">\n",
       "  <thead>\n",
       "    <tr style=\"text-align: right;\">\n",
       "      <th></th>\n",
       "      <th>blue</th>\n",
       "      <th>dual_sim</th>\n",
       "      <th>four_g</th>\n",
       "      <th>three_g</th>\n",
       "      <th>touch_screen</th>\n",
       "      <th>wifi</th>\n",
       "      <th>battery_power</th>\n",
       "      <th>fc</th>\n",
       "      <th>int_memory</th>\n",
       "      <th>n_cores</th>\n",
       "      <th>pc</th>\n",
       "      <th>ram</th>\n",
       "      <th>talk_time</th>\n",
       "      <th>sc_area</th>\n",
       "      <th>px_area</th>\n",
       "      <th>price_range</th>\n",
       "    </tr>\n",
       "  </thead>\n",
       "  <tbody>\n",
       "    <tr>\n",
       "      <td>0</td>\n",
       "      <td>no</td>\n",
       "      <td>no</td>\n",
       "      <td>no</td>\n",
       "      <td>no</td>\n",
       "      <td>no</td>\n",
       "      <td>yes</td>\n",
       "      <td>842</td>\n",
       "      <td>1</td>\n",
       "      <td>7</td>\n",
       "      <td>2</td>\n",
       "      <td>2</td>\n",
       "      <td>2549</td>\n",
       "      <td>19</td>\n",
       "      <td>63</td>\n",
       "      <td>15120</td>\n",
       "      <td>1</td>\n",
       "    </tr>\n",
       "    <tr>\n",
       "      <td>1</td>\n",
       "      <td>yes</td>\n",
       "      <td>yes</td>\n",
       "      <td>yes</td>\n",
       "      <td>yes</td>\n",
       "      <td>yes</td>\n",
       "      <td>no</td>\n",
       "      <td>1021</td>\n",
       "      <td>0</td>\n",
       "      <td>53</td>\n",
       "      <td>3</td>\n",
       "      <td>6</td>\n",
       "      <td>2631</td>\n",
       "      <td>7</td>\n",
       "      <td>51</td>\n",
       "      <td>1799140</td>\n",
       "      <td>2</td>\n",
       "    </tr>\n",
       "    <tr>\n",
       "      <td>2</td>\n",
       "      <td>yes</td>\n",
       "      <td>yes</td>\n",
       "      <td>yes</td>\n",
       "      <td>yes</td>\n",
       "      <td>yes</td>\n",
       "      <td>no</td>\n",
       "      <td>563</td>\n",
       "      <td>2</td>\n",
       "      <td>41</td>\n",
       "      <td>5</td>\n",
       "      <td>6</td>\n",
       "      <td>2603</td>\n",
       "      <td>9</td>\n",
       "      <td>22</td>\n",
       "      <td>2167308</td>\n",
       "      <td>2</td>\n",
       "    </tr>\n",
       "    <tr>\n",
       "      <td>3</td>\n",
       "      <td>yes</td>\n",
       "      <td>no</td>\n",
       "      <td>no</td>\n",
       "      <td>yes</td>\n",
       "      <td>no</td>\n",
       "      <td>no</td>\n",
       "      <td>615</td>\n",
       "      <td>0</td>\n",
       "      <td>10</td>\n",
       "      <td>6</td>\n",
       "      <td>9</td>\n",
       "      <td>2769</td>\n",
       "      <td>11</td>\n",
       "      <td>128</td>\n",
       "      <td>2171776</td>\n",
       "      <td>2</td>\n",
       "    </tr>\n",
       "    <tr>\n",
       "      <td>4</td>\n",
       "      <td>yes</td>\n",
       "      <td>no</td>\n",
       "      <td>yes</td>\n",
       "      <td>yes</td>\n",
       "      <td>yes</td>\n",
       "      <td>no</td>\n",
       "      <td>1821</td>\n",
       "      <td>13</td>\n",
       "      <td>44</td>\n",
       "      <td>2</td>\n",
       "      <td>14</td>\n",
       "      <td>1411</td>\n",
       "      <td>15</td>\n",
       "      <td>16</td>\n",
       "      <td>1464096</td>\n",
       "      <td>1</td>\n",
       "    </tr>\n",
       "  </tbody>\n",
       "</table>\n",
       "</div>"
      ],
      "text/plain": [
       "  blue dual_sim four_g three_g touch_screen wifi  battery_power  fc  \\\n",
       "0   no       no     no      no           no  yes            842   1   \n",
       "1  yes      yes    yes     yes          yes   no           1021   0   \n",
       "2  yes      yes    yes     yes          yes   no            563   2   \n",
       "3  yes       no     no     yes           no   no            615   0   \n",
       "4  yes       no    yes     yes          yes   no           1821  13   \n",
       "\n",
       "   int_memory  n_cores  pc   ram  talk_time  sc_area  px_area  price_range  \n",
       "0           7        2   2  2549         19       63    15120            1  \n",
       "1          53        3   6  2631          7       51  1799140            2  \n",
       "2          41        5   6  2603          9       22  2167308            2  \n",
       "3          10        6   9  2769         11      128  2171776            2  \n",
       "4          44        2  14  1411         15       16  1464096            1  "
      ]
     },
     "execution_count": 31,
     "metadata": {},
     "output_type": "execute_result"
    }
   ],
   "source": [
    "df.head()"
   ]
  },
  {
   "cell_type": "code",
   "execution_count": 32,
   "metadata": {},
   "outputs": [
    {
     "data": {
      "text/plain": [
       "array([[<matplotlib.axes._subplots.AxesSubplot object at 0x00000293B759DC08>]],\n",
       "      dtype=object)"
      ]
     },
     "execution_count": 32,
     "metadata": {},
     "output_type": "execute_result"
    },
    {
     "data": {
      "image/png": "[encoded data removed]",
      "text/plain": [
       "<Figure size 432x288 with 1 Axes>"
      ]
     },
     "metadata": {
      "needs_background": "light"
     },
     "output_type": "display_data"
    }
   ],
   "source": [
    "df.hist(column= \"battery_power\",bins=15, grid=False, color=\"#48b41c\")"
   ]
  },
  {
   "cell_type": "code",
   "execution_count": 33,
   "metadata": {},
   "outputs": [
    {
     "data": {
      "text/plain": [
       "array([[<matplotlib.axes._subplots.AxesSubplot object at 0x00000293B75B7848>,\n",
       "        <matplotlib.axes._subplots.AxesSubplot object at 0x00000293B7663EC8>],\n",
       "       [<matplotlib.axes._subplots.AxesSubplot object at 0x00000293B769E6C8>,\n",
       "        <matplotlib.axes._subplots.AxesSubplot object at 0x00000293B76D8108>]],\n",
       "      dtype=object)"
      ]
     },
     "execution_count": 33,
     "metadata": {},
     "output_type": "execute_result"
    },
    {
     "data": {
      "image/png": "[encoded data removed]",
      "text/plain": [
       "<Figure size 432x288 with 4 Axes>"
      ]
     },
     "metadata": {
      "needs_background": "light"
     },
     "output_type": "display_data"
    }
   ],
   "source": [
    "df.hist(column= \"battery_power\",bins=15, grid=False, color=\"#48b41c\", by = \"price_range\")"
   ]
  },
  {
   "cell_type": "code",
   "execution_count": 34,
   "metadata": {},
   "outputs": [
    {
     "data": {
      "text/plain": [
       "count     500.000000\n",
       "mean     1116.902000\n",
       "std       410.801305\n",
       "min       503.000000\n",
       "25%       770.500000\n",
       "50%      1066.000000\n",
       "75%      1431.250000\n",
       "max      1994.000000\n",
       "Name: battery_power, dtype: float64"
      ]
     },
     "execution_count": 34,
     "metadata": {},
     "output_type": "execute_result"
    }
   ],
   "source": [
    "df[df[\"price_range\"]==0][\"battery_power\"].describe()"
   ]
  },
  {
   "cell_type": "code",
   "execution_count": 35,
   "metadata": {},
   "outputs": [
    {
     "data": {
      "text/plain": [
       "count     500.000000\n",
       "mean     1228.868000\n",
       "std       438.614528\n",
       "min       501.000000\n",
       "25%       843.000000\n",
       "50%      1206.000000\n",
       "75%      1596.250000\n",
       "max      1996.000000\n",
       "Name: battery_power, dtype: float64"
      ]
     },
     "execution_count": 35,
     "metadata": {},
     "output_type": "execute_result"
    }
   ],
   "source": [
    "df[df[\"price_range\"]==1][\"battery_power\"].describe()"
   ]
  },
  {
   "cell_type": "code",
   "execution_count": 36,
   "metadata": {},
   "outputs": [
    {
     "data": {
      "text/plain": [
       "count     500.000000\n",
       "mean     1228.320000\n",
       "std       452.863065\n",
       "min       501.000000\n",
       "25%       816.500000\n",
       "50%      1219.500000\n",
       "75%      1635.750000\n",
       "max      1998.000000\n",
       "Name: battery_power, dtype: float64"
      ]
     },
     "execution_count": 36,
     "metadata": {},
     "output_type": "execute_result"
    }
   ],
   "source": [
    "df[df[\"price_range\"]==2][\"battery_power\"].describe()"
   ]
  },
  {
   "cell_type": "code",
   "execution_count": 37,
   "metadata": {},
   "outputs": [
    {
     "data": {
      "text/plain": [
       "count     500.000000\n",
       "mean     1379.984000\n",
       "std       414.992261\n",
       "min       503.000000\n",
       "25%      1034.750000\n",
       "50%      1449.500000\n",
       "75%      1733.500000\n",
       "max      1994.000000\n",
       "Name: battery_power, dtype: float64"
      ]
     },
     "execution_count": 37,
     "metadata": {},
     "output_type": "execute_result"
    }
   ],
   "source": [
    "df[df[\"price_range\"]==3][\"battery_power\"].describe()"
   ]
  },
  {
   "cell_type": "code",
   "execution_count": 38,
   "metadata": {},
   "outputs": [
    {
     "data": {
      "text/plain": [
       "(794, 16)"
      ]
     },
     "execution_count": 38,
     "metadata": {},
     "output_type": "execute_result"
    }
   ],
   "source": [
    "df[(df[\"battery_power\"]>1400)].shape"
   ]
  },
  {
   "cell_type": "code",
   "execution_count": 39,
   "metadata": {},
   "outputs": [],
   "source": [
    "df['battery_power'] = pd.cut(df['battery_power'], bins = [501, 1116 , 1400, 2000], labels = ['low', 'medium','high'])"
   ]
  },
  {
   "cell_type": "code",
   "execution_count": 40,
   "metadata": {},
   "outputs": [
    {
     "data": {
      "text/html": [
       "<div>\n",
       "<style scoped>\n",
       "    .dataframe tbody tr th:only-of-type {\n",
       "        vertical-align: middle;\n",
       "    }\n",
       "\n",
       "    .dataframe tbody tr th {\n",
       "        vertical-align: top;\n",
       "    }\n",
       "\n",
       "    .dataframe thead th {\n",
       "        text-align: right;\n",
       "    }\n",
       "</style>\n",
       "<table border=\"1\" class=\"dataframe\">\n",
       "  <thead>\n",
       "    <tr style=\"text-align: right;\">\n",
       "      <th></th>\n",
       "      <th>blue</th>\n",
       "      <th>dual_sim</th>\n",
       "      <th>four_g</th>\n",
       "      <th>three_g</th>\n",
       "      <th>touch_screen</th>\n",
       "      <th>wifi</th>\n",
       "      <th>battery_power</th>\n",
       "      <th>fc</th>\n",
       "      <th>int_memory</th>\n",
       "      <th>n_cores</th>\n",
       "      <th>pc</th>\n",
       "      <th>ram</th>\n",
       "      <th>talk_time</th>\n",
       "      <th>sc_area</th>\n",
       "      <th>px_area</th>\n",
       "      <th>price_range</th>\n",
       "    </tr>\n",
       "  </thead>\n",
       "  <tbody>\n",
       "    <tr>\n",
       "      <td>0</td>\n",
       "      <td>no</td>\n",
       "      <td>no</td>\n",
       "      <td>no</td>\n",
       "      <td>no</td>\n",
       "      <td>no</td>\n",
       "      <td>yes</td>\n",
       "      <td>low</td>\n",
       "      <td>1</td>\n",
       "      <td>7</td>\n",
       "      <td>2</td>\n",
       "      <td>2</td>\n",
       "      <td>2549</td>\n",
       "      <td>19</td>\n",
       "      <td>63</td>\n",
       "      <td>15120</td>\n",
       "      <td>1</td>\n",
       "    </tr>\n",
       "    <tr>\n",
       "      <td>1</td>\n",
       "      <td>yes</td>\n",
       "      <td>yes</td>\n",
       "      <td>yes</td>\n",
       "      <td>yes</td>\n",
       "      <td>yes</td>\n",
       "      <td>no</td>\n",
       "      <td>low</td>\n",
       "      <td>0</td>\n",
       "      <td>53</td>\n",
       "      <td>3</td>\n",
       "      <td>6</td>\n",
       "      <td>2631</td>\n",
       "      <td>7</td>\n",
       "      <td>51</td>\n",
       "      <td>1799140</td>\n",
       "      <td>2</td>\n",
       "    </tr>\n",
       "    <tr>\n",
       "      <td>2</td>\n",
       "      <td>yes</td>\n",
       "      <td>yes</td>\n",
       "      <td>yes</td>\n",
       "      <td>yes</td>\n",
       "      <td>yes</td>\n",
       "      <td>no</td>\n",
       "      <td>low</td>\n",
       "      <td>2</td>\n",
       "      <td>41</td>\n",
       "      <td>5</td>\n",
       "      <td>6</td>\n",
       "      <td>2603</td>\n",
       "      <td>9</td>\n",
       "      <td>22</td>\n",
       "      <td>2167308</td>\n",
       "      <td>2</td>\n",
       "    </tr>\n",
       "    <tr>\n",
       "      <td>3</td>\n",
       "      <td>yes</td>\n",
       "      <td>no</td>\n",
       "      <td>no</td>\n",
       "      <td>yes</td>\n",
       "      <td>no</td>\n",
       "      <td>no</td>\n",
       "      <td>low</td>\n",
       "      <td>0</td>\n",
       "      <td>10</td>\n",
       "      <td>6</td>\n",
       "      <td>9</td>\n",
       "      <td>2769</td>\n",
       "      <td>11</td>\n",
       "      <td>128</td>\n",
       "      <td>2171776</td>\n",
       "      <td>2</td>\n",
       "    </tr>\n",
       "    <tr>\n",
       "      <td>4</td>\n",
       "      <td>yes</td>\n",
       "      <td>no</td>\n",
       "      <td>yes</td>\n",
       "      <td>yes</td>\n",
       "      <td>yes</td>\n",
       "      <td>no</td>\n",
       "      <td>high</td>\n",
       "      <td>13</td>\n",
       "      <td>44</td>\n",
       "      <td>2</td>\n",
       "      <td>14</td>\n",
       "      <td>1411</td>\n",
       "      <td>15</td>\n",
       "      <td>16</td>\n",
       "      <td>1464096</td>\n",
       "      <td>1</td>\n",
       "    </tr>\n",
       "  </tbody>\n",
       "</table>\n",
       "</div>"
      ],
      "text/plain": [
       "  blue dual_sim four_g three_g touch_screen wifi battery_power  fc  \\\n",
       "0   no       no     no      no           no  yes           low   1   \n",
       "1  yes      yes    yes     yes          yes   no           low   0   \n",
       "2  yes      yes    yes     yes          yes   no           low   2   \n",
       "3  yes       no     no     yes           no   no           low   0   \n",
       "4  yes       no    yes     yes          yes   no          high  13   \n",
       "\n",
       "   int_memory  n_cores  pc   ram  talk_time  sc_area  px_area  price_range  \n",
       "0           7        2   2  2549         19       63    15120            1  \n",
       "1          53        3   6  2631          7       51  1799140            2  \n",
       "2          41        5   6  2603          9       22  2167308            2  \n",
       "3          10        6   9  2769         11      128  2171776            2  \n",
       "4          44        2  14  1411         15       16  1464096            1  "
      ]
     },
     "execution_count": 40,
     "metadata": {},
     "output_type": "execute_result"
    }
   ],
   "source": [
    "df.head()"
   ]
  },
  {
   "cell_type": "code",
   "execution_count": 41,
   "metadata": {},
   "outputs": [
    {
     "data": {
      "text/html": [
       "<div>\n",
       "<style scoped>\n",
       "    .dataframe tbody tr th:only-of-type {\n",
       "        vertical-align: middle;\n",
       "    }\n",
       "\n",
       "    .dataframe tbody tr th {\n",
       "        vertical-align: top;\n",
       "    }\n",
       "\n",
       "    .dataframe thead th {\n",
       "        text-align: right;\n",
       "    }\n",
       "</style>\n",
       "<table border=\"1\" class=\"dataframe\">\n",
       "  <thead>\n",
       "    <tr style=\"text-align: right;\">\n",
       "      <th></th>\n",
       "      <th>fc</th>\n",
       "      <th>int_memory</th>\n",
       "      <th>n_cores</th>\n",
       "      <th>pc</th>\n",
       "      <th>ram</th>\n",
       "      <th>talk_time</th>\n",
       "      <th>sc_area</th>\n",
       "      <th>px_area</th>\n",
       "      <th>price_range</th>\n",
       "    </tr>\n",
       "  </thead>\n",
       "  <tbody>\n",
       "    <tr>\n",
       "      <td>fc</td>\n",
       "      <td>1.000000</td>\n",
       "      <td>-0.029133</td>\n",
       "      <td>-0.013356</td>\n",
       "      <td>0.644595</td>\n",
       "      <td>0.015099</td>\n",
       "      <td>-0.006829</td>\n",
       "      <td>-0.011437</td>\n",
       "      <td>-0.012337</td>\n",
       "      <td>0.021998</td>\n",
       "    </tr>\n",
       "    <tr>\n",
       "      <td>int_memory</td>\n",
       "      <td>-0.029133</td>\n",
       "      <td>1.000000</td>\n",
       "      <td>-0.028310</td>\n",
       "      <td>-0.033273</td>\n",
       "      <td>0.032813</td>\n",
       "      <td>-0.002790</td>\n",
       "      <td>0.022887</td>\n",
       "      <td>0.015263</td>\n",
       "      <td>0.044435</td>\n",
       "    </tr>\n",
       "    <tr>\n",
       "      <td>n_cores</td>\n",
       "      <td>-0.013356</td>\n",
       "      <td>-0.028310</td>\n",
       "      <td>1.000000</td>\n",
       "      <td>-0.001193</td>\n",
       "      <td>0.004868</td>\n",
       "      <td>0.013148</td>\n",
       "      <td>0.021618</td>\n",
       "      <td>0.001245</td>\n",
       "      <td>0.004399</td>\n",
       "    </tr>\n",
       "    <tr>\n",
       "      <td>pc</td>\n",
       "      <td>0.644595</td>\n",
       "      <td>-0.033273</td>\n",
       "      <td>-0.001193</td>\n",
       "      <td>1.000000</td>\n",
       "      <td>0.028984</td>\n",
       "      <td>0.014657</td>\n",
       "      <td>-0.013611</td>\n",
       "      <td>-0.017451</td>\n",
       "      <td>0.033599</td>\n",
       "    </tr>\n",
       "    <tr>\n",
       "      <td>ram</td>\n",
       "      <td>0.015099</td>\n",
       "      <td>0.032813</td>\n",
       "      <td>0.004868</td>\n",
       "      <td>0.028984</td>\n",
       "      <td>1.000000</td>\n",
       "      <td>0.010820</td>\n",
       "      <td>0.033335</td>\n",
       "      <td>-0.006357</td>\n",
       "      <td>0.917046</td>\n",
       "    </tr>\n",
       "    <tr>\n",
       "      <td>talk_time</td>\n",
       "      <td>-0.006829</td>\n",
       "      <td>-0.002790</td>\n",
       "      <td>0.013148</td>\n",
       "      <td>0.014657</td>\n",
       "      <td>0.010820</td>\n",
       "      <td>1.000000</td>\n",
       "      <td>-0.026502</td>\n",
       "      <td>-0.010729</td>\n",
       "      <td>0.021859</td>\n",
       "    </tr>\n",
       "    <tr>\n",
       "      <td>sc_area</td>\n",
       "      <td>-0.011437</td>\n",
       "      <td>0.022887</td>\n",
       "      <td>0.021618</td>\n",
       "      <td>-0.013611</td>\n",
       "      <td>0.033335</td>\n",
       "      <td>-0.026502</td>\n",
       "      <td>1.000000</td>\n",
       "      <td>0.057003</td>\n",
       "      <td>0.041248</td>\n",
       "    </tr>\n",
       "    <tr>\n",
       "      <td>px_area</td>\n",
       "      <td>-0.012337</td>\n",
       "      <td>0.015263</td>\n",
       "      <td>0.001245</td>\n",
       "      <td>-0.017451</td>\n",
       "      <td>-0.006357</td>\n",
       "      <td>-0.010729</td>\n",
       "      <td>0.057003</td>\n",
       "      <td>1.000000</td>\n",
       "      <td>0.176240</td>\n",
       "    </tr>\n",
       "    <tr>\n",
       "      <td>price_range</td>\n",
       "      <td>0.021998</td>\n",
       "      <td>0.044435</td>\n",
       "      <td>0.004399</td>\n",
       "      <td>0.033599</td>\n",
       "      <td>0.917046</td>\n",
       "      <td>0.021859</td>\n",
       "      <td>0.041248</td>\n",
       "      <td>0.176240</td>\n",
       "      <td>1.000000</td>\n",
       "    </tr>\n",
       "  </tbody>\n",
       "</table>\n",
       "</div>"
      ],
      "text/plain": [
       "                   fc  int_memory   n_cores        pc       ram  talk_time  \\\n",
       "fc           1.000000   -0.029133 -0.013356  0.644595  0.015099  -0.006829   \n",
       "int_memory  -0.029133    1.000000 -0.028310 -0.033273  0.032813  -0.002790   \n",
       "n_cores     -0.013356   -0.028310  1.000000 -0.001193  0.004868   0.013148   \n",
       "pc           0.644595   -0.033273 -0.001193  1.000000  0.028984   0.014657   \n",
       "ram          0.015099    0.032813  0.004868  0.028984  1.000000   0.010820   \n",
       "talk_time   -0.006829   -0.002790  0.013148  0.014657  0.010820   1.000000   \n",
       "sc_area     -0.011437    0.022887  0.021618 -0.013611  0.033335  -0.026502   \n",
       "px_area     -0.012337    0.015263  0.001245 -0.017451 -0.006357  -0.010729   \n",
       "price_range  0.021998    0.044435  0.004399  0.033599  0.917046   0.021859   \n",
       "\n",
       "              sc_area   px_area  price_range  \n",
       "fc          -0.011437 -0.012337     0.021998  \n",
       "int_memory   0.022887  0.015263     0.044435  \n",
       "n_cores      0.021618  0.001245     0.004399  \n",
       "pc          -0.013611 -0.017451     0.033599  \n",
       "ram          0.033335 -0.006357     0.917046  \n",
       "talk_time   -0.026502 -0.010729     0.021859  \n",
       "sc_area      1.000000  0.057003     0.041248  \n",
       "px_area      0.057003  1.000000     0.176240  \n",
       "price_range  0.041248  0.176240     1.000000  "
      ]
     },
     "execution_count": 41,
     "metadata": {},
     "output_type": "execute_result"
    }
   ],
   "source": [
    "df.corr()"
   ]
  },
  {
   "cell_type": "markdown",
   "metadata": {},
   "source": [
    "### fc, pc"
   ]
  },
  {
   "cell_type": "code",
   "execution_count": 42,
   "metadata": {},
   "outputs": [
    {
     "data": {
      "text/plain": [
       "array([[<matplotlib.axes._subplots.AxesSubplot object at 0x00000293B781FEC8>,\n",
       "        <matplotlib.axes._subplots.AxesSubplot object at 0x00000293B785C688>],\n",
       "       [<matplotlib.axes._subplots.AxesSubplot object at 0x00000293B7890D48>,\n",
       "        <matplotlib.axes._subplots.AxesSubplot object at 0x00000293B78CB788>]],\n",
       "      dtype=object)"
      ]
     },
     "execution_count": 42,
     "metadata": {},
     "output_type": "execute_result"
    },
    {
     "data": {
      "image/png": "[encoded data removed]",
      "text/plain": [
       "<Figure size 432x288 with 4 Axes>"
      ]
     },
     "metadata": {
      "needs_background": "light"
     },
     "output_type": "display_data"
    }
   ],
   "source": [
    "df.hist(column= \"pc\",bins=15, grid=False, color=\"#48b41c\", by = \"price_range\")"
   ]
  },
  {
   "cell_type": "code",
   "execution_count": 43,
   "metadata": {},
   "outputs": [
    {
     "data": {
      "text/plain": [
       "array([[<matplotlib.axes._subplots.AxesSubplot object at 0x00000293B781FD48>,\n",
       "        <matplotlib.axes._subplots.AxesSubplot object at 0x00000293B7A4DE08>],\n",
       "       [<matplotlib.axes._subplots.AxesSubplot object at 0x00000293B7A80608>,\n",
       "        <matplotlib.axes._subplots.AxesSubplot object at 0x00000293B7AB9048>]],\n",
       "      dtype=object)"
      ]
     },
     "execution_count": 43,
     "metadata": {},
     "output_type": "execute_result"
    },
    {
     "data": {
      "image/png": "[encoded data removed]",
      "text/plain": [
       "<Figure size 432x288 with 4 Axes>"
      ]
     },
     "metadata": {
      "needs_background": "light"
     },
     "output_type": "display_data"
    }
   ],
   "source": [
    "df.hist(column= \"fc\",bins=15, grid=False, color=\"#48b41c\", by = \"price_range\")"
   ]
  },
  {
   "cell_type": "code",
   "execution_count": 44,
   "metadata": {},
   "outputs": [],
   "source": [
    "df.drop([\"fc\",\"pc\"],axis=1,inplace=True)"
   ]
  },
  {
   "cell_type": "markdown",
   "metadata": {},
   "source": [
    "# n_cores"
   ]
  },
  {
   "cell_type": "code",
   "execution_count": 45,
   "metadata": {},
   "outputs": [
    {
     "data": {
      "text/plain": [
       "<matplotlib.axes._subplots.AxesSubplot at 0x293b7c11308>"
      ]
     },
     "execution_count": 45,
     "metadata": {},
     "output_type": "execute_result"
    },
    {
     "data": {
      "image/png": "[encoded data removed]",
      "text/plain": [
       "<Figure size 432x288 with 1 Axes>"
      ]
     },
     "metadata": {
      "needs_background": "light"
     },
     "output_type": "display_data"
    }
   ],
   "source": [
    "sns.boxplot(df['n_cores'],df['price_range'])"
   ]
  },
  {
   "cell_type": "code",
   "execution_count": 46,
   "metadata": {},
   "outputs": [
    {
     "data": {
      "text/plain": [
       "array([[<matplotlib.axes._subplots.AxesSubplot object at 0x00000293B7D0CD88>,\n",
       "        <matplotlib.axes._subplots.AxesSubplot object at 0x00000293B7D38808>],\n",
       "       [<matplotlib.axes._subplots.AxesSubplot object at 0x00000293B7D71388>,\n",
       "        <matplotlib.axes._subplots.AxesSubplot object at 0x00000293B7DAA4C8>]],\n",
       "      dtype=object)"
      ]
     },
     "execution_count": 46,
     "metadata": {},
     "output_type": "execute_result"
    },
    {
     "data": {
      "image/png": "[encoded data removed]",
      "text/plain": [
       "<Figure size 432x288 with 4 Axes>"
      ]
     },
     "metadata": {
      "needs_background": "light"
     },
     "output_type": "display_data"
    }
   ],
   "source": [
    "df.hist(column= \"n_cores\",bins=15, grid=False, color=\"#48b41c\", by = \"price_range\")"
   ]
  },
  {
   "cell_type": "code",
   "execution_count": 47,
   "metadata": {},
   "outputs": [
    {
     "data": {
      "text/plain": [
       "<matplotlib.axes._subplots.AxesSubplot at 0x293b7f044c8>"
      ]
     },
     "execution_count": 47,
     "metadata": {},
     "output_type": "execute_result"
    },
    {
     "data": {
      "image/png": "[encoded data removed]",
      "text/plain": [
       "<Figure size 432x288 with 1 Axes>"
      ]
     },
     "metadata": {
      "needs_background": "light"
     },
     "output_type": "display_data"
    }
   ],
   "source": [
    "sns.countplot(x = 'n_cores', hue = arr[-1], data = df)"
   ]
  },
  {
   "cell_type": "markdown",
   "metadata": {},
   "source": [
    "# ram"
   ]
  },
  {
   "cell_type": "code",
   "execution_count": 48,
   "metadata": {},
   "outputs": [
    {
     "data": {
      "text/plain": [
       "array([[<matplotlib.axes._subplots.AxesSubplot object at 0x00000293B7FC8C08>]],\n",
       "      dtype=object)"
      ]
     },
     "execution_count": 48,
     "metadata": {},
     "output_type": "execute_result"
    },
    {
     "data": {
      "image/png": "[encoded data removed]",
      "text/plain": [
       "<Figure size 432x288 with 1 Axes>"
      ]
     },
     "metadata": {
      "needs_background": "light"
     },
     "output_type": "display_data"
    }
   ],
   "source": [
    "df.hist(column= \"ram\",bins=15, grid=False, color=\"#48b41c\")"
   ]
  },
  {
   "cell_type": "code",
   "execution_count": 49,
   "metadata": {},
   "outputs": [
    {
     "data": {
      "text/plain": [
       "array([[<matplotlib.axes._subplots.AxesSubplot object at 0x00000293B7FC6E48>,\n",
       "        <matplotlib.axes._subplots.AxesSubplot object at 0x00000293B808B708>],\n",
       "       [<matplotlib.axes._subplots.AxesSubplot object at 0x00000293B80C0E48>,\n",
       "        <matplotlib.axes._subplots.AxesSubplot object at 0x00000293B80FAA48>]],\n",
       "      dtype=object)"
      ]
     },
     "execution_count": 49,
     "metadata": {},
     "output_type": "execute_result"
    },
    {
     "data": {
      "image/png": "[encoded data removed]",
      "text/plain": [
       "<Figure size 432x288 with 4 Axes>"
      ]
     },
     "metadata": {
      "needs_background": "light"
     },
     "output_type": "display_data"
    }
   ],
   "source": [
    "df.hist(column= \"ram\",bins=15, grid=False, color=\"#48b41c\", by = \"price_range\")"
   ]
  },
  {
   "cell_type": "markdown",
   "metadata": {},
   "source": [
    "# talk_time, int_memory"
   ]
  },
  {
   "cell_type": "code",
   "execution_count": 50,
   "metadata": {},
   "outputs": [
    {
     "data": {
      "text/plain": [
       "<matplotlib.axes._subplots.AxesSubplot at 0x293b81c82c8>"
      ]
     },
     "execution_count": 50,
     "metadata": {},
     "output_type": "execute_result"
    },
    {
     "data": {
      "image/png": "[encoded data removed]",
      "text/plain": [
       "<Figure size 432x288 with 1 Axes>"
      ]
     },
     "metadata": {
      "needs_background": "light"
     },
     "output_type": "display_data"
    }
   ],
   "source": [
    "sns.boxplot(df['int_memory'],df['price_range'])"
   ]
  },
  {
   "cell_type": "code",
   "execution_count": 51,
   "metadata": {},
   "outputs": [
    {
     "data": {
      "text/plain": [
       "array([[<matplotlib.axes._subplots.AxesSubplot object at 0x00000293B80635C8>,\n",
       "        <matplotlib.axes._subplots.AxesSubplot object at 0x00000293B8ABA648>],\n",
       "       [<matplotlib.axes._subplots.AxesSubplot object at 0x00000293B8B024C8>,\n",
       "        <matplotlib.axes._subplots.AxesSubplot object at 0x00000293B8B3B608>]],\n",
       "      dtype=object)"
      ]
     },
     "execution_count": 51,
     "metadata": {},
     "output_type": "execute_result"
    },
    {
     "data": {
      "image/png": "[encoded data removed]",
      "text/plain": [
       "<Figure size 432x288 with 4 Axes>"
      ]
     },
     "metadata": {
      "needs_background": "light"
     },
     "output_type": "display_data"
    }
   ],
   "source": [
    "df.hist(column= \"int_memory\",bins=15, grid=False, color=\"#48b41c\", by = \"price_range\")"
   ]
  },
  {
   "cell_type": "code",
   "execution_count": 52,
   "metadata": {},
   "outputs": [
    {
     "data": {
      "text/html": [
       "<div>\n",
       "<style scoped>\n",
       "    .dataframe tbody tr th:only-of-type {\n",
       "        vertical-align: middle;\n",
       "    }\n",
       "\n",
       "    .dataframe tbody tr th {\n",
       "        vertical-align: top;\n",
       "    }\n",
       "\n",
       "    .dataframe thead th {\n",
       "        text-align: right;\n",
       "    }\n",
       "</style>\n",
       "<table border=\"1\" class=\"dataframe\">\n",
       "  <thead>\n",
       "    <tr style=\"text-align: right;\">\n",
       "      <th></th>\n",
       "      <th>int_memory</th>\n",
       "      <th>n_cores</th>\n",
       "      <th>ram</th>\n",
       "      <th>talk_time</th>\n",
       "      <th>sc_area</th>\n",
       "      <th>px_area</th>\n",
       "      <th>price_range</th>\n",
       "    </tr>\n",
       "  </thead>\n",
       "  <tbody>\n",
       "    <tr>\n",
       "      <td>int_memory</td>\n",
       "      <td>1.000000</td>\n",
       "      <td>-0.028310</td>\n",
       "      <td>0.032813</td>\n",
       "      <td>-0.002790</td>\n",
       "      <td>0.022887</td>\n",
       "      <td>0.015263</td>\n",
       "      <td>0.044435</td>\n",
       "    </tr>\n",
       "    <tr>\n",
       "      <td>n_cores</td>\n",
       "      <td>-0.028310</td>\n",
       "      <td>1.000000</td>\n",
       "      <td>0.004868</td>\n",
       "      <td>0.013148</td>\n",
       "      <td>0.021618</td>\n",
       "      <td>0.001245</td>\n",
       "      <td>0.004399</td>\n",
       "    </tr>\n",
       "    <tr>\n",
       "      <td>ram</td>\n",
       "      <td>0.032813</td>\n",
       "      <td>0.004868</td>\n",
       "      <td>1.000000</td>\n",
       "      <td>0.010820</td>\n",
       "      <td>0.033335</td>\n",
       "      <td>-0.006357</td>\n",
       "      <td>0.917046</td>\n",
       "    </tr>\n",
       "    <tr>\n",
       "      <td>talk_time</td>\n",
       "      <td>-0.002790</td>\n",
       "      <td>0.013148</td>\n",
       "      <td>0.010820</td>\n",
       "      <td>1.000000</td>\n",
       "      <td>-0.026502</td>\n",
       "      <td>-0.010729</td>\n",
       "      <td>0.021859</td>\n",
       "    </tr>\n",
       "    <tr>\n",
       "      <td>sc_area</td>\n",
       "      <td>0.022887</td>\n",
       "      <td>0.021618</td>\n",
       "      <td>0.033335</td>\n",
       "      <td>-0.026502</td>\n",
       "      <td>1.000000</td>\n",
       "      <td>0.057003</td>\n",
       "      <td>0.041248</td>\n",
       "    </tr>\n",
       "    <tr>\n",
       "      <td>px_area</td>\n",
       "      <td>0.015263</td>\n",
       "      <td>0.001245</td>\n",
       "      <td>-0.006357</td>\n",
       "      <td>-0.010729</td>\n",
       "      <td>0.057003</td>\n",
       "      <td>1.000000</td>\n",
       "      <td>0.176240</td>\n",
       "    </tr>\n",
       "    <tr>\n",
       "      <td>price_range</td>\n",
       "      <td>0.044435</td>\n",
       "      <td>0.004399</td>\n",
       "      <td>0.917046</td>\n",
       "      <td>0.021859</td>\n",
       "      <td>0.041248</td>\n",
       "      <td>0.176240</td>\n",
       "      <td>1.000000</td>\n",
       "    </tr>\n",
       "  </tbody>\n",
       "</table>\n",
       "</div>"
      ],
      "text/plain": [
       "             int_memory   n_cores       ram  talk_time   sc_area   px_area  \\\n",
       "int_memory     1.000000 -0.028310  0.032813  -0.002790  0.022887  0.015263   \n",
       "n_cores       -0.028310  1.000000  0.004868   0.013148  0.021618  0.001245   \n",
       "ram            0.032813  0.004868  1.000000   0.010820  0.033335 -0.006357   \n",
       "talk_time     -0.002790  0.013148  0.010820   1.000000 -0.026502 -0.010729   \n",
       "sc_area        0.022887  0.021618  0.033335  -0.026502  1.000000  0.057003   \n",
       "px_area        0.015263  0.001245 -0.006357  -0.010729  0.057003  1.000000   \n",
       "price_range    0.044435  0.004399  0.917046   0.021859  0.041248  0.176240   \n",
       "\n",
       "             price_range  \n",
       "int_memory      0.044435  \n",
       "n_cores         0.004399  \n",
       "ram             0.917046  \n",
       "talk_time       0.021859  \n",
       "sc_area         0.041248  \n",
       "px_area         0.176240  \n",
       "price_range     1.000000  "
      ]
     },
     "execution_count": 52,
     "metadata": {},
     "output_type": "execute_result"
    }
   ],
   "source": [
    "df.corr()"
   ]
  },
  {
   "cell_type": "code",
   "execution_count": 53,
   "metadata": {},
   "outputs": [
    {
     "data": {
      "text/plain": [
       "<matplotlib.axes._subplots.AxesSubplot at 0x293b8c46188>"
      ]
     },
     "execution_count": 53,
     "metadata": {},
     "output_type": "execute_result"
    },
    {
     "data": {
      "image/png": "[encoded data removed]",
      "text/plain": [
       "<Figure size 432x288 with 1 Axes>"
      ]
     },
     "metadata": {
      "needs_background": "light"
     },
     "output_type": "display_data"
    }
   ],
   "source": [
    "sns.boxplot(df['talk_time'],df['price_range'])"
   ]
  },
  {
   "cell_type": "code",
   "execution_count": 54,
   "metadata": {},
   "outputs": [
    {
     "data": {
      "text/plain": [
       "array([[<matplotlib.axes._subplots.AxesSubplot object at 0x00000293B9E5E608>,\n",
       "        <matplotlib.axes._subplots.AxesSubplot object at 0x00000293B9E89E08>],\n",
       "       [<matplotlib.axes._subplots.AxesSubplot object at 0x00000293B9EC3848>,\n",
       "        <matplotlib.axes._subplots.AxesSubplot object at 0x00000293B9EFC988>]],\n",
       "      dtype=object)"
      ]
     },
     "execution_count": 54,
     "metadata": {},
     "output_type": "execute_result"
    },
    {
     "data": {
      "image/png": "[encoded data removed]",
      "text/plain": [
       "<Figure size 432x288 with 4 Axes>"
      ]
     },
     "metadata": {
      "needs_background": "light"
     },
     "output_type": "display_data"
    }
   ],
   "source": [
    "df.hist(column= \"talk_time\",bins=15, grid=False, color=\"#48b41c\", by = \"price_range\")"
   ]
  },
  {
   "cell_type": "code",
   "execution_count": 55,
   "metadata": {},
   "outputs": [
    {
     "data": {
      "text/plain": [
       "<matplotlib.axes._subplots.AxesSubplot at 0x293ba01abc8>"
      ]
     },
     "execution_count": 55,
     "metadata": {},
     "output_type": "execute_result"
    },
    {
     "data": {
      "image/png": "[encoded data removed]",
      "text/plain": [
       "<Figure size 432x288 with 1 Axes>"
      ]
     },
     "metadata": {
      "needs_background": "light"
     },
     "output_type": "display_data"
    }
   ],
   "source": [
    "sns.countplot(x = 'talk_time', hue = arr[-1], data = df)"
   ]
  },
  {
   "cell_type": "markdown",
   "metadata": {},
   "source": [
    "### Decisiones tomadas \n",
    "Se eliminaron algunos atributos(clock_speed,m_dep,mobile_wt,sc_h,sc_w,px_height,px_width), pues ademas de que su correlacion con los precios es baja, no es posible determinar una distribucion clara, otra decision tomada fue la de hacer transformaciones(sc_w,sc_h->sc_area;px_w,px_h->px_area), por que las dimenciones por si solas no proveen mucha información mucho, ademas se analizo battery_power y se concluyó que si hay una correlacion con el precio aunque es ambigüa, por lo que se separo por los rangos de precios y se analizaron los puntos de inflexión. Dato a destacar es que la ram tiene una correlacion con los precios del 91% y se justifica con las graficas de la misma."
   ]
  },
  {
   "cell_type": "markdown",
   "metadata": {},
   "source": [
    "# Data Classification\n",
    "\n",
    "En esta seccion se realizara la clasificacion de los datos teniendo encuenta los siguientes modelos:\n",
    "\n",
    "- GaussianNB\n",
    "- LogisticRegression\n",
    "- LinearSVC\n",
    "- SVC\n",
    "- DecisionTreeClassifier\n",
    "- RandomForestClassifier\n",
    "- BaggingClassifier\n",
    "\n",
    "Al final se determinara cual es el modelo con mayor exactitud para realizar la correspondiente prediccion."
   ]
  },
  {
   "cell_type": "code",
   "execution_count": 56,
   "metadata": {},
   "outputs": [],
   "source": [
    "models = {\"GaussianNB\":GaussianNB(),\n",
    "          \"LogisticRegression\":LogisticRegression(),\n",
    "          \"LinearSVC\":LinearSVC(),\n",
    "          \"SVC\":SVC(),\n",
    "          \"DecisionTreeClassifier\":DecisionTreeClassifier(),\n",
    "          \"RandomForestClassifier\":RandomForestClassifier(),\n",
    "          \"BaggingClassifier\":BaggingClassifier()}\n",
    "\n",
    "X = df[df.columns[:-1]]\n",
    "Y = df[df.columns[-1]]"
   ]
  },
  {
   "cell_type": "code",
   "execution_count": 57,
   "metadata": {},
   "outputs": [
    {
     "data": {
      "text/plain": [
       "Index(['blue', 'dual_sim', 'four_g', 'three_g', 'touch_screen', 'wifi',\n",
       "       'battery_power', 'int_memory', 'n_cores', 'ram', 'talk_time', 'sc_area',\n",
       "       'px_area', 'price_range'],\n",
       "      dtype='object')"
      ]
     },
     "execution_count": 57,
     "metadata": {},
     "output_type": "execute_result"
    }
   ],
   "source": [
    "df.columns"
   ]
  },
  {
   "cell_type": "code",
   "execution_count": 58,
   "metadata": {},
   "outputs": [],
   "source": [
    "Xtrain, Xtest,Ytrain,Ytest = train_test_split(X,Y,test_size=0.3)"
   ]
  },
  {
   "cell_type": "code",
   "execution_count": 59,
   "metadata": {},
   "outputs": [],
   "source": [
    "Xtrain,Xtest = pd.get_dummies(Xtrain),pd.get_dummies(Xtest)"
   ]
  },
  {
   "cell_type": "code",
   "execution_count": 61,
   "metadata": {},
   "outputs": [
    {
     "data": {
      "text/html": [
       "<div>\n",
       "<style scoped>\n",
       "    .dataframe tbody tr th:only-of-type {\n",
       "        vertical-align: middle;\n",
       "    }\n",
       "\n",
       "    .dataframe tbody tr th {\n",
       "        vertical-align: top;\n",
       "    }\n",
       "\n",
       "    .dataframe thead th {\n",
       "        text-align: right;\n",
       "    }\n",
       "</style>\n",
       "<table border=\"1\" class=\"dataframe\">\n",
       "  <thead>\n",
       "    <tr style=\"text-align: right;\">\n",
       "      <th></th>\n",
       "      <th>int_memory</th>\n",
       "      <th>n_cores</th>\n",
       "      <th>ram</th>\n",
       "      <th>talk_time</th>\n",
       "      <th>sc_area</th>\n",
       "      <th>px_area</th>\n",
       "      <th>blue_no</th>\n",
       "      <th>blue_yes</th>\n",
       "      <th>dual_sim_no</th>\n",
       "      <th>dual_sim_yes</th>\n",
       "      <th>...</th>\n",
       "      <th>four_g_yes</th>\n",
       "      <th>three_g_no</th>\n",
       "      <th>three_g_yes</th>\n",
       "      <th>touch_screen_no</th>\n",
       "      <th>touch_screen_yes</th>\n",
       "      <th>wifi_no</th>\n",
       "      <th>wifi_yes</th>\n",
       "      <th>battery_power_low</th>\n",
       "      <th>battery_power_medium</th>\n",
       "      <th>battery_power_high</th>\n",
       "    </tr>\n",
       "  </thead>\n",
       "  <tbody>\n",
       "    <tr>\n",
       "      <td>726</td>\n",
       "      <td>58</td>\n",
       "      <td>7</td>\n",
       "      <td>3487</td>\n",
       "      <td>11</td>\n",
       "      <td>90</td>\n",
       "      <td>11418</td>\n",
       "      <td>1</td>\n",
       "      <td>0</td>\n",
       "      <td>0</td>\n",
       "      <td>1</td>\n",
       "      <td>...</td>\n",
       "      <td>1</td>\n",
       "      <td>0</td>\n",
       "      <td>1</td>\n",
       "      <td>0</td>\n",
       "      <td>1</td>\n",
       "      <td>0</td>\n",
       "      <td>1</td>\n",
       "      <td>1</td>\n",
       "      <td>0</td>\n",
       "      <td>0</td>\n",
       "    </tr>\n",
       "    <tr>\n",
       "      <td>1052</td>\n",
       "      <td>37</td>\n",
       "      <td>5</td>\n",
       "      <td>2705</td>\n",
       "      <td>10</td>\n",
       "      <td>51</td>\n",
       "      <td>200711</td>\n",
       "      <td>1</td>\n",
       "      <td>0</td>\n",
       "      <td>0</td>\n",
       "      <td>1</td>\n",
       "      <td>...</td>\n",
       "      <td>0</td>\n",
       "      <td>0</td>\n",
       "      <td>1</td>\n",
       "      <td>0</td>\n",
       "      <td>1</td>\n",
       "      <td>1</td>\n",
       "      <td>0</td>\n",
       "      <td>1</td>\n",
       "      <td>0</td>\n",
       "      <td>0</td>\n",
       "    </tr>\n",
       "    <tr>\n",
       "      <td>1267</td>\n",
       "      <td>4</td>\n",
       "      <td>1</td>\n",
       "      <td>1060</td>\n",
       "      <td>4</td>\n",
       "      <td>120</td>\n",
       "      <td>2025751</td>\n",
       "      <td>1</td>\n",
       "      <td>0</td>\n",
       "      <td>0</td>\n",
       "      <td>1</td>\n",
       "      <td>...</td>\n",
       "      <td>1</td>\n",
       "      <td>0</td>\n",
       "      <td>1</td>\n",
       "      <td>0</td>\n",
       "      <td>1</td>\n",
       "      <td>0</td>\n",
       "      <td>1</td>\n",
       "      <td>1</td>\n",
       "      <td>0</td>\n",
       "      <td>0</td>\n",
       "    </tr>\n",
       "    <tr>\n",
       "      <td>1056</td>\n",
       "      <td>64</td>\n",
       "      <td>4</td>\n",
       "      <td>3102</td>\n",
       "      <td>2</td>\n",
       "      <td>0</td>\n",
       "      <td>45815</td>\n",
       "      <td>1</td>\n",
       "      <td>0</td>\n",
       "      <td>0</td>\n",
       "      <td>1</td>\n",
       "      <td>...</td>\n",
       "      <td>0</td>\n",
       "      <td>1</td>\n",
       "      <td>0</td>\n",
       "      <td>1</td>\n",
       "      <td>0</td>\n",
       "      <td>1</td>\n",
       "      <td>0</td>\n",
       "      <td>1</td>\n",
       "      <td>0</td>\n",
       "      <td>0</td>\n",
       "    </tr>\n",
       "    <tr>\n",
       "      <td>904</td>\n",
       "      <td>45</td>\n",
       "      <td>3</td>\n",
       "      <td>911</td>\n",
       "      <td>9</td>\n",
       "      <td>28</td>\n",
       "      <td>1145130</td>\n",
       "      <td>1</td>\n",
       "      <td>0</td>\n",
       "      <td>1</td>\n",
       "      <td>0</td>\n",
       "      <td>...</td>\n",
       "      <td>0</td>\n",
       "      <td>1</td>\n",
       "      <td>0</td>\n",
       "      <td>1</td>\n",
       "      <td>0</td>\n",
       "      <td>1</td>\n",
       "      <td>0</td>\n",
       "      <td>1</td>\n",
       "      <td>0</td>\n",
       "      <td>0</td>\n",
       "    </tr>\n",
       "  </tbody>\n",
       "</table>\n",
       "<p>5 rows × 21 columns</p>\n",
       "</div>"
      ],
      "text/plain": [
       "      int_memory  n_cores   ram  talk_time  sc_area  px_area  blue_no  \\\n",
       "726           58        7  3487         11       90    11418        1   \n",
       "1052          37        5  2705         10       51   200711        1   \n",
       "1267           4        1  1060          4      120  2025751        1   \n",
       "1056          64        4  3102          2        0    45815        1   \n",
       "904           45        3   911          9       28  1145130        1   \n",
       "\n",
       "      blue_yes  dual_sim_no  dual_sim_yes  ...  four_g_yes  three_g_no  \\\n",
       "726          0            0             1  ...           1           0   \n",
       "1052         0            0             1  ...           0           0   \n",
       "1267         0            0             1  ...           1           0   \n",
       "1056         0            0             1  ...           0           1   \n",
       "904          0            1             0  ...           0           1   \n",
       "\n",
       "      three_g_yes  touch_screen_no  touch_screen_yes  wifi_no  wifi_yes  \\\n",
       "726             1                0                 1        0         1   \n",
       "1052            1                0                 1        1         0   \n",
       "1267            1                0                 1        0         1   \n",
       "1056            0                1                 0        1         0   \n",
       "904             0                1                 0        1         0   \n",
       "\n",
       "      battery_power_low  battery_power_medium  battery_power_high  \n",
       "726                   1                     0                   0  \n",
       "1052                  1                     0                   0  \n",
       "1267                  1                     0                   0  \n",
       "1056                  1                     0                   0  \n",
       "904                   1                     0                   0  \n",
       "\n",
       "[5 rows x 21 columns]"
      ]
     },
     "execution_count": 61,
     "metadata": {},
     "output_type": "execute_result"
    }
   ],
   "source": [
    "Xtrain.head()"
   ]
  },
  {
   "cell_type": "code",
   "execution_count": 62,
   "metadata": {},
   "outputs": [
    {
     "data": {
      "text/plain": [
       "Index(['int_memory', 'n_cores', 'ram', 'talk_time', 'sc_area', 'px_area',\n",
       "       'blue_no', 'blue_yes', 'dual_sim_no', 'dual_sim_yes', 'four_g_no',\n",
       "       'four_g_yes', 'three_g_no', 'three_g_yes', 'touch_screen_no',\n",
       "       'touch_screen_yes', 'wifi_no', 'wifi_yes', 'battery_power_low',\n",
       "       'battery_power_medium', 'battery_power_high'],\n",
       "      dtype='object')"
      ]
     },
     "execution_count": 62,
     "metadata": {},
     "output_type": "execute_result"
    }
   ],
   "source": [
    "Xtrain.columns"
   ]
  },
  {
   "cell_type": "code",
   "execution_count": 63,
   "metadata": {},
   "outputs": [
    {
     "name": "stdout",
     "output_type": "stream",
     "text": [
      "GaussianNB\n",
      "Accuracy:  77.0\n",
      "CM =  [[134  21   0   0]\n",
      " [ 21 103  33   0]\n",
      " [  0  22  91  22]\n",
      " [  0   0  19 134]]\n",
      "PPV =  0.77\n",
      "ACC =  0.77\n",
      "VPR =  0.77\n",
      "BAC =  0.7676145379960992\n",
      "k =  0.6931969764339707\n",
      "VPR =  0.77\n",
      "SPC =  0.77\n",
      "PPV =  0.77\n",
      "ACC =  0.77\n",
      "\n",
      "LogisticRegression\n",
      "Accuracy:  36.666666666666664\n",
      "CM =  [[ 34  18  96   7]\n",
      " [ 17  15  85  40]\n",
      " [  5   5  46  79]\n",
      " [  0   1  27 125]]\n",
      "PPV =  0.36666666666666664\n",
      "ACC =  0.36666666666666664\n",
      "VPR =  0.36666666666666664\n",
      "BAC =  0.36815761119414775\n",
      "k =  0.16331503390775903\n",
      "VPR =  0.36666666666666664\n",
      "SPC =  0.36666666666666664\n",
      "PPV =  0.36666666666666664\n",
      "ACC =  0.36666666666666664\n",
      "\n"
     ]
    },
    {
     "name": "stderr",
     "output_type": "stream",
     "text": [
      "C:\\Users\\urobs\\Anaconda3\\lib\\site-packages\\sklearn\\linear_model\\logistic.py:432: FutureWarning: Default solver will be changed to 'lbfgs' in 0.22. Specify a solver to silence this warning.\n",
      "  FutureWarning)\n",
      "C:\\Users\\urobs\\Anaconda3\\lib\\site-packages\\sklearn\\linear_model\\logistic.py:469: FutureWarning: Default multi_class will be changed to 'auto' in 0.22. Specify the multi_class option to silence this warning.\n",
      "  \"this warning.\", FutureWarning)\n",
      "C:\\Users\\urobs\\Anaconda3\\lib\\site-packages\\sklearn\\svm\\base.py:929: ConvergenceWarning: Liblinear failed to converge, increase the number of iterations.\n",
      "  \"the number of iterations.\", ConvergenceWarning)\n",
      "C:\\Users\\urobs\\Anaconda3\\lib\\site-packages\\sklearn\\svm\\base.py:193: FutureWarning: The default value of gamma will change from 'auto' to 'scale' in version 0.22 to account better for unscaled features. Set gamma explicitly to 'auto' or 'scale' to avoid this warning.\n",
      "  \"avoid this warning.\", FutureWarning)\n"
     ]
    },
    {
     "name": "stdout",
     "output_type": "stream",
     "text": [
      "LinearSVC\n",
      "Accuracy:  26.166666666666664\n",
      "CM =  [[123   3  28   1]\n",
      " [109   6  41   1]\n",
      " [ 82  25  28   0]\n",
      " [ 87  28  38   0]]\n",
      "PPV =  0.26166666666666666\n",
      "ACC =  0.26166666666666666\n",
      "VPR =  0.26166666666666666\n",
      "BAC =  0.25979308875343393\n",
      "k =  0.014021811707099818\n",
      "VPR =  0.26166666666666666\n",
      "SPC =  0.26166666666666666\n",
      "PPV =  0.26166666666666666\n",
      "ACC =  0.26166666666666666\n",
      "\n",
      "SVC\n",
      "Accuracy:  22.5\n",
      "CM =  [[  0   0 155   0]\n",
      " [  0   0 157   0]\n",
      " [  0   0 135   0]\n",
      " [  0   0 153   0]]\n",
      "PPV =  0.225\n",
      "ACC =  0.225\n",
      "VPR =  0.225\n",
      "BAC =  0.25\n",
      "k =  0.0\n",
      "VPR =  0.225\n",
      "SPC =  0.225\n",
      "PPV =  0.225\n",
      "ACC =  0.225\n",
      "\n",
      "DecisionTreeClassifier\n",
      "Accuracy:  83.0\n",
      "CM =  [[142  12   1   0]\n",
      " [ 11 128  18   0]\n",
      " [  0  19  99  17]\n",
      " [  0   0  24 129]]\n",
      "PPV =  0.83\n",
      "ACC =  0.83\n",
      "VPR =  0.83\n",
      "BAC =  0.8269715611742952\n",
      "k =  0.7731770775423069\n",
      "VPR =  0.83\n",
      "SPC =  0.83\n",
      "PPV =  0.83\n",
      "ACC =  0.83\n",
      "\n",
      "RandomForestClassifier\n",
      "Accuracy:  76.16666666666667\n",
      "CM =  [[145   9   1   0]\n",
      " [ 29 103  24   1]\n",
      " [  0  26  96  13]\n",
      " [  0   2  38 113]]\n",
      "PPV =  0.7616666666666667\n",
      "ACC =  0.7616666666666667\n",
      "VPR =  0.7616666666666667\n",
      "BAC =  0.7603020072490334\n",
      "k =  0.6824033699297438\n",
      "VPR =  0.7616666666666667\n",
      "SPC =  0.7616666666666667\n",
      "PPV =  0.7616666666666667\n",
      "ACC =  0.7616666666666667\n",
      "\n",
      "BaggingClassifier\n",
      "Accuracy:  87.66666666666667\n",
      "CM =  [[148   7   0   0]\n",
      " [ 15 132  10   0]\n",
      " [  0  19 110   6]\n",
      " [  0   0  17 136]]\n",
      "PPV =  0.8766666666666667\n",
      "ACC =  0.8766666666666667\n",
      "VPR =  0.8766666666666667\n",
      "BAC =  0.8748266861478285\n",
      "k =  0.8353775193913417\n",
      "VPR =  0.8766666666666667\n",
      "SPC =  0.8766666666666667\n",
      "PPV =  0.8766666666666667\n",
      "ACC =  0.8766666666666667\n",
      "\n"
     ]
    },
    {
     "name": "stderr",
     "output_type": "stream",
     "text": [
      "C:\\Users\\urobs\\Anaconda3\\lib\\site-packages\\sklearn\\ensemble\\forest.py:245: FutureWarning: The default value of n_estimators will change from 10 in version 0.20 to 100 in 0.22.\n",
      "  \"10 in version 0.20 to 100 in 0.22.\", FutureWarning)\n"
     ]
    }
   ],
   "source": [
    "for model in models.keys():\n",
    "    currentmodel = models[model]\n",
    "    currentmodel.fit(Xtrain,Ytrain)\n",
    "    Ypred=currentmodel.predict(Xtest)\n",
    "    print(model)\n",
    "    print(\"Accuracy: \",100*accuracy_score(Ytest,Ypred))\n",
    "    CM = confusion_matrix(Ytest,Ypred)\n",
    "    print('CM = ', CM)\n",
    "    PPV = precision_score(Ytest,Ypred, average = 'micro')\n",
    "    print('PPV = ', PPV)\n",
    "    ACC = accuracy_score(Ytest,Ypred)\n",
    "    print('ACC = ', ACC)\n",
    "    VPR = recall_score(Ytest,Ypred, average = 'micro')\n",
    "    print('VPR = ', VPR)\n",
    "    BAC = balanced_accuracy_score(Ytest,Ypred)\n",
    "    print('BAC = ', BAC)\n",
    "    k = cohen_kappa_score(Ytest,Ypred)\n",
    "    print('k = ',k)\n",
    "\n",
    "    TP = np.trace(CM)\n",
    "    TN = np.trace(CM)\n",
    "\n",
    "\n",
    "    FP = np.sum(CM) - np.trace(CM)\n",
    "    FN = np.sum(CM) - np.trace(CM)\n",
    "\n",
    "    VPR_man = TP / (TP + FN)\n",
    "    # Especificidad\n",
    "    SPC_man = TN / (TN + FP)\n",
    "    # Precisión\n",
    "    PPV_man = TP / (TP + FP)\n",
    "    # Exactitud\n",
    "    ACC_man = TP / np.sum(CM)\n",
    "    \n",
    "    print('VPR = ', VPR_man)\n",
    "    print('SPC = ', SPC_man)\n",
    "    print('PPV = ', PPV_man)\n",
    "    print('ACC = ', ACC_man)\n",
    "    print()"
   ]
  },
  {
   "cell_type": "markdown",
   "metadata": {},
   "source": [
    "Teniendo en cuenta los anteriores resultados obtenidos se ha determinado que el modelo BaggingClassifier es el mas adecuado para clasificar los con una exactitud del 87.66%"
   ]
  },
  {
   "cell_type": "markdown",
   "metadata": {},
   "source": [
    "## Predict\n",
    "\n",
    "En esta seccion se hacen las transformaciones necesarias para que el modelo pueda determinar los precios del dataset(Predict.csv).\n"
   ]
  },
  {
   "cell_type": "code",
   "execution_count": 64,
   "metadata": {},
   "outputs": [],
   "source": [
    "dfPredic = pd.read_csv(\"Predict.csv\")\n",
    "dfP=dfPredic.copy()"
   ]
  },
  {
   "cell_type": "code",
   "execution_count": 65,
   "metadata": {},
   "outputs": [],
   "source": [
    "def transform(dfP):\n",
    "    binaryAtt=[\"blue\",\"dual_sim\",\"four_g\",\"three_g\",\"touch_screen\",\"wifi\"]\n",
    "    for i in binaryAtt:\n",
    "        dfP[i].replace(0,\"no\",inplace=True)\n",
    "        dfP[i].replace(1,\"yes\",inplace=True)\n",
    "    dfP[\"sc_area\"]=dfP[\"sc_h\"]*dfP[\"sc_w\"]\n",
    "    dfP[\"px_area\"]=dfP[\"px_height\"]*dfP[\"px_width\"]\n",
    "    dfP['battery_power'] = pd.cut(dfP['battery_power'], bins = [501, 1116 , 1400, 2000], labels = ['low', 'medium','high'])\n",
    "    dfP.drop([\"clock_speed\",\"m_dep\",\"mobile_wt\",\"sc_h\",\"sc_w\",\"px_height\",\"px_width\",\"fc\",\"pc\"],axis=1,inplace=True)\n",
    "    del dfP[\"id\"]\n",
    "    dfP=pd.get_dummies(dfP)\n",
    "    return dfP"
   ]
  },
  {
   "cell_type": "code",
   "execution_count": 66,
   "metadata": {},
   "outputs": [],
   "source": [
    "dfPredict= transform(dfP)"
   ]
  },
  {
   "cell_type": "code",
   "execution_count": 67,
   "metadata": {},
   "outputs": [],
   "source": [
    "# Model"
   ]
  },
  {
   "cell_type": "code",
   "execution_count": 68,
   "metadata": {},
   "outputs": [],
   "source": [
    "model=BaggingClassifier()"
   ]
  },
  {
   "cell_type": "code",
   "execution_count": 69,
   "metadata": {},
   "outputs": [],
   "source": [
    "X = df[df.columns[:-1]]\n",
    "Y = df[df.columns[-1]]\n",
    "Xtrain, Xtest,Ytrain,Ytest = train_test_split(X,Y,test_size=0.3)\n",
    "Xtrain,Xtest = pd.get_dummies(Xtrain),pd.get_dummies(Xtest)"
   ]
  },
  {
   "cell_type": "code",
   "execution_count": 70,
   "metadata": {},
   "outputs": [
    {
     "name": "stdout",
     "output_type": "stream",
     "text": [
      "Accuracy:  86.83333333333333\n"
     ]
    }
   ],
   "source": [
    "model.fit(Xtrain,Ytrain)\n",
    "Ypred=model.predict(Xtest)\n",
    "print(\"Accuracy: \",100*accuracy_score(Ytest,Ypred))"
   ]
  },
  {
   "cell_type": "code",
   "execution_count": 71,
   "metadata": {},
   "outputs": [],
   "source": [
    "dfPredic[\"price_range\"]=model.predict(dfPredict)"
   ]
  },
  {
   "cell_type": "code",
   "execution_count": 72,
   "metadata": {},
   "outputs": [],
   "source": [
    "dfPredic.to_csv(\"phonePredict.csv\")"
   ]
  }
 ],
 "metadata": {
  "kernelspec": {
   "display_name": "Python 3",
   "language": "python",
   "name": "python3"
  },
  "language_info": {
   "codemirror_mode": {
    "name": "ipython",
    "version": 3
   },
   "file_extension": ".py",
   "mimetype": "text/x-python",
   "name": "python",
   "nbconvert_exporter": "python",
   "pygments_lexer": "ipython3",
   "version": "3.7.4"
  }
 },
 "nbformat": 4,
 "nbformat_minor": 2
}
