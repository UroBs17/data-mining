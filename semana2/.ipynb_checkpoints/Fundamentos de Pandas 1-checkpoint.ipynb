{
 "cells": [
  {
   "cell_type": "markdown",
   "metadata": {},
   "source": [
    "# Dataframes in Panda"
   ]
  },
  {
   "cell_type": "code",
   "execution_count": 1,
   "metadata": {},
   "outputs": [],
   "source": [
    "import pandas as pd\n"
   ]
  },
  {
   "cell_type": "code",
   "execution_count": 10,
   "metadata": {},
   "outputs": [],
   "source": [
    "data = {\"primer_nombre\":[\"Juan\",\"Pedro\",\"Luisa\",\"Camila\"],\n",
    "       \"segundo_nombre\":[\"Pablo\",\"Sebastian\",\"Fernanda\",\"Laura\"],\n",
    "       \"estatura(m)\":[1.5,1.68,1.80,1.7],\n",
    "        \"estudia\":[\"No\",\"Si\",\"Si\",\"No\"]}"
   ]
  },
  {
   "cell_type": "code",
   "execution_count": 11,
   "metadata": {},
   "outputs": [],
   "source": [
    "df = pd.DataFrame(data)"
   ]
  },
  {
   "cell_type": "code",
   "execution_count": 12,
   "metadata": {},
   "outputs": [
    {
     "data": {
      "text/html": [
       "<div>\n",
       "<style scoped>\n",
       "    .dataframe tbody tr th:only-of-type {\n",
       "        vertical-align: middle;\n",
       "    }\n",
       "\n",
       "    .dataframe tbody tr th {\n",
       "        vertical-align: top;\n",
       "    }\n",
       "\n",
       "    .dataframe thead th {\n",
       "        text-align: right;\n",
       "    }\n",
       "</style>\n",
       "<table border=\"1\" class=\"dataframe\">\n",
       "  <thead>\n",
       "    <tr style=\"text-align: right;\">\n",
       "      <th></th>\n",
       "      <th>primer_nombre</th>\n",
       "      <th>segundo_nombre</th>\n",
       "      <th>estatura(m)</th>\n",
       "      <th>estudia</th>\n",
       "    </tr>\n",
       "  </thead>\n",
       "  <tbody>\n",
       "    <tr>\n",
       "      <th>0</th>\n",
       "      <td>Juan</td>\n",
       "      <td>Pablo</td>\n",
       "      <td>1.50</td>\n",
       "      <td>No</td>\n",
       "    </tr>\n",
       "    <tr>\n",
       "      <th>1</th>\n",
       "      <td>Pedro</td>\n",
       "      <td>Sebastian</td>\n",
       "      <td>1.68</td>\n",
       "      <td>Si</td>\n",
       "    </tr>\n",
       "    <tr>\n",
       "      <th>2</th>\n",
       "      <td>Luisa</td>\n",
       "      <td>Fernanda</td>\n",
       "      <td>1.80</td>\n",
       "      <td>Si</td>\n",
       "    </tr>\n",
       "    <tr>\n",
       "      <th>3</th>\n",
       "      <td>Camila</td>\n",
       "      <td>Laura</td>\n",
       "      <td>1.70</td>\n",
       "      <td>No</td>\n",
       "    </tr>\n",
       "  </tbody>\n",
       "</table>\n",
       "</div>"
      ],
      "text/plain": [
       "  primer_nombre segundo_nombre  estatura(m) estudia\n",
       "0          Juan          Pablo         1.50      No\n",
       "1         Pedro      Sebastian         1.68      Si\n",
       "2         Luisa       Fernanda         1.80      Si\n",
       "3        Camila          Laura         1.70      No"
      ]
     },
     "execution_count": 12,
     "metadata": {},
     "output_type": "execute_result"
    }
   ],
   "source": [
    "df"
   ]
  },
  {
   "cell_type": "code",
   "execution_count": 13,
   "metadata": {},
   "outputs": [
    {
     "data": {
      "text/plain": [
       "0      Juan\n",
       "1     Pedro\n",
       "2     Luisa\n",
       "3    Camila\n",
       "Name: primer_nombre, dtype: object"
      ]
     },
     "execution_count": 13,
     "metadata": {},
     "output_type": "execute_result"
    }
   ],
   "source": [
    "df[\"primer_nombre\"]"
   ]
  },
  {
   "cell_type": "code",
   "execution_count": 14,
   "metadata": {},
   "outputs": [],
   "source": [
    "df[\"estatura(in)\"] = df[\"estatura(m)\"]* 39.3701"
   ]
  },
  {
   "cell_type": "code",
   "execution_count": 15,
   "metadata": {},
   "outputs": [
    {
     "data": {
      "text/plain": [
       "0    59.055150\n",
       "1    66.141768\n",
       "2    70.866180\n",
       "3    66.929170\n",
       "Name: estatura(in), dtype: float64"
      ]
     },
     "execution_count": 15,
     "metadata": {},
     "output_type": "execute_result"
    }
   ],
   "source": [
    "df[\"estatura(in)\"]"
   ]
  },
  {
   "cell_type": "code",
   "execution_count": 22,
   "metadata": {},
   "outputs": [
    {
     "data": {
      "text/plain": [
       "primer_nombre       object\n",
       "segundo_nombre      object\n",
       "estatura(m)        float64\n",
       "estudia           category\n",
       "estatura(in)       float64\n",
       "dtype: object"
      ]
     },
     "execution_count": 22,
     "metadata": {},
     "output_type": "execute_result"
    }
   ],
   "source": [
    "df.dtypes"
   ]
  },
  {
   "cell_type": "code",
   "execution_count": 21,
   "metadata": {},
   "outputs": [],
   "source": [
    "df[\"estudia\"]=df[\"estudia\"].astype(\"category\")"
   ]
  },
  {
   "cell_type": "code",
   "execution_count": 23,
   "metadata": {},
   "outputs": [
    {
     "data": {
      "text/html": [
       "<div>\n",
       "<style scoped>\n",
       "    .dataframe tbody tr th:only-of-type {\n",
       "        vertical-align: middle;\n",
       "    }\n",
       "\n",
       "    .dataframe tbody tr th {\n",
       "        vertical-align: top;\n",
       "    }\n",
       "\n",
       "    .dataframe thead th {\n",
       "        text-align: right;\n",
       "    }\n",
       "</style>\n",
       "<table border=\"1\" class=\"dataframe\">\n",
       "  <thead>\n",
       "    <tr style=\"text-align: right;\">\n",
       "      <th></th>\n",
       "      <th>primer_nombre</th>\n",
       "      <th>segundo_nombre</th>\n",
       "      <th>estatura(m)</th>\n",
       "      <th>estudia</th>\n",
       "      <th>estatura(in)</th>\n",
       "    </tr>\n",
       "  </thead>\n",
       "  <tbody>\n",
       "    <tr>\n",
       "      <th>0</th>\n",
       "      <td>Juan</td>\n",
       "      <td>Pablo</td>\n",
       "      <td>1.50</td>\n",
       "      <td>No</td>\n",
       "      <td>59.055150</td>\n",
       "    </tr>\n",
       "    <tr>\n",
       "      <th>1</th>\n",
       "      <td>Pedro</td>\n",
       "      <td>Sebastian</td>\n",
       "      <td>1.68</td>\n",
       "      <td>Si</td>\n",
       "      <td>66.141768</td>\n",
       "    </tr>\n",
       "    <tr>\n",
       "      <th>2</th>\n",
       "      <td>Luisa</td>\n",
       "      <td>Fernanda</td>\n",
       "      <td>1.80</td>\n",
       "      <td>Si</td>\n",
       "      <td>70.866180</td>\n",
       "    </tr>\n",
       "    <tr>\n",
       "      <th>3</th>\n",
       "      <td>Camila</td>\n",
       "      <td>Laura</td>\n",
       "      <td>1.70</td>\n",
       "      <td>No</td>\n",
       "      <td>66.929170</td>\n",
       "    </tr>\n",
       "  </tbody>\n",
       "</table>\n",
       "</div>"
      ],
      "text/plain": [
       "  primer_nombre segundo_nombre  estatura(m) estudia  estatura(in)\n",
       "0          Juan          Pablo         1.50      No     59.055150\n",
       "1         Pedro      Sebastian         1.68      Si     66.141768\n",
       "2         Luisa       Fernanda         1.80      Si     70.866180\n",
       "3        Camila          Laura         1.70      No     66.929170"
      ]
     },
     "execution_count": 23,
     "metadata": {},
     "output_type": "execute_result"
    }
   ],
   "source": [
    "df"
   ]
  },
  {
   "cell_type": "code",
   "execution_count": 27,
   "metadata": {},
   "outputs": [],
   "source": [
    "df[\"apellido\"]=[\"Fonseca\",\"Rosales\",\"Salomon\",\"Martinez\"]"
   ]
  },
  {
   "cell_type": "code",
   "execution_count": 28,
   "metadata": {},
   "outputs": [
    {
     "data": {
      "text/html": [
       "<div>\n",
       "<style scoped>\n",
       "    .dataframe tbody tr th:only-of-type {\n",
       "        vertical-align: middle;\n",
       "    }\n",
       "\n",
       "    .dataframe tbody tr th {\n",
       "        vertical-align: top;\n",
       "    }\n",
       "\n",
       "    .dataframe thead th {\n",
       "        text-align: right;\n",
       "    }\n",
       "</style>\n",
       "<table border=\"1\" class=\"dataframe\">\n",
       "  <thead>\n",
       "    <tr style=\"text-align: right;\">\n",
       "      <th></th>\n",
       "      <th>primer_nombre</th>\n",
       "      <th>segundo_nombre</th>\n",
       "      <th>estatura(m)</th>\n",
       "      <th>estudia</th>\n",
       "      <th>estatura(in)</th>\n",
       "      <th>apellido</th>\n",
       "    </tr>\n",
       "  </thead>\n",
       "  <tbody>\n",
       "    <tr>\n",
       "      <th>0</th>\n",
       "      <td>Juan</td>\n",
       "      <td>Pablo</td>\n",
       "      <td>1.50</td>\n",
       "      <td>No</td>\n",
       "      <td>59.055150</td>\n",
       "      <td>Fonseca</td>\n",
       "    </tr>\n",
       "    <tr>\n",
       "      <th>1</th>\n",
       "      <td>Pedro</td>\n",
       "      <td>Sebastian</td>\n",
       "      <td>1.68</td>\n",
       "      <td>Si</td>\n",
       "      <td>66.141768</td>\n",
       "      <td>Rosales</td>\n",
       "    </tr>\n",
       "    <tr>\n",
       "      <th>2</th>\n",
       "      <td>Luisa</td>\n",
       "      <td>Fernanda</td>\n",
       "      <td>1.80</td>\n",
       "      <td>Si</td>\n",
       "      <td>70.866180</td>\n",
       "      <td>Salomon</td>\n",
       "    </tr>\n",
       "    <tr>\n",
       "      <th>3</th>\n",
       "      <td>Camila</td>\n",
       "      <td>Laura</td>\n",
       "      <td>1.70</td>\n",
       "      <td>No</td>\n",
       "      <td>66.929170</td>\n",
       "      <td>Martinez</td>\n",
       "    </tr>\n",
       "  </tbody>\n",
       "</table>\n",
       "</div>"
      ],
      "text/plain": [
       "  primer_nombre segundo_nombre  estatura(m) estudia  estatura(in)  apellido\n",
       "0          Juan          Pablo         1.50      No     59.055150   Fonseca\n",
       "1         Pedro      Sebastian         1.68      Si     66.141768   Rosales\n",
       "2         Luisa       Fernanda         1.80      Si     70.866180   Salomon\n",
       "3        Camila          Laura         1.70      No     66.929170  Martinez"
      ]
     },
     "execution_count": 28,
     "metadata": {},
     "output_type": "execute_result"
    }
   ],
   "source": [
    "df"
   ]
  },
  {
   "cell_type": "code",
   "execution_count": 29,
   "metadata": {},
   "outputs": [
    {
     "data": {
      "text/plain": [
       "(4, 6)"
      ]
     },
     "execution_count": 29,
     "metadata": {},
     "output_type": "execute_result"
    }
   ],
   "source": [
    "df.shape"
   ]
  },
  {
   "cell_type": "code",
   "execution_count": 30,
   "metadata": {},
   "outputs": [],
   "source": [
    "df[\"codigo\"]=[\"L1\",\"G2\",\"P1\",\"K2\"]"
   ]
  },
  {
   "cell_type": "code",
   "execution_count": 33,
   "metadata": {},
   "outputs": [],
   "source": [
    "df.set_index(\"codigo\",inplace=True)"
   ]
  },
  {
   "cell_type": "code",
   "execution_count": 34,
   "metadata": {},
   "outputs": [
    {
     "data": {
      "text/html": [
       "<div>\n",
       "<style scoped>\n",
       "    .dataframe tbody tr th:only-of-type {\n",
       "        vertical-align: middle;\n",
       "    }\n",
       "\n",
       "    .dataframe tbody tr th {\n",
       "        vertical-align: top;\n",
       "    }\n",
       "\n",
       "    .dataframe thead th {\n",
       "        text-align: right;\n",
       "    }\n",
       "</style>\n",
       "<table border=\"1\" class=\"dataframe\">\n",
       "  <thead>\n",
       "    <tr style=\"text-align: right;\">\n",
       "      <th></th>\n",
       "      <th>primer_nombre</th>\n",
       "      <th>segundo_nombre</th>\n",
       "      <th>estatura(m)</th>\n",
       "      <th>estudia</th>\n",
       "      <th>estatura(in)</th>\n",
       "      <th>apellido</th>\n",
       "    </tr>\n",
       "    <tr>\n",
       "      <th>codigo</th>\n",
       "      <th></th>\n",
       "      <th></th>\n",
       "      <th></th>\n",
       "      <th></th>\n",
       "      <th></th>\n",
       "      <th></th>\n",
       "    </tr>\n",
       "  </thead>\n",
       "  <tbody>\n",
       "    <tr>\n",
       "      <th>L1</th>\n",
       "      <td>Juan</td>\n",
       "      <td>Pablo</td>\n",
       "      <td>1.50</td>\n",
       "      <td>No</td>\n",
       "      <td>59.055150</td>\n",
       "      <td>Fonseca</td>\n",
       "    </tr>\n",
       "    <tr>\n",
       "      <th>G2</th>\n",
       "      <td>Pedro</td>\n",
       "      <td>Sebastian</td>\n",
       "      <td>1.68</td>\n",
       "      <td>Si</td>\n",
       "      <td>66.141768</td>\n",
       "      <td>Rosales</td>\n",
       "    </tr>\n",
       "    <tr>\n",
       "      <th>P1</th>\n",
       "      <td>Luisa</td>\n",
       "      <td>Fernanda</td>\n",
       "      <td>1.80</td>\n",
       "      <td>Si</td>\n",
       "      <td>70.866180</td>\n",
       "      <td>Salomon</td>\n",
       "    </tr>\n",
       "    <tr>\n",
       "      <th>K2</th>\n",
       "      <td>Camila</td>\n",
       "      <td>Laura</td>\n",
       "      <td>1.70</td>\n",
       "      <td>No</td>\n",
       "      <td>66.929170</td>\n",
       "      <td>Martinez</td>\n",
       "    </tr>\n",
       "  </tbody>\n",
       "</table>\n",
       "</div>"
      ],
      "text/plain": [
       "       primer_nombre segundo_nombre  estatura(m) estudia  estatura(in)  \\\n",
       "codigo                                                                   \n",
       "L1              Juan          Pablo         1.50      No     59.055150   \n",
       "G2             Pedro      Sebastian         1.68      Si     66.141768   \n",
       "P1             Luisa       Fernanda         1.80      Si     70.866180   \n",
       "K2            Camila          Laura         1.70      No     66.929170   \n",
       "\n",
       "        apellido  \n",
       "codigo            \n",
       "L1       Fonseca  \n",
       "G2       Rosales  \n",
       "P1       Salomon  \n",
       "K2      Martinez  "
      ]
     },
     "execution_count": 34,
     "metadata": {},
     "output_type": "execute_result"
    }
   ],
   "source": [
    "df"
   ]
  },
  {
   "cell_type": "code",
   "execution_count": null,
   "metadata": {},
   "outputs": [],
   "source": []
  }
 ],
 "metadata": {
  "kernelspec": {
   "display_name": "Python 3",
   "language": "python",
   "name": "python3"
  },
  "language_info": {
   "codemirror_mode": {
    "name": "ipython",
    "version": 3
   },
   "file_extension": ".py",
   "mimetype": "text/x-python",
   "name": "python",
   "nbconvert_exporter": "python",
   "pygments_lexer": "ipython3",
   "version": "3.7.0"
  }
 },
 "nbformat": 4,
 "nbformat_minor": 2
}
