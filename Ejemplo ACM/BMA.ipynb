{
 "cells": [
  {
   "cell_type": "markdown",
   "metadata": {},
   "source": [
    "# Análisis de canasta de mercado"
   ]
  },
  {
   "cell_type": "code",
   "execution_count": null,
   "metadata": {},
   "outputs": [],
   "source": [
    "# Importar librerías\n",
    "import numpy as np\n",
    "import matplotlib.pyplot as plt\n",
    "import pandas as pd\n",
    "from apyori import apriori"
   ]
  },
  {
   "cell_type": "code",
   "execution_count": null,
   "metadata": {},
   "outputs": [],
   "source": [
    "# Leer el dataset\n",
    "df = pd.read_excel('BMA.xlsx', header = None)"
   ]
  },
  {
   "cell_type": "code",
   "execution_count": null,
   "metadata": {},
   "outputs": [],
   "source": [
    "# Primeros 5 registros\n",
    "df.head()"
   ]
  },
  {
   "cell_type": "code",
   "execution_count": null,
   "metadata": {},
   "outputs": [],
   "source": [
    "# Convertir el dataframe a una lista de listas\n",
    "\n",
    "# Número de filas (transacciones)\n",
    "long = df.shape[0]\n",
    "\n",
    "# Número de columnas (ítems)\n",
    "max_items = df.shape[1]\n",
    "\n",
    "# Lista vacía\n",
    "transacciones = []\n",
    "\n",
    "# Llenado de la lista\n",
    "for i in range(long):\n",
    "    transacciones.append([str(df.values[i,j]) for j in range(max_items) if np.isnan(j)==False])\n"
   ]
  },
  {
   "cell_type": "code",
   "execution_count": null,
   "metadata": {},
   "outputs": [],
   "source": [
    "# Aplicación del algoritmo apriori\n",
    "# Está filtrado por valores mínimos\n",
    "#reglas = apriori(transacciones, min_support = 0.003, min_confidence = 0.2, \n",
    "                 #min_lift = 3, min_length = 2)\n",
    "reglas = apriori(transacciones)"
   ]
  },
  {
   "cell_type": "code",
   "execution_count": null,
   "metadata": {},
   "outputs": [],
   "source": [
    "# Impresión lista de reglas\n",
    "print(list(reglas))"
   ]
  },
  {
   "cell_type": "code",
   "execution_count": null,
   "metadata": {},
   "outputs": [],
   "source": [
    "# Explorar la regla Pañales --> Cerveza\n",
    "\n",
    "\"\"\"RelationRecord(items=frozenset({'Pañales', 'Cerveza'}), support=0.6, \n",
    "ordered_statistics=[OrderedStatistic(items_base=frozenset(), \n",
    "items_add=frozenset({'Pañales', 'Cerveza'}), \n",
    "confidence=0.6, lift=1.0), OrderedStatistic(items_base=frozenset({'Cerveza'}), \n",
    "items_add=frozenset({'Pañales'}), confidence=1.0, lift=1.25), \n",
    "OrderedStatistic(items_base=frozenset({'Pañales'}), items_add=frozenset({'Cerveza'}),\n",
    "confidence=0.7499999999999999, lift=1.2499999999999998)])\"\"\""
   ]
  },
  {
   "cell_type": "code",
   "execution_count": null,
   "metadata": {},
   "outputs": [],
   "source": []
  }
 ],
 "metadata": {
  "kernelspec": {
   "display_name": "Python 3",
   "language": "python",
   "name": "python3"
  },
  "language_info": {
   "codemirror_mode": {
    "name": "ipython",
    "version": 3
   },
   "file_extension": ".py",
   "mimetype": "text/x-python",
   "name": "python",
   "nbconvert_exporter": "python",
   "pygments_lexer": "ipython3",
   "version": "3.7.6"
  }
 },
 "nbformat": 4,
 "nbformat_minor": 4
}
